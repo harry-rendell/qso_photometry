{
 "cells": [
  {
   "cell_type": "code",
   "execution_count": 1,
   "metadata": {},
   "outputs": [],
   "source": [
    "# Code is working as of Jun 22"
   ]
  },
  {
   "cell_type": "code",
   "execution_count": 2,
   "metadata": {},
   "outputs": [],
   "source": [
    "import pandas as pd\n",
    "pd.options.mode.chained_assignment = None\n",
    "import numpy as np\n",
    "import matplotlib.pyplot as plt\n",
    "import matplotlib\n",
    "from multiprocessing import Pool\n",
    "import sys\n",
    "sys.path.append('../')"
   ]
  },
  {
   "cell_type": "code",
   "execution_count": 3,
   "metadata": {},
   "outputs": [],
   "source": [
    "from funcs.analysis.obj_survey import obj_survey\n",
    "from funcs.preprocessing.parse import intersection, filter_data\n",
    "from funcs.analysis.plotting import plot_magerr_hist, plot_mag_dist"
   ]
  },
  {
   "cell_type": "markdown",
   "metadata": {},
   "source": [
    "# Merging lcs from unaveraged data"
   ]
  },
  {
   "cell_type": "code",
   "execution_count": 4,
   "metadata": {},
   "outputs": [],
   "source": [
    "obj = 'calibStars'\n",
    "ID  = 'uid_s'\n",
    "# obj = 'qsos'\n",
    "# ID  = 'uid'"
   ]
  },
  {
   "cell_type": "code",
   "execution_count": 5,
   "metadata": {},
   "outputs": [],
   "source": [
    "nrows = None\n",
    "bounds={'mag_ps':(15,25),'magerr':(0,2)}"
   ]
  },
  {
   "cell_type": "code",
   "execution_count": 6,
   "metadata": {},
   "outputs": [],
   "source": [
    "colors = pd.read_csv('../../data/computed/{}/colors_sdss.csv'.format(obj), index_col=0)"
   ]
  },
  {
   "cell_type": "code",
   "execution_count": 7,
   "metadata": {},
   "outputs": [
    {
     "name": "stderr",
     "output_type": "stream",
     "text": [
      "/disk1/hrb/anaconda3/envs/astroconda/lib/python3.6/site-packages/numpy/lib/arraysetops.py:580: FutureWarning: elementwise comparison failed; returning scalar instead, but in the future will perform elementwise comparison\n",
      "  mask |= (ar1 == a)\n"
     ]
    },
    {
     "name": "stdout",
     "output_type": "stream",
     "text": [
      "num obs before: 43,204,592\n",
      "num obs after:  43,125,866\n"
     ]
    }
   ],
   "source": [
    "sdss = obj_survey('sdss', obj, ID)\n",
    "sdss.read_in_raw(nrows, melted=True, save=False)\n",
    "sdss.transform_to_ps(colors=colors, color='g-r', system='tonry')\n",
    "sdss.df = filter_data(sdss.df, bounds)#, bands = 'ugriz') # apply filter after transformation so any bad transformations are removed\n",
    "# sdss.residual_raw({'g':0.0148, 'r':0.0049, 'i':0.0198, 'z':0.042}) # apply residuals"
   ]
  },
  {
   "cell_type": "code",
   "execution_count": 8,
   "metadata": {},
   "outputs": [],
   "source": [
    "# def apply_max_z(group):\n",
    "#     mag = group['mag_ps'].values\n",
    "#     z = (mag-mag.mean())/mag.std()\n",
    "#     max_z = max(abs(z))\n",
    "#     return max_z"
   ]
  },
  {
   "cell_type": "code",
   "execution_count": 9,
   "metadata": {},
   "outputs": [
    {
     "name": "stderr",
     "output_type": "stream",
     "text": [
      "/disk1/hrb/anaconda3/envs/astroconda/lib/python3.6/site-packages/pandas/core/series.py:726: RuntimeWarning: invalid value encountered in log10\n",
      "  result = getattr(ufunc, method)(*inputs, **kwargs)\n"
     ]
    },
    {
     "name": "stdout",
     "output_type": "stream",
     "text": [
      "num obs before: 41,693,053\n",
      "num obs after:  41,676,220\n"
     ]
    }
   ],
   "source": [
    "ps = obj_survey('ps', obj, ID)\n",
    "ps.read_in_raw(nrows)\n",
    "ps.df['mag_ps'] = ps.df['mag']\n",
    "ps.df = filter_data(ps.df, bounds)"
   ]
  },
  {
   "cell_type": "code",
   "execution_count": 10,
   "metadata": {},
   "outputs": [
    {
     "name": "stdout",
     "output_type": "stream",
     "text": [
      "attempting parallel reading\n"
     ]
    },
    {
     "name": "stderr",
     "output_type": "stream",
     "text": [
      "/disk1/hrb/anaconda3/envs/astroconda/lib/python3.6/site-packages/numpy/lib/arraysetops.py:580: FutureWarning: elementwise comparison failed; returning scalar instead, but in the future will perform elementwise comparison\n",
      "  mask |= (ar1 == a)\n",
      "/disk1/hrb/anaconda3/envs/astroconda/lib/python3.6/site-packages/numpy/lib/arraysetops.py:580: FutureWarning: elementwise comparison failed; returning scalar instead, but in the future will perform elementwise comparison\n",
      "  mask |= (ar1 == a)\n",
      "/disk1/hrb/anaconda3/envs/astroconda/lib/python3.6/site-packages/numpy/lib/arraysetops.py:580: FutureWarning: elementwise comparison failed; returning scalar instead, but in the future will perform elementwise comparison\n",
      "  mask |= (ar1 == a)\n",
      "/disk1/hrb/anaconda3/envs/astroconda/lib/python3.6/site-packages/numpy/lib/arraysetops.py:580: FutureWarning: elementwise comparison failed; returning scalar instead, but in the future will perform elementwise comparison\n",
      "  mask |= (ar1 == a)\n"
     ]
    },
    {
     "name": "stdout",
     "output_type": "stream",
     "text": [
      "completed parallel reading\n",
      "num obs before: 62,056,352\n",
      "num obs after:  62,056,295\n"
     ]
    }
   ],
   "source": [
    "ztf = obj_survey('ztf', obj, ID)\n",
    "# ztf.pivot()\n",
    "ztf.read_in_raw(nrows)\n",
    "ztf.transform_to_ps(colors=colors)\n",
    "ztf.df = filter_data(ztf.df, bounds) # apply filter after transformation so any bad transformations are removed\n",
    "# ztf.residual_raw({'g':0.0074, 'r':-0.0099, 'i':0}) # apply residuals"
   ]
  },
  {
   "cell_type": "markdown",
   "metadata": {},
   "source": [
    "# group together observations with ∆t < 1 day?"
   ]
  },
  {
   "cell_type": "markdown",
   "metadata": {},
   "source": [
    "## Merge and save lightcurves"
   ]
  },
  {
   "cell_type": "code",
   "execution_count": 11,
   "metadata": {},
   "outputs": [],
   "source": [
    "sdss.df['catalogue'] = 5\n",
    "ps  .df['catalogue'] = 7\n",
    "ztf .df['catalogue'] = 11\n",
    "cols = ['mjd','mag','mag_ps','magerr','catalogue']\n",
    "master = pd.concat([sdss.df[cols].reset_index(), ps.df[cols].reset_index(), ztf.df[cols].reset_index()], axis = 0, ignore_index = True).astype({sdss.ID:'int'}).set_index(ID)"
   ]
  },
  {
   "cell_type": "code",
   "execution_count": 12,
   "metadata": {},
   "outputs": [
    {
     "data": {
      "text/html": [
       "<div>\n",
       "<style scoped>\n",
       "    .dataframe tbody tr th:only-of-type {\n",
       "        vertical-align: middle;\n",
       "    }\n",
       "\n",
       "    .dataframe tbody tr th {\n",
       "        vertical-align: top;\n",
       "    }\n",
       "\n",
       "    .dataframe thead th {\n",
       "        text-align: right;\n",
       "    }\n",
       "</style>\n",
       "<table border=\"1\" class=\"dataframe\">\n",
       "  <thead>\n",
       "    <tr style=\"text-align: right;\">\n",
       "      <th></th>\n",
       "      <th>filtercode</th>\n",
       "      <th>mjd</th>\n",
       "      <th>mag</th>\n",
       "      <th>mag_ps</th>\n",
       "      <th>magerr</th>\n",
       "      <th>catalogue</th>\n",
       "    </tr>\n",
       "    <tr>\n",
       "      <th>uid_s</th>\n",
       "      <th></th>\n",
       "      <th></th>\n",
       "      <th></th>\n",
       "      <th></th>\n",
       "      <th></th>\n",
       "      <th></th>\n",
       "    </tr>\n",
       "  </thead>\n",
       "  <tbody>\n",
       "    <tr>\n",
       "      <th>1</th>\n",
       "      <td>g</td>\n",
       "      <td>51465.129240</td>\n",
       "      <td>22.053910</td>\n",
       "      <td>21.859878</td>\n",
       "      <td>0.113186</td>\n",
       "      <td>5</td>\n",
       "    </tr>\n",
       "    <tr>\n",
       "      <th>1</th>\n",
       "      <td>r</td>\n",
       "      <td>51465.129240</td>\n",
       "      <td>20.783370</td>\n",
       "      <td>20.773518</td>\n",
       "      <td>0.054754</td>\n",
       "      <td>5</td>\n",
       "    </tr>\n",
       "    <tr>\n",
       "      <th>1</th>\n",
       "      <td>i</td>\n",
       "      <td>51465.129240</td>\n",
       "      <td>20.162650</td>\n",
       "      <td>20.150477</td>\n",
       "      <td>0.047815</td>\n",
       "      <td>5</td>\n",
       "    </tr>\n",
       "    <tr>\n",
       "      <th>1</th>\n",
       "      <td>z</td>\n",
       "      <td>51465.129240</td>\n",
       "      <td>20.158980</td>\n",
       "      <td>20.195187</td>\n",
       "      <td>0.181666</td>\n",
       "      <td>5</td>\n",
       "    </tr>\n",
       "    <tr>\n",
       "      <th>1</th>\n",
       "      <td>g</td>\n",
       "      <td>52053.425802</td>\n",
       "      <td>22.370310</td>\n",
       "      <td>22.145209</td>\n",
       "      <td>0.149446</td>\n",
       "      <td>5</td>\n",
       "    </tr>\n",
       "    <tr>\n",
       "      <th>...</th>\n",
       "      <td>...</td>\n",
       "      <td>...</td>\n",
       "      <td>...</td>\n",
       "      <td>...</td>\n",
       "      <td>...</td>\n",
       "      <td>...</td>\n",
       "    </tr>\n",
       "    <tr>\n",
       "      <th>1006830</th>\n",
       "      <td>r</td>\n",
       "      <td>58347.453947</td>\n",
       "      <td>21.370272</td>\n",
       "      <td>21.521317</td>\n",
       "      <td>0.229004</td>\n",
       "      <td>11</td>\n",
       "    </tr>\n",
       "    <tr>\n",
       "      <th>1006830</th>\n",
       "      <td>r</td>\n",
       "      <td>58345.497986</td>\n",
       "      <td>20.887083</td>\n",
       "      <td>21.025773</td>\n",
       "      <td>0.191271</td>\n",
       "      <td>11</td>\n",
       "    </tr>\n",
       "    <tr>\n",
       "      <th>1006830</th>\n",
       "      <td>r</td>\n",
       "      <td>58345.483426</td>\n",
       "      <td>21.027519</td>\n",
       "      <td>21.161656</td>\n",
       "      <td>0.202238</td>\n",
       "      <td>11</td>\n",
       "    </tr>\n",
       "    <tr>\n",
       "      <th>1006830</th>\n",
       "      <td>r</td>\n",
       "      <td>58368.442882</td>\n",
       "      <td>20.977371</td>\n",
       "      <td>21.137005</td>\n",
       "      <td>0.198322</td>\n",
       "      <td>11</td>\n",
       "    </tr>\n",
       "    <tr>\n",
       "      <th>1006830</th>\n",
       "      <td>r</td>\n",
       "      <td>58747.460764</td>\n",
       "      <td>20.802406</td>\n",
       "      <td>20.964057</td>\n",
       "      <td>0.184658</td>\n",
       "      <td>11</td>\n",
       "    </tr>\n",
       "  </tbody>\n",
       "</table>\n",
       "<p>146858381 rows × 6 columns</p>\n",
       "</div>"
      ],
      "text/plain": [
       "        filtercode           mjd        mag     mag_ps    magerr  catalogue\n",
       "uid_s                                                                      \n",
       "1                g  51465.129240  22.053910  21.859878  0.113186          5\n",
       "1                r  51465.129240  20.783370  20.773518  0.054754          5\n",
       "1                i  51465.129240  20.162650  20.150477  0.047815          5\n",
       "1                z  51465.129240  20.158980  20.195187  0.181666          5\n",
       "1                g  52053.425802  22.370310  22.145209  0.149446          5\n",
       "...            ...           ...        ...        ...       ...        ...\n",
       "1006830          r  58347.453947  21.370272  21.521317  0.229004         11\n",
       "1006830          r  58345.497986  20.887083  21.025773  0.191271         11\n",
       "1006830          r  58345.483426  21.027519  21.161656  0.202238         11\n",
       "1006830          r  58368.442882  20.977371  21.137005  0.198322         11\n",
       "1006830          r  58747.460764  20.802406  20.964057  0.184658         11\n",
       "\n",
       "[146858381 rows x 6 columns]"
      ]
     },
     "execution_count": 12,
     "metadata": {},
     "output_type": "execute_result"
    }
   ],
   "source": [
    "master"
   ]
  },
  {
   "cell_type": "code",
   "execution_count": 13,
   "metadata": {},
   "outputs": [],
   "source": [
    "# Remove objects with a single observation\n",
    "# faster to do .duplicated() ?\n",
    "value_counts = master.index.value_counts()\n",
    "uids = value_counts[value_counts==1].index\n",
    "master = master[~master.index.isin(uids)]"
   ]
  },
  {
   "cell_type": "code",
   "execution_count": 14,
   "metadata": {},
   "outputs": [],
   "source": [
    "# Drop nan mag entries\n",
    "master = master[~master['mag_ps'].isna()]"
   ]
  },
  {
   "cell_type": "code",
   "execution_count": 15,
   "metadata": {},
   "outputs": [],
   "source": [
    "master = master.sort_values([ID,'mjd'])"
   ]
  },
  {
   "cell_type": "code",
   "execution_count": 16,
   "metadata": {},
   "outputs": [],
   "source": [
    "# If we are getting 'cannot allocate memory' then do one at a time.\n",
    "# master = master[master['filtercode']=='r']"
   ]
  },
  {
   "cell_type": "code",
   "execution_count": 19,
   "metadata": {},
   "outputs": [],
   "source": [
    "# If we want split up bands\n",
    "def save(args):\n",
    "    i, chunk = args\n",
    "    chunk.to_csv('/disk1/hrb/python/data/merged/{}/{}_band/unclean/lc_{}.csv'.format(obj, band, i))\n",
    "\n",
    "for band in 'giz':\n",
    "    chunks = np.array_split(master[master['filtercode']==band].drop(columns='filtercode'),4)\n",
    "    if __name__ == '__main__':\n",
    "        pool = Pool(4)\n",
    "        pool.map(save, enumerate(chunks))"
   ]
  },
  {
   "cell_type": "code",
   "execution_count": 18,
   "metadata": {},
   "outputs": [],
   "source": [
    "# putting all bands in one, and splitting up by uid\n",
    "# if __name__ == '__main__':\n",
    "#     pool = Pool(4)\n",
    "#     chunks = enumerate([master.loc[:200000], master.loc[200001:320000], master.loc[320001:420000], master.loc[420001:]])\n",
    "#     pool.map(save, chunks)"
   ]
  }
 ],
 "metadata": {
  "kernelspec": {
   "display_name": "Python 3",
   "language": "python",
   "name": "python3"
  },
  "language_info": {
   "codemirror_mode": {
    "name": "ipython",
    "version": 3
   },
   "file_extension": ".py",
   "mimetype": "text/x-python",
   "name": "python",
   "nbconvert_exporter": "python",
   "pygments_lexer": "ipython3",
   "version": "3.6.13"
  },
  "varInspector": {
   "cols": {
    "lenName": 16,
    "lenType": 16,
    "lenVar": 40
   },
   "kernels_config": {
    "python": {
     "delete_cmd_postfix": "",
     "delete_cmd_prefix": "del ",
     "library": "var_list.py",
     "varRefreshCmd": "print(var_dic_list())"
    },
    "r": {
     "delete_cmd_postfix": ") ",
     "delete_cmd_prefix": "rm(",
     "library": "var_list.r",
     "varRefreshCmd": "cat(var_dic_list()) "
    }
   },
   "position": {
    "height": "569px",
    "left": "1553px",
    "right": "20px",
    "top": "113px",
    "width": "350px"
   },
   "types_to_exclude": [
    "module",
    "function",
    "builtin_function_or_method",
    "instance",
    "_Feature"
   ],
   "window_display": false
  }
 },
 "nbformat": 4,
 "nbformat_minor": 4
}
