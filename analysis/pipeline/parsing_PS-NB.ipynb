{
 "cells": [
  {
   "cell_type": "code",
   "execution_count": 2,
   "metadata": {},
   "outputs": [],
   "source": [
    "import pandas as pd\n",
    "import numpy as np\n",
    "from astropy.table import Table\n",
    "from astropy.io import ascii\n",
    "# from funcs.api_ps import retrieve_lightcurve_ps\n",
    "import matplotlib.pyplot as plt\n",
    "%matplotlib inline\n",
    "path = '/disk1/hrb/python/data/surveys/ps/'"
   ]
  },
  {
   "cell_type": "markdown",
   "metadata": {},
   "source": [
    "The query used to obtain this located in /queries/PS_nearby_search.txt and shown below. It finds all objects up to 2.4\" around the dr14qso catalogue coordinate pairs. If a neighbour was found in SDSS within 2.4\" then this is used as the upper bound of the search to prevent mismatching. "
   ]
  },
  {
   "cell_type": "raw",
   "metadata": {},
   "source": [
    "select\n",
    "q.uid as uid, o.objID as objID_ps, \n",
    "o.rra as ra_ps, o.rdec as dec_ps, \n",
    "q.ra_ref, q.dec_ref,\n",
    "nb.distance as sep,\n",
    "q.sep as sep_upper\n",
    "\n",
    "into mydb.PS_dr14q\n",
    "from mydb.dr14q_coords_unique q\n",
    "\n",
    "cross apply dbo.fGetNearbyObjEq(q.ra_ref, q.dec_ref, q.sep) as nb\n",
    "join StackObjectThin o on o.objid = nb.objid where o.primaryDetection = 1"
   ]
  },
  {
   "cell_type": "code",
   "execution_count": 3,
   "metadata": {},
   "outputs": [
    {
     "data": {
      "text/html": [
       "<div>\n",
       "<style scoped>\n",
       "    .dataframe tbody tr th:only-of-type {\n",
       "        vertical-align: middle;\n",
       "    }\n",
       "\n",
       "    .dataframe tbody tr th {\n",
       "        vertical-align: top;\n",
       "    }\n",
       "\n",
       "    .dataframe thead th {\n",
       "        text-align: right;\n",
       "    }\n",
       "</style>\n",
       "<table border=\"1\" class=\"dataframe\">\n",
       "  <thead>\n",
       "    <tr style=\"text-align: right;\">\n",
       "      <th></th>\n",
       "      <th>objID_ps</th>\n",
       "      <th>ra_ps</th>\n",
       "      <th>dec_ps</th>\n",
       "      <th>ra</th>\n",
       "      <th>dec</th>\n",
       "      <th>sep</th>\n",
       "    </tr>\n",
       "    <tr>\n",
       "      <th>uid_s</th>\n",
       "      <th></th>\n",
       "      <th></th>\n",
       "      <th></th>\n",
       "      <th></th>\n",
       "      <th></th>\n",
       "      <th></th>\n",
       "    </tr>\n",
       "  </thead>\n",
       "  <tbody>\n",
       "    <tr>\n",
       "      <th>52</th>\n",
       "      <td>106653085036468106</td>\n",
       "      <td>308.503658</td>\n",
       "      <td>-1.118597</td>\n",
       "      <td>308.503693</td>\n",
       "      <td>-1.118605</td>\n",
       "      <td>0.001564</td>\n",
       "    </tr>\n",
       "    <tr>\n",
       "      <th>56</th>\n",
       "      <td>106683085055196751</td>\n",
       "      <td>308.505527</td>\n",
       "      <td>-1.094732</td>\n",
       "      <td>308.505493</td>\n",
       "      <td>-1.094746</td>\n",
       "      <td>0.003102</td>\n",
       "    </tr>\n",
       "    <tr>\n",
       "      <th>60</th>\n",
       "      <td>106513085092773352</td>\n",
       "      <td>308.509278</td>\n",
       "      <td>-1.239227</td>\n",
       "      <td>308.509308</td>\n",
       "      <td>-1.239229</td>\n",
       "      <td>0.001151</td>\n",
       "    </tr>\n",
       "    <tr>\n",
       "      <th>63</th>\n",
       "      <td>106623085115055207</td>\n",
       "      <td>308.511494</td>\n",
       "      <td>-1.146008</td>\n",
       "      <td>308.511505</td>\n",
       "      <td>-1.146013</td>\n",
       "      <td>0.001186</td>\n",
       "    </tr>\n",
       "    <tr>\n",
       "      <th>75</th>\n",
       "      <td>106513085246816157</td>\n",
       "      <td>308.524690</td>\n",
       "      <td>-1.236875</td>\n",
       "      <td>308.524689</td>\n",
       "      <td>-1.236883</td>\n",
       "      <td>0.000981</td>\n",
       "    </tr>\n",
       "  </tbody>\n",
       "</table>\n",
       "</div>"
      ],
      "text/plain": [
       "                 objID_ps       ra_ps    dec_ps          ra       dec  \\\n",
       "uid_s                                                                   \n",
       "52     106653085036468106  308.503658 -1.118597  308.503693 -1.118605   \n",
       "56     106683085055196751  308.505527 -1.094732  308.505493 -1.094746   \n",
       "60     106513085092773352  308.509278 -1.239227  308.509308 -1.239229   \n",
       "63     106623085115055207  308.511494 -1.146008  308.511505 -1.146013   \n",
       "75     106513085246816157  308.524690 -1.236875  308.524689 -1.236883   \n",
       "\n",
       "            sep  \n",
       "uid_s            \n",
       "52     0.001564  \n",
       "56     0.003102  \n",
       "60     0.001151  \n",
       "63     0.001186  \n",
       "75     0.000981  "
      ]
     },
     "execution_count": 3,
     "metadata": {},
     "output_type": "execute_result"
    }
   ],
   "source": [
    "ps_data = pd.read_csv(path + 'calibStars_psoids.csv',float_precision = 'round trip', index_col=0)\n",
    "ps_data.head()"
   ]
  },
  {
   "cell_type": "markdown",
   "metadata": {},
   "source": [
    "We are querying StackObjectThin thus we expect a one to one match, however, sometimes additional IDs are returned. We filter these out. There are about 421 of these duplicates."
   ]
  },
  {
   "cell_type": "code",
   "execution_count": 4,
   "metadata": {},
   "outputs": [
    {
     "name": "stdout",
     "output_type": "stream",
     "text": [
      "Before dropping: (614276, 6)\n",
      "After dropping:  (611799, 6)\n"
     ]
    }
   ],
   "source": [
    "print('Before dropping:',ps_data.shape)\n",
    "ps_data.drop_duplicates(subset = 'objID_ps',inplace = True)\n",
    "print('After dropping: ',ps_data.shape)"
   ]
  },
  {
   "cell_type": "markdown",
   "metadata": {},
   "source": [
    "Let's look at the neighbours we picked up."
   ]
  },
  {
   "cell_type": "code",
   "execution_count": 7,
   "metadata": {},
   "outputs": [],
   "source": [
    "ps_dup = ps_data[ps_data.index.duplicated(keep = False)]"
   ]
  },
  {
   "cell_type": "code",
   "execution_count": 9,
   "metadata": {},
   "outputs": [
    {
     "data": {
      "image/png": "[encoded data removed]",
      "text/plain": [
       "<Figure size 432x288 with 1 Axes>"
      ]
     },
     "metadata": {
      "needs_background": "light"
     },
     "output_type": "display_data"
    }
   ],
   "source": [
    "ps_dup = ps_dup.sort_values('sep')\n",
    "mask = ps_dup.index.duplicated(keep = 'first')\n",
    "primary   = ps_dup[~mask]\n",
    "plt.hist(primary['sep'],bins = 100);\n",
    "# secondary = ps_dup[mask].drop_duplicates(subset = 'uid', keep = 'first') # find neighbours and get rid of additional neighbours"
   ]
  },
  {
   "cell_type": "code",
   "execution_count": 9,
   "metadata": {},
   "outputs": [],
   "source": [
    "# Finding mismatched objects\n",
    "# prim_sec = pd.merge(  primary[['uid','ra_ps','dec_ps','objID_ps','sep','sep_upper']],\n",
    "#                     secondary[['uid','ra_ps','dec_ps','objID_ps','sep','sep_upper']], on='uid', suffixes = ('_p','_s'))\n",
    "# prim_sec['sep_diff_arcsec'] = (prim_sec.sep_s - prim_sec.sep_p)*60.0\n",
    "# plt.figure(figsize=(15, 4))\n",
    "# plt.xticks(np.linspace(0,2.5,26))\n",
    "# plt.hist(prim_sec['sep_diff'], bins = 70);"
   ]
  },
  {
   "cell_type": "markdown",
   "metadata": {},
   "source": [
    "There are about 30 objects (ones with sep_diff < ~0.3 arcsec) which did not stack properly - these have duplicate object IDs, however it is much smaller than our entire sample so we will just use a single objID, whichever has a closer ra,dec to the reference coords. Run the code above to see this."
   ]
  },
  {
   "cell_type": "code",
   "execution_count": null,
   "metadata": {},
   "outputs": [],
   "source": [
    "#loop this over all objID_ps in batches of ~20, with error exception \n",
    "dcolumns = dcolumns = (\"\"\"objID,filterID,obsTime,psfFlux,psfFluxErr\"\"\").split(',')\n",
    "retrieve_lightcurve_ps(primary['objID_ps'][:20])"
   ]
  },
  {
   "cell_type": "markdown",
   "metadata": {},
   "source": [
    "#TODO\n",
    "primary.to_csv - merge with SDSS ids. Get all SDSS observations in one table"
   ]
  }
 ],
 "metadata": {
  "kernelspec": {
   "display_name": "Python 3",
   "language": "python",
   "name": "python3"
  },
  "language_info": {
   "codemirror_mode": {
    "name": "ipython",
    "version": 3
   },
   "file_extension": ".py",
   "mimetype": "text/x-python",
   "name": "python",
   "nbconvert_exporter": "python",
   "pygments_lexer": "ipython3",
   "version": "3.6.13"
  },
  "varInspector": {
   "cols": {
    "lenName": 16,
    "lenType": 16,
    "lenVar": 40
   },
   "kernels_config": {
    "python": {
     "delete_cmd_postfix": "",
     "delete_cmd_prefix": "del ",
     "library": "var_list.py",
     "varRefreshCmd": "print(var_dic_list())"
    },
    "r": {
     "delete_cmd_postfix": ") ",
     "delete_cmd_prefix": "rm(",
     "library": "var_list.r",
     "varRefreshCmd": "cat(var_dic_list()) "
    }
   },
   "types_to_exclude": [
    "module",
    "function",
    "builtin_function_or_method",
    "instance",
    "_Feature"
   ],
   "window_display": false
  }
 },
 "nbformat": 4,
 "nbformat_minor": 4
}
