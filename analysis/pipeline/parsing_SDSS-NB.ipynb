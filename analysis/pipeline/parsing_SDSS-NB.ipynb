{
 "cells": [
  {
   "cell_type": "code",
   "execution_count": 54,
   "metadata": {},
   "outputs": [],
   "source": [
    "import pandas as pd\n",
    "import numpy as np\n",
    "import matplotlib.pyplot as plt\n",
    "path = '/disk1/hrb/python/'\n",
    "obj = 'qsos'\n",
    "ID = 'uid'"
   ]
  },
  {
   "cell_type": "markdown",
   "metadata": {},
   "source": [
    "Query used to obtain data (context = DR16):"
   ]
  },
  {
   "cell_type": "raw",
   "metadata": {},
   "source": [
    "select\n",
    "\n",
    "q.uid as uid, p.objID, \n",
    "p.ra as ra, p.dec as dec,\n",
    "q.ra as ra_ref, q.dec as dec_ref,\n",
    "s.class as class,\n",
    "nb.distance as get_nearby_distance\n",
    "\n",
    "into mydb.dr14q_nearby_w_class\n",
    "from mydb.dr14q_uid_coords q\n",
    "cross apply dbo.fGetNearbyObjEq(q.ra, q.dec, 0.05) as nb\n",
    "\n",
    "join PhotoPrimary p on p.objid=nb.objid\n",
    "join specobj as s on s.bestobjid=p.objid"
   ]
  },
  {
   "cell_type": "code",
   "execution_count": 21,
   "metadata": {},
   "outputs": [],
   "source": [
    "datatype = {'uid': np.uint32,   'objID'  : np.uint64, \n",
    "            'ra' : np.float128, 'ra_ref' : np.float128,\n",
    "            'dec': np.float128, 'dec_ref': np.float128,\n",
    "            'get_nearby_distance': np.float64}\n",
    "\n",
    "sdss_data = pd.read_csv(path + 'data/retrieved_data/dr14q_nearby_3arcsec_class.csv', dtype = datatype, float_precision = 'round trip')"
   ]
  },
  {
   "cell_type": "code",
   "execution_count": 22,
   "metadata": {},
   "outputs": [
    {
     "name": "stdout",
     "output_type": "stream",
     "text": [
      "shape: (525676, 8)\n"
     ]
    },
    {
     "data": {
      "text/html": [
       "<div>\n",
       "<style scoped>\n",
       "    .dataframe tbody tr th:only-of-type {\n",
       "        vertical-align: middle;\n",
       "    }\n",
       "\n",
       "    .dataframe tbody tr th {\n",
       "        vertical-align: top;\n",
       "    }\n",
       "\n",
       "    .dataframe thead th {\n",
       "        text-align: right;\n",
       "    }\n",
       "</style>\n",
       "<table border=\"1\" class=\"dataframe\">\n",
       "  <thead>\n",
       "    <tr style=\"text-align: right;\">\n",
       "      <th></th>\n",
       "      <th>uid</th>\n",
       "      <th>objID</th>\n",
       "      <th>ra</th>\n",
       "      <th>dec</th>\n",
       "      <th>ra_ref</th>\n",
       "      <th>dec_ref</th>\n",
       "      <th>class</th>\n",
       "      <th>get_nearby_distance</th>\n",
       "    </tr>\n",
       "  </thead>\n",
       "  <tbody>\n",
       "    <tr>\n",
       "      <th>0</th>\n",
       "      <td>1</td>\n",
       "      <td>1237678601842131080</td>\n",
       "      <td>0.001898</td>\n",
       "      <td>17.773739</td>\n",
       "      <td>0.001898</td>\n",
       "      <td>17.773740</td>\n",
       "      <td>QSO</td>\n",
       "      <td>1.576124e-05</td>\n",
       "    </tr>\n",
       "    <tr>\n",
       "      <th>1</th>\n",
       "      <td>2</td>\n",
       "      <td>1237678663034601961</td>\n",
       "      <td>0.002375</td>\n",
       "      <td>5.941903</td>\n",
       "      <td>0.002375</td>\n",
       "      <td>5.941903</td>\n",
       "      <td>QSO</td>\n",
       "      <td>6.527728e-06</td>\n",
       "    </tr>\n",
       "    <tr>\n",
       "      <th>2</th>\n",
       "      <td>3</td>\n",
       "      <td>1237656495650570598</td>\n",
       "      <td>0.002756</td>\n",
       "      <td>14.974675</td>\n",
       "      <td>0.002756</td>\n",
       "      <td>14.974680</td>\n",
       "      <td>QSO</td>\n",
       "      <td>1.843779e-05</td>\n",
       "    </tr>\n",
       "    <tr>\n",
       "      <th>3</th>\n",
       "      <td>4</td>\n",
       "      <td>1237678777404358776</td>\n",
       "      <td>0.004052</td>\n",
       "      <td>4.829781</td>\n",
       "      <td>0.004052</td>\n",
       "      <td>4.829781</td>\n",
       "      <td>QSO</td>\n",
       "      <td>9.650179e-07</td>\n",
       "    </tr>\n",
       "    <tr>\n",
       "      <th>4</th>\n",
       "      <td>5</td>\n",
       "      <td>1237666308022010256</td>\n",
       "      <td>0.005026</td>\n",
       "      <td>24.065163</td>\n",
       "      <td>0.005026</td>\n",
       "      <td>24.065160</td>\n",
       "      <td>QSO</td>\n",
       "      <td>7.748738e-06</td>\n",
       "    </tr>\n",
       "  </tbody>\n",
       "</table>\n",
       "</div>"
      ],
      "text/plain": [
       "   uid                objID        ra        dec    ra_ref    dec_ref class  \\\n",
       "0    1  1237678601842131080  0.001898  17.773739  0.001898  17.773740   QSO   \n",
       "1    2  1237678663034601961  0.002375   5.941903  0.002375   5.941903   QSO   \n",
       "2    3  1237656495650570598  0.002756  14.974675  0.002756  14.974680   QSO   \n",
       "3    4  1237678777404358776  0.004052   4.829781  0.004052   4.829781   QSO   \n",
       "4    5  1237666308022010256  0.005026  24.065163  0.005026  24.065160   QSO   \n",
       "\n",
       "   get_nearby_distance  \n",
       "0         1.576124e-05  \n",
       "1         6.527728e-06  \n",
       "2         1.843779e-05  \n",
       "3         9.650179e-07  \n",
       "4         7.748738e-06  "
      ]
     },
     "execution_count": 22,
     "metadata": {},
     "output_type": "execute_result"
    }
   ],
   "source": [
    "print('shape:',sdss_data.shape)\n",
    "sdss_data.head()"
   ]
  },
  {
   "cell_type": "code",
   "execution_count": 65,
   "metadata": {},
   "outputs": [
    {
     "data": {
      "text/plain": [
       "<AxesSubplot:>"
      ]
     },
     "execution_count": 65,
     "metadata": {},
     "output_type": "execute_result"
    },
    {
     "data": {
      "image/png": "[encoded data removed]",
      "text/plain": [
       "<Figure size 432x288 with 1 Axes>"
      ]
     },
     "metadata": {
      "needs_background": "light"
     },
     "output_type": "display_data"
    }
   ],
   "source": [
    "sdss_data['dec'].hist(bins=100)"
   ]
  },
  {
   "cell_type": "code",
   "execution_count": 23,
   "metadata": {},
   "outputs": [],
   "source": [
    "#For some reason, duplicate rows are returned. Drop these.\n",
    "sdss_data.drop_duplicates(subset = ['ra','dec'], keep = 'first', inplace = True)\n",
    "sdss_data.sort_values('get_nearby_distance',inplace = True)\n",
    "assert sdss_data['objID'].is_unique, 'objID is not unique'"
   ]
  },
  {
   "cell_type": "code",
   "execution_count": 24,
   "metadata": {},
   "outputs": [
    {
     "data": {
      "text/html": [
       "<div>\n",
       "<style scoped>\n",
       "    .dataframe tbody tr th:only-of-type {\n",
       "        vertical-align: middle;\n",
       "    }\n",
       "\n",
       "    .dataframe tbody tr th {\n",
       "        vertical-align: top;\n",
       "    }\n",
       "\n",
       "    .dataframe thead th {\n",
       "        text-align: right;\n",
       "    }\n",
       "</style>\n",
       "<table border=\"1\" class=\"dataframe\">\n",
       "  <thead>\n",
       "    <tr style=\"text-align: right;\">\n",
       "      <th></th>\n",
       "      <th>uid</th>\n",
       "      <th>objID</th>\n",
       "      <th>ra</th>\n",
       "      <th>dec</th>\n",
       "      <th>ra_ref</th>\n",
       "      <th>dec_ref</th>\n",
       "      <th>class</th>\n",
       "      <th>get_nearby_distance</th>\n",
       "      <th>objID_nb</th>\n",
       "      <th>ra_nb</th>\n",
       "      <th>dec_nb</th>\n",
       "      <th>class_nb</th>\n",
       "      <th>get_nearby_distance_nb</th>\n",
       "    </tr>\n",
       "  </thead>\n",
       "  <tbody>\n",
       "    <tr>\n",
       "      <th>0</th>\n",
       "      <td>44979</td>\n",
       "      <td>1237657066329407639</td>\n",
       "      <td>17.004847</td>\n",
       "      <td>-2.496444</td>\n",
       "      <td>17.004850</td>\n",
       "      <td>-2.496444</td>\n",
       "      <td>QSO</td>\n",
       "      <td>1.659130e-09</td>\n",
       "      <td>NaN</td>\n",
       "      <td>NaN</td>\n",
       "      <td>NaN</td>\n",
       "      <td>NaN</td>\n",
       "      <td>NaN</td>\n",
       "    </tr>\n",
       "    <tr>\n",
       "      <th>1</th>\n",
       "      <td>1243</td>\n",
       "      <td>1237678619565555830</td>\n",
       "      <td>0.489339</td>\n",
       "      <td>3.029907</td>\n",
       "      <td>0.489339</td>\n",
       "      <td>3.029907</td>\n",
       "      <td>QSO</td>\n",
       "      <td>1.163616e-08</td>\n",
       "      <td>NaN</td>\n",
       "      <td>NaN</td>\n",
       "      <td>NaN</td>\n",
       "      <td>NaN</td>\n",
       "      <td>NaN</td>\n",
       "    </tr>\n",
       "    <tr>\n",
       "      <th>2</th>\n",
       "      <td>305</td>\n",
       "      <td>1237669516368150897</td>\n",
       "      <td>0.109669</td>\n",
       "      <td>6.266202</td>\n",
       "      <td>0.109669</td>\n",
       "      <td>6.266202</td>\n",
       "      <td>QSO</td>\n",
       "      <td>1.191645e-08</td>\n",
       "      <td>NaN</td>\n",
       "      <td>NaN</td>\n",
       "      <td>NaN</td>\n",
       "      <td>NaN</td>\n",
       "      <td>NaN</td>\n",
       "    </tr>\n",
       "    <tr>\n",
       "      <th>3</th>\n",
       "      <td>1930</td>\n",
       "      <td>1237663277928088243</td>\n",
       "      <td>0.766056</td>\n",
       "      <td>0.579586</td>\n",
       "      <td>0.766056</td>\n",
       "      <td>0.579586</td>\n",
       "      <td>QSO</td>\n",
       "      <td>4.109011e-08</td>\n",
       "      <td>NaN</td>\n",
       "      <td>NaN</td>\n",
       "      <td>NaN</td>\n",
       "      <td>NaN</td>\n",
       "      <td>NaN</td>\n",
       "    </tr>\n",
       "    <tr>\n",
       "      <th>4</th>\n",
       "      <td>310</td>\n",
       "      <td>1237657190905282924</td>\n",
       "      <td>0.111075</td>\n",
       "      <td>-0.196565</td>\n",
       "      <td>0.111075</td>\n",
       "      <td>-0.196565</td>\n",
       "      <td>QSO</td>\n",
       "      <td>4.180911e-08</td>\n",
       "      <td>NaN</td>\n",
       "      <td>NaN</td>\n",
       "      <td>NaN</td>\n",
       "      <td>NaN</td>\n",
       "      <td>NaN</td>\n",
       "    </tr>\n",
       "  </tbody>\n",
       "</table>\n",
       "</div>"
      ],
      "text/plain": [
       "     uid                objID         ra       dec     ra_ref   dec_ref class  \\\n",
       "0  44979  1237657066329407639  17.004847 -2.496444  17.004850 -2.496444   QSO   \n",
       "1   1243  1237678619565555830   0.489339  3.029907   0.489339  3.029907   QSO   \n",
       "2    305  1237669516368150897   0.109669  6.266202   0.109669  6.266202   QSO   \n",
       "3   1930  1237663277928088243   0.766056  0.579586   0.766056  0.579586   QSO   \n",
       "4    310  1237657190905282924   0.111075 -0.196565   0.111075 -0.196565   QSO   \n",
       "\n",
       "   get_nearby_distance  objID_nb  ra_nb  dec_nb class_nb  \\\n",
       "0         1.659130e-09       NaN    NaN     NaN      NaN   \n",
       "1         1.163616e-08       NaN    NaN     NaN      NaN   \n",
       "2         1.191645e-08       NaN    NaN     NaN      NaN   \n",
       "3         4.109011e-08       NaN    NaN     NaN      NaN   \n",
       "4         4.180911e-08       NaN    NaN     NaN      NaN   \n",
       "\n",
       "   get_nearby_distance_nb  \n",
       "0                     NaN  \n",
       "1                     NaN  \n",
       "2                     NaN  \n",
       "3                     NaN  \n",
       "4                     NaN  "
      ]
     },
     "execution_count": 24,
     "metadata": {},
     "output_type": "execute_result"
    }
   ],
   "source": [
    "mask = sdss_data.duplicated(subset = 'uid',keep = 'first')\n",
    "sdss_qso = sdss_data[~mask]\n",
    "sdss_nb  = sdss_data[mask][['uid','objID','ra','dec','class','get_nearby_distance']]\n",
    "#removes other, further, neighbours\n",
    "sdss_nb.drop_duplicates(subset = 'uid',inplace = True)\n",
    "merged = pd.merge(sdss_qso,sdss_nb, on = 'uid', how = 'left', suffixes = ('','_nb'))\n",
    "#Keep objects that have class == QSO or have <0.3\" sep to reference coords (0.3\" and 1\" give the same thing - sanity check)\n",
    "merged = merged[(merged['class'] == 'QSO') | (merged['get_nearby_distance'] < 0.005)]\n",
    "merged.head()\n",
    "#Merged is a table containing the matched objects and their closest neighbour (if there is one within 3\", o/w NaN)\n",
    "\n",
    "#WARNING\n",
    "# Class  | number | % of total\n",
    "# ----------------------------\n",
    "# QSO    | 524111 | 99.73093573\n",
    "# Galaxy | 1173   | 0.22320537\n",
    "# Star   | 241    | 0.0458589\n",
    "# Total  | 525525 | 1"
   ]
  },
  {
   "cell_type": "code",
   "execution_count": 25,
   "metadata": {},
   "outputs": [],
   "source": [
    "#Merge sdss qsos with our original dr14q list\n",
    "dr14q_coords = pd.read_csv(path + 'data/catalogues/qsos/dr14q/dr14q_uid_coords.csv', dtype = {'ra': np.float128, 'dec': np.float128, 'uid': np.uint64})\n",
    "merged.sort_values('uid',inplace = True)\n",
    "\n",
    "new_search = merged[['uid','class','get_nearby_distance_nb']]\n",
    "new_search_dr14q = pd.merge(dr14q_coords, new_search, how = 'left', on = 'uid')\n",
    "new_search_dr14q = new_search_dr14q.fillna(0.05)\n",
    "new_search_dr14q['get_nearby_distance_nb'] += -0.01\n",
    "new_search_dr14q = new_search_dr14q.rename(columns={'get_nearby_distance_nb': 'sep'})\n",
    "\n",
    "#We join the upper search limit onto our original dr14q_coords list to prevent getting neighbours.\n",
    "#Save this as dr14q_coords_unique.csv\n",
    "drqsdss = pd.merge(dr14q_coords, merged[['uid','objID','class']], how = 'left', on = 'uid')\n",
    "drqsdss.fillna(0.0, inplace = True)\n",
    "drqsdss = drqsdss.astype({'objID': 'int64'})\n",
    "# drqsdss.to_csv(path + 'coords/dr14q_coords_unique.csv', index = False)"
   ]
  },
  {
   "cell_type": "code",
   "execution_count": 26,
   "metadata": {},
   "outputs": [],
   "source": [
    "sdss_dr14q_filtered = merged[['uid','objID','ra_ref','dec_ref','get_nearby_distance_nb']]\n",
    "sdss_dr14q_filtered = sdss_dr14q_filtered.fillna(0.05)\n",
    "sdss_dr14q_filtered['get_nearby_distance_nb'] += -0.01 # subtract a small amount from the upper search radius to prevent picking neighbours.\n",
    "#remove 4 qsos because they don't match up"
   ]
  },
  {
   "cell_type": "code",
   "execution_count": 28,
   "metadata": {},
   "outputs": [
    {
     "data": {
      "text/html": [
       "<div>\n",
       "<style scoped>\n",
       "    .dataframe tbody tr th:only-of-type {\n",
       "        vertical-align: middle;\n",
       "    }\n",
       "\n",
       "    .dataframe tbody tr th {\n",
       "        vertical-align: top;\n",
       "    }\n",
       "\n",
       "    .dataframe thead th {\n",
       "        text-align: right;\n",
       "    }\n",
       "</style>\n",
       "<table border=\"1\" class=\"dataframe\">\n",
       "  <thead>\n",
       "    <tr style=\"text-align: right;\">\n",
       "      <th></th>\n",
       "      <th>uid</th>\n",
       "      <th>objID</th>\n",
       "      <th>ra_ref</th>\n",
       "      <th>dec_ref</th>\n",
       "      <th>get_nearby_distance_nb</th>\n",
       "    </tr>\n",
       "  </thead>\n",
       "  <tbody>\n",
       "    <tr>\n",
       "      <th>30555</th>\n",
       "      <td>1</td>\n",
       "      <td>1237678601842131080</td>\n",
       "      <td>0.001898</td>\n",
       "      <td>17.773740</td>\n",
       "      <td>0.04</td>\n",
       "    </tr>\n",
       "    <tr>\n",
       "      <th>10747</th>\n",
       "      <td>2</td>\n",
       "      <td>1237678663034601961</td>\n",
       "      <td>0.002375</td>\n",
       "      <td>5.941903</td>\n",
       "      <td>0.04</td>\n",
       "    </tr>\n",
       "    <tr>\n",
       "      <th>35634</th>\n",
       "      <td>3</td>\n",
       "      <td>1237656495650570598</td>\n",
       "      <td>0.002756</td>\n",
       "      <td>14.974680</td>\n",
       "      <td>0.04</td>\n",
       "    </tr>\n",
       "    <tr>\n",
       "      <th>706</th>\n",
       "      <td>4</td>\n",
       "      <td>1237678777404358776</td>\n",
       "      <td>0.004052</td>\n",
       "      <td>4.829781</td>\n",
       "      <td>0.04</td>\n",
       "    </tr>\n",
       "    <tr>\n",
       "      <th>13477</th>\n",
       "      <td>5</td>\n",
       "      <td>1237666308022010256</td>\n",
       "      <td>0.005026</td>\n",
       "      <td>24.065160</td>\n",
       "      <td>0.04</td>\n",
       "    </tr>\n",
       "    <tr>\n",
       "      <th>...</th>\n",
       "      <td>...</td>\n",
       "      <td>...</td>\n",
       "      <td>...</td>\n",
       "      <td>...</td>\n",
       "      <td>...</td>\n",
       "    </tr>\n",
       "    <tr>\n",
       "      <th>242486</th>\n",
       "      <td>526352</td>\n",
       "      <td>1237663233915355603</td>\n",
       "      <td>359.999100</td>\n",
       "      <td>28.954730</td>\n",
       "      <td>0.04</td>\n",
       "    </tr>\n",
       "    <tr>\n",
       "      <th>380577</th>\n",
       "      <td>526353</td>\n",
       "      <td>1237663235523478042</td>\n",
       "      <td>359.999300</td>\n",
       "      <td>34.720840</td>\n",
       "      <td>0.04</td>\n",
       "    </tr>\n",
       "    <tr>\n",
       "      <th>495607</th>\n",
       "      <td>526354</td>\n",
       "      <td>1237678598090457176</td>\n",
       "      <td>359.999600</td>\n",
       "      <td>3.268586</td>\n",
       "      <td>0.04</td>\n",
       "    </tr>\n",
       "    <tr>\n",
       "      <th>281131</th>\n",
       "      <td>526355</td>\n",
       "      <td>1237680247351279916</td>\n",
       "      <td>359.999800</td>\n",
       "      <td>20.721080</td>\n",
       "      <td>0.04</td>\n",
       "    </tr>\n",
       "    <tr>\n",
       "      <th>499539</th>\n",
       "      <td>526356</td>\n",
       "      <td>1237663235523477803</td>\n",
       "      <td>359.999900</td>\n",
       "      <td>34.747140</td>\n",
       "      <td>0.04</td>\n",
       "    </tr>\n",
       "  </tbody>\n",
       "</table>\n",
       "<p>525525 rows × 5 columns</p>\n",
       "</div>"
      ],
      "text/plain": [
       "           uid                objID      ra_ref    dec_ref  \\\n",
       "30555        1  1237678601842131080    0.001898  17.773740   \n",
       "10747        2  1237678663034601961    0.002375   5.941903   \n",
       "35634        3  1237656495650570598    0.002756  14.974680   \n",
       "706          4  1237678777404358776    0.004052   4.829781   \n",
       "13477        5  1237666308022010256    0.005026  24.065160   \n",
       "...        ...                  ...         ...        ...   \n",
       "242486  526352  1237663233915355603  359.999100  28.954730   \n",
       "380577  526353  1237663235523478042  359.999300  34.720840   \n",
       "495607  526354  1237678598090457176  359.999600   3.268586   \n",
       "281131  526355  1237680247351279916  359.999800  20.721080   \n",
       "499539  526356  1237663235523477803  359.999900  34.747140   \n",
       "\n",
       "        get_nearby_distance_nb  \n",
       "30555                     0.04  \n",
       "10747                     0.04  \n",
       "35634                     0.04  \n",
       "706                       0.04  \n",
       "13477                     0.04  \n",
       "...                        ...  \n",
       "242486                    0.04  \n",
       "380577                    0.04  \n",
       "495607                    0.04  \n",
       "281131                    0.04  \n",
       "499539                    0.04  \n",
       "\n",
       "[525525 rows x 5 columns]"
      ]
     },
     "execution_count": 28,
     "metadata": {},
     "output_type": "execute_result"
    }
   ],
   "source": [
    "sdss_dr14q_filtered.to_csv(path + 'data/catalogues/qsos/dr14q/sdss_secondary_search_coords.csv', index = False)\n",
    "sdss_dr14q_filtered"
   ]
  },
  {
   "cell_type": "code",
   "execution_count": 45,
   "metadata": {},
   "outputs": [
    {
     "data": {
      "text/plain": [
       "514595    0.019897\n",
       "223336    0.022931\n",
       "71916     0.023427\n",
       "76420     0.023441\n",
       "289640    0.023664\n",
       "            ...   \n",
       "299213    0.040000\n",
       "329116    0.040000\n",
       "399855    0.040000\n",
       "250073    0.040000\n",
       "499539    0.040000\n",
       "Name: get_nearby_distance_nb, Length: 525525, dtype: float64"
      ]
     },
     "execution_count": 45,
     "metadata": {},
     "output_type": "execute_result"
    }
   ],
   "source": [
    "sdss_dr14q_filtered['get_nearby_distance_nb'].sort_values()"
   ]
  },
  {
   "cell_type": "code",
   "execution_count": 29,
   "metadata": {},
   "outputs": [
    {
     "data": {
      "text/plain": [
       "[None]"
      ]
     },
     "execution_count": 29,
     "metadata": {},
     "output_type": "execute_result"
    },
    {
     "data": {
      "image/png": "[encoded data removed]",
      "text/plain": [
       "<Figure size 432x288 with 1 Axes>"
      ]
     },
     "metadata": {
      "needs_background": "light"
     },
     "output_type": "display_data"
    }
   ],
   "source": [
    "# Distribution of search radius\n",
    "fig, ax = plt.subplots()\n",
    "sdss_dr14q_filtered['get_nearby_distance_nb'].hist(bins=100, ax=ax)\n",
    "ax.set(yscale='log')"
   ]
  },
  {
   "cell_type": "markdown",
   "metadata": {},
   "source": [
    "# Parsing secondary observations"
   ]
  },
  {
   "cell_type": "markdown",
   "metadata": {},
   "source": [
    "Query used to find secondary observations:\n"
   ]
  },
  {
   "cell_type": "raw",
   "metadata": {},
   "source": [
    "select\n",
    "\n",
    "q.uid as uid, p.objID,\n",
    "q.ra, q.dec,\n",
    "nb.distance as get_nearby_distance,\n",
    "\n",
    "p.psfMag_u as upsf, p.psfMagErr_u as upsferr,\n",
    "p.psfMag_g as gpsf, p.psfMagErr_g as gpsferr,\n",
    "p.psfMag_r as rpsf, p.psfMagErr_r as rpsferr,\n",
    "p.psfMag_i as ipsf, p.psfMagErr_i as ipsferr,\n",
    "p.psfMag_z as zpsf, p.psfMagErr_z as zpsferr,\n",
    "f.mjd_r\n",
    "\n",
    "into mydb.dr14q_secondary\n",
    "from mydb.dr14q_uid_coords q\n",
    "cross apply dbo.fGetNearbyObjAllEq(q.ra, q.dec, 1.0/60) as nb\n",
    "\n",
    "join photoobj p on p.objid=nb.objid\n",
    "join field f on f.fieldid=p.fieldid\n",
    "  \n",
    "ORDER BY uid ASC, mjd_r ASC"
   ]
  },
  {
   "cell_type": "code",
   "execution_count": 55,
   "metadata": {},
   "outputs": [],
   "source": [
    "dtype1 =   {'uid': np.uint32, 'objID'  : np.uint64, \n",
    "            'ra' : np.float64, 'ra_ref' : np.float64,\n",
    "            'dec': np.float64, 'dec_ref': np.float64,\n",
    "            'get_nearby_distance': np.float64}\n",
    "dtype2 = {band + 'psf'   : np.float64 for band in 'ugriz'}\n",
    "dtype3 = {band + 'psferr': np.float64 for band in 'ugriz'}\n",
    "cols = [ID] + [x for y in zip(['mag_'+b for b in 'griz'], ['magerr_'+b for b in 'griz']) for x in y] + ['mjd_r','get_nearby_distance']\n"
   ]
  },
  {
   "cell_type": "code",
   "execution_count": 59,
   "metadata": {},
   "outputs": [
    {
     "name": "stderr",
     "output_type": "stream",
     "text": [
      "/disk1/hrb/anaconda3/envs/astroconda/lib/python3.6/site-packages/numpy/lib/arraysetops.py:580: FutureWarning: elementwise comparison failed; returning scalar instead, but in the future will perform elementwise comparison\n",
      "  mask |= (ar1 == a)\n"
     ]
    },
    {
     "data": {
      "text/html": [
       "<div>\n",
       "<style scoped>\n",
       "    .dataframe tbody tr th:only-of-type {\n",
       "        vertical-align: middle;\n",
       "    }\n",
       "\n",
       "    .dataframe tbody tr th {\n",
       "        vertical-align: top;\n",
       "    }\n",
       "\n",
       "    .dataframe thead th {\n",
       "        text-align: right;\n",
       "    }\n",
       "</style>\n",
       "<table border=\"1\" class=\"dataframe\">\n",
       "  <thead>\n",
       "    <tr style=\"text-align: right;\">\n",
       "      <th></th>\n",
       "      <th></th>\n",
       "      <th>mjd</th>\n",
       "      <th>mag</th>\n",
       "      <th>magerr</th>\n",
       "      <th>g-r</th>\n",
       "      <th>r-i</th>\n",
       "      <th>i-z</th>\n",
       "    </tr>\n",
       "    <tr>\n",
       "      <th>uid</th>\n",
       "      <th>filtercode</th>\n",
       "      <th></th>\n",
       "      <th></th>\n",
       "      <th></th>\n",
       "      <th></th>\n",
       "      <th></th>\n",
       "      <th></th>\n",
       "    </tr>\n",
       "  </thead>\n",
       "  <tbody>\n",
       "    <tr>\n",
       "      <th rowspan=\"4\" valign=\"top\">1</th>\n",
       "      <th>g</th>\n",
       "      <td>54741.371761</td>\n",
       "      <td>21.90886</td>\n",
       "      <td>0.067707</td>\n",
       "      <td>-0.16113</td>\n",
       "      <td>0.14319</td>\n",
       "      <td>0.55434</td>\n",
       "    </tr>\n",
       "    <tr>\n",
       "      <th>r</th>\n",
       "      <td>54741.371761</td>\n",
       "      <td>22.06999</td>\n",
       "      <td>0.115390</td>\n",
       "      <td>-0.16113</td>\n",
       "      <td>0.14319</td>\n",
       "      <td>0.55434</td>\n",
       "    </tr>\n",
       "    <tr>\n",
       "      <th>i</th>\n",
       "      <td>54741.371761</td>\n",
       "      <td>21.92680</td>\n",
       "      <td>0.148910</td>\n",
       "      <td>-0.16113</td>\n",
       "      <td>0.14319</td>\n",
       "      <td>0.55434</td>\n",
       "    </tr>\n",
       "    <tr>\n",
       "      <th>z</th>\n",
       "      <td>54741.371761</td>\n",
       "      <td>21.37246</td>\n",
       "      <td>0.385455</td>\n",
       "      <td>-0.16113</td>\n",
       "      <td>0.14319</td>\n",
       "      <td>0.55434</td>\n",
       "    </tr>\n",
       "    <tr>\n",
       "      <th>2</th>\n",
       "      <th>g</th>\n",
       "      <td>54747.352476</td>\n",
       "      <td>21.61756</td>\n",
       "      <td>0.053961</td>\n",
       "      <td>0.27770</td>\n",
       "      <td>0.05583</td>\n",
       "      <td>0.49685</td>\n",
       "    </tr>\n",
       "    <tr>\n",
       "      <th>...</th>\n",
       "      <th>...</th>\n",
       "      <td>...</td>\n",
       "      <td>...</td>\n",
       "      <td>...</td>\n",
       "      <td>...</td>\n",
       "      <td>...</td>\n",
       "      <td>...</td>\n",
       "    </tr>\n",
       "    <tr>\n",
       "      <th rowspan=\"5\" valign=\"top\">526356</th>\n",
       "      <th>z</th>\n",
       "      <td>54765.361506</td>\n",
       "      <td>20.60406</td>\n",
       "      <td>0.430547</td>\n",
       "      <td>0.44858</td>\n",
       "      <td>0.40432</td>\n",
       "      <td>-0.32173</td>\n",
       "    </tr>\n",
       "    <tr>\n",
       "      <th>g</th>\n",
       "      <td>55152.207521</td>\n",
       "      <td>21.24377</td>\n",
       "      <td>0.061280</td>\n",
       "      <td>0.55171</td>\n",
       "      <td>-0.10015</td>\n",
       "      <td>1.00635</td>\n",
       "    </tr>\n",
       "    <tr>\n",
       "      <th>r</th>\n",
       "      <td>55152.207521</td>\n",
       "      <td>20.69206</td>\n",
       "      <td>0.051216</td>\n",
       "      <td>0.55171</td>\n",
       "      <td>-0.10015</td>\n",
       "      <td>1.00635</td>\n",
       "    </tr>\n",
       "    <tr>\n",
       "      <th>i</th>\n",
       "      <td>55152.207521</td>\n",
       "      <td>20.79221</td>\n",
       "      <td>0.112842</td>\n",
       "      <td>0.55171</td>\n",
       "      <td>-0.10015</td>\n",
       "      <td>1.00635</td>\n",
       "    </tr>\n",
       "    <tr>\n",
       "      <th>z</th>\n",
       "      <td>55152.207521</td>\n",
       "      <td>19.78586</td>\n",
       "      <td>0.094832</td>\n",
       "      <td>0.55171</td>\n",
       "      <td>-0.10015</td>\n",
       "      <td>1.00635</td>\n",
       "    </tr>\n",
       "  </tbody>\n",
       "</table>\n",
       "<p>5741672 rows × 6 columns</p>\n",
       "</div>"
      ],
      "text/plain": [
       "                            mjd       mag    magerr      g-r      r-i      i-z\n",
       "uid    filtercode                                                             \n",
       "1      g           54741.371761  21.90886  0.067707 -0.16113  0.14319  0.55434\n",
       "       r           54741.371761  22.06999  0.115390 -0.16113  0.14319  0.55434\n",
       "       i           54741.371761  21.92680  0.148910 -0.16113  0.14319  0.55434\n",
       "       z           54741.371761  21.37246  0.385455 -0.16113  0.14319  0.55434\n",
       "2      g           54747.352476  21.61756  0.053961  0.27770  0.05583  0.49685\n",
       "...                         ...       ...       ...      ...      ...      ...\n",
       "526356 z           54765.361506  20.60406  0.430547  0.44858  0.40432 -0.32173\n",
       "       g           55152.207521  21.24377  0.061280  0.55171 -0.10015  1.00635\n",
       "       r           55152.207521  20.69206  0.051216  0.55171 -0.10015  1.00635\n",
       "       i           55152.207521  20.79221  0.112842  0.55171 -0.10015  1.00635\n",
       "       z           55152.207521  19.78586  0.094832  0.55171 -0.10015  1.00635\n",
       "\n",
       "[5741672 rows x 6 columns]"
      ]
     },
     "execution_count": 59,
     "metadata": {},
     "output_type": "execute_result"
    }
   ],
   "source": [
    "sdss_unmelted = pd.read_csv(path+'data/surveys/sdss/{}/sdss_secondary_unmelted.csv'.format(obj), index_col=ID, usecols=cols, dtype = {**dtype1, **dtype2, **dtype3})\n",
    "\n",
    "# make observation ID\n",
    "sdss_unmelted['obsid'] = range(1,len(sdss_unmelted)+1)\n",
    "\n",
    "# Rename mjd_r to mjd\n",
    "sdss_unmelted = sdss_unmelted.rename(columns={'mjd_r':'mjd'})\n",
    "\n",
    "# Add columns for colors\n",
    "for b1, b2 in zip('gri','riz'):\n",
    "    sdss_unmelted[b1+'-'+b2] = sdss_unmelted['mag_'+b1] - sdss_unmelted['mag_'+b2]\n",
    "\n",
    "df_sdss_unpivot1 = pd.melt(sdss_unmelted, id_vars = 'obsid', value_vars = ['mag_'   +b for b in 'griz'], var_name = 'filtercode', value_name = 'mag')\n",
    "df_sdss_unpivot2 = pd.melt(sdss_unmelted, id_vars = 'obsid', value_vars = ['magerr_'+b for b in 'griz'], var_name = 'filtercode', value_name = 'magerr')\n",
    "\n",
    "df_sdss_unpivot1['filtercode'] = df_sdss_unpivot1['filtercode'].str[-1]\n",
    "df_sdss_unpivot2['filtercode'] = df_sdss_unpivot2['filtercode'].str[-1]\n",
    "\n",
    "sdss_melted = pd.merge(sdss_unmelted.reset_index()[[ID,'obsid','mjd']], pd.merge(df_sdss_unpivot1, pd.merge(df_sdss_unpivot2, sdss_unmelted[['obsid','g-r','r-i','i-z']], on='obsid'), on = ['obsid','filtercode']), on = 'obsid').set_index([ID,'filtercode']).drop('obsid',axis=1)"
   ]
  },
  {
   "cell_type": "code",
   "execution_count": 61,
   "metadata": {},
   "outputs": [],
   "source": [
    "# Save output from above\n",
    "sdss_melted.to_csv(path+'data/surveys/sdss/{}/sdss_secondary.csv'.format(obj))"
   ]
  },
  {
   "cell_type": "markdown",
   "metadata": {},
   "source": [
    "For some reason, our upper search limit is not working when we have nearby objects. Why? Perhaps due to class? SDSS why u no find nearby obj. If it just doesnt work then we will just cut objects with displacement >1\""
   ]
  },
  {
   "cell_type": "markdown",
   "metadata": {},
   "source": [
    "# Making sure mjd_ugriz does not vary by more than 1 day"
   ]
  },
  {
   "cell_type": "code",
   "execution_count": null,
   "metadata": {},
   "outputs": [],
   "source": [
    "df_ugriz = pd.read_csv(path + 'retrieved_data/dr14q_secondary_mjdfloat_test.csv')\n",
    "std = df_ugriz[['mjd_' + band for band in 'ugriz']].std(axis=1)\n",
    "std.nlargest(5)"
   ]
  },
  {
   "cell_type": "markdown",
   "metadata": {},
   "source": [
    "Observations in different bands are taken within 0.001311 days (2 mins) of eachother. Thus we can take a single band timestamp."
   ]
  },
  {
   "cell_type": "code",
   "execution_count": null,
   "metadata": {},
   "outputs": [],
   "source": [
    "'{:0.20f}'.format((np.array([54741.371761], dtype = np.float64))[0])"
   ]
  }
 ],
 "metadata": {
  "kernelspec": {
   "display_name": "Python 3",
   "language": "python",
   "name": "python3"
  },
  "language_info": {
   "codemirror_mode": {
    "name": "ipython",
    "version": 3
   },
   "file_extension": ".py",
   "mimetype": "text/x-python",
   "name": "python",
   "nbconvert_exporter": "python",
   "pygments_lexer": "ipython3",
   "version": "3.6.13"
  },
  "varInspector": {
   "cols": {
    "lenName": 16,
    "lenType": 16,
    "lenVar": 40
   },
   "kernels_config": {
    "python": {
     "delete_cmd_postfix": "",
     "delete_cmd_prefix": "del ",
     "library": "var_list.py",
     "varRefreshCmd": "print(var_dic_list())"
    },
    "r": {
     "delete_cmd_postfix": ") ",
     "delete_cmd_prefix": "rm(",
     "library": "var_list.r",
     "varRefreshCmd": "cat(var_dic_list()) "
    }
   },
   "position": {
    "height": "603px",
    "left": "1160px",
    "right": "20px",
    "top": "82px",
    "width": "626px"
   },
   "types_to_exclude": [
    "module",
    "function",
    "builtin_function_or_method",
    "instance",
    "_Feature"
   ],
   "window_display": false
  }
 },
 "nbformat": 4,
 "nbformat_minor": 4
}
