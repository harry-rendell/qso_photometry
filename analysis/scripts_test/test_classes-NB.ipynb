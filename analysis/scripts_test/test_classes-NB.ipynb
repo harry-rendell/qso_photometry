{
 "cells": [
  {
   "cell_type": "code",
   "execution_count": 146,
   "id": "after-population",
   "metadata": {},
   "outputs": [],
   "source": [
    "import pandas as pd\n",
    "import numpy as np\n",
    "import matplotlib.pyplot as plt"
   ]
  },
  {
   "cell_type": "code",
   "execution_count": 171,
   "id": "involved-sitting",
   "metadata": {},
   "outputs": [],
   "source": [
    "class main():\n",
    "    def __init__(self, index, column):\n",
    "        self.index = sub(index)\n",
    "        self.column = column\n",
    "        self.x = np.linspace(0,6.28)\n",
    "        self.y = np.sin(self.x)\n",
    "        \n",
    "    def plot(self):\n",
    "        self.p = plotting()        \n",
    "        self.p.scatter(self)"
   ]
  },
  {
   "cell_type": "code",
   "execution_count": 172,
   "id": "seeing-mortality",
   "metadata": {},
   "outputs": [],
   "source": [
    "class plotting():\n",
    "    def __init__(self):\n",
    "        self.fig, self.ax = plt.subplots(1,1, figsize=(3,3))\n",
    "        \n",
    "    def scatter(self, other):\n",
    "        self.ax.scatter(other.x, other.y)"
   ]
  },
  {
   "cell_type": "code",
   "execution_count": 173,
   "id": "prospective-ghana",
   "metadata": {},
   "outputs": [],
   "source": [
    "class sub():\n",
    "    def __init__(self, values):\n",
    "        self.values = values\n",
    "    \n",
    "    def __repr__(self):    \n",
    "        return str(self.values.shape)\n",
    "    \n",
    "    def __len__(self):\n",
    "        return len(self.values)\n",
    "    \n",
    "    def __add__(self, new_entries):\n",
    "        return np.append(self.values, new_entries)\n",
    "    \n",
    "    def mod(self,x):\n",
    "        return np.mod(self.values, x)\n",
    "        "
   ]
  },
  {
   "cell_type": "markdown",
   "id": "electric-beach",
   "metadata": {},
   "source": [
    "Example of using classes as attributes of another class. Here, main() has an attribute self.index which is the class sub(). This allows us to do things like m.index.values, analagous to pd.DataFrame.Index"
   ]
  },
  {
   "cell_type": "code",
   "execution_count": 174,
   "id": "featured-alarm",
   "metadata": {},
   "outputs": [],
   "source": [
    "m = main(np.arange(10), np.arange(10,20))\n",
    "m.index.values"
   ]
  },
  {
   "cell_type": "markdown",
   "id": "horizontal-teach",
   "metadata": {},
   "source": [
    "## dunder methods"
   ]
  },
  {
   "cell_type": "markdown",
   "id": "beneficial-expression",
   "metadata": {},
   "source": [
    "> we can use __ repr __ to print the shape of the index just by calling m.index (without this, calling m.index would return < function name >. We could make this more complex by printing a summary of the data in m.index."
   ]
  },
  {
   "cell_type": "code",
   "execution_count": 182,
   "id": "reduced-mirror",
   "metadata": {},
   "outputs": [
    {
     "data": {
      "text/plain": [
       "(10,)"
      ]
     },
     "execution_count": 182,
     "metadata": {},
     "output_type": "execute_result"
    }
   ],
   "source": [
    "m.index"
   ]
  },
  {
   "cell_type": "markdown",
   "id": "minor-algorithm",
   "metadata": {},
   "source": [
    "> we can use __ len __ to make len(m.index) return something useful too."
   ]
  },
  {
   "cell_type": "code",
   "execution_count": 181,
   "id": "regulation-saskatchewan",
   "metadata": {},
   "outputs": [
    {
     "data": {
      "text/plain": [
       "10"
      ]
     },
     "execution_count": 181,
     "metadata": {},
     "output_type": "execute_result"
    }
   ],
   "source": [
    "len(m.index)"
   ]
  },
  {
   "cell_type": "markdown",
   "id": "blank-april",
   "metadata": {},
   "source": [
    "## plotting"
   ]
  },
  {
   "cell_type": "markdown",
   "id": "excess-agenda",
   "metadata": {},
   "source": [
    "Below are two methods of plotting. Either we create a plotting class and pass values to that, or we call the plotting class from within main() and call that. Which is better?"
   ]
  },
  {
   "cell_type": "code",
   "execution_count": 176,
   "id": "resident-summit",
   "metadata": {},
   "outputs": [
    {
     "data": {
      "image/png": "[encoded data removed]",
      "text/plain": [
       "<Figure size 216x216 with 1 Axes>"
      ]
     },
     "metadata": {
      "needs_background": "light"
     },
     "output_type": "display_data"
    }
   ],
   "source": [
    "p = plotting()\n",
    "p.scatter(m)"
   ]
  },
  {
   "cell_type": "code",
   "execution_count": 177,
   "id": "corresponding-universe",
   "metadata": {},
   "outputs": [
    {
     "data": {
      "image/png": "[encoded data removed]",
      "text/plain": [
       "<Figure size 216x216 with 1 Axes>"
      ]
     },
     "metadata": {
      "needs_background": "light"
     },
     "output_type": "display_data"
    }
   ],
   "source": [
    "m.plot()"
   ]
  }
 ],
 "metadata": {
  "kernelspec": {
   "display_name": "Python 3",
   "language": "python",
   "name": "python3"
  },
  "language_info": {
   "codemirror_mode": {
    "name": "ipython",
    "version": 3
   },
   "file_extension": ".py",
   "mimetype": "text/x-python",
   "name": "python",
   "nbconvert_exporter": "python",
   "pygments_lexer": "ipython3",
   "version": "3.6.10"
  }
 },
 "nbformat": 4,
 "nbformat_minor": 5
}
