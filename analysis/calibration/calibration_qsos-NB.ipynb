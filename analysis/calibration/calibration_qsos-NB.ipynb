{
 "cells": [
  {
   "cell_type": "markdown",
   "metadata": {},
   "source": [
    "# Assessing the magnitude distributions of the qsos"
   ]
  },
  {
   "cell_type": "code",
   "execution_count": 1,
   "metadata": {},
   "outputs": [],
   "source": [
    "import pandas as pd\n",
    "import numpy as np\n",
    "import matplotlib.pyplot as plt\n",
    "import matplotlib\n",
    "from multiprocessing import Pool\n",
    "font = {'size'   : 18}\n",
    "matplotlib.rc('font', **font)\n",
    "import sys\n",
    "sys.path.append('../')"
   ]
  },
  {
   "cell_type": "code",
   "execution_count": 2,
   "metadata": {},
   "outputs": [],
   "source": [
    "from funcs.analysis.obj_survey import obj_survey#, reader\n",
    "from funcs.preprocessing.parse import intersection, filter_data\n",
    "from funcs.analysis.plotting import plot_magerr_hist, plot_mag_dist"
   ]
  },
  {
   "cell_type": "markdown",
   "metadata": {},
   "source": [
    "# Using raw (unaveraged) data"
   ]
  },
  {
   "cell_type": "code",
   "execution_count": 3,
   "metadata": {},
   "outputs": [],
   "source": [
    "nrows = None\n",
    "bounds={'mag':(15,25),'magerr':(0,2)}"
   ]
  },
  {
   "cell_type": "code",
   "execution_count": null,
   "metadata": {},
   "outputs": [],
   "source": [
    "sdss = obj_survey('sdss', 'qsos', 'uid')\n",
    "sdss.read_in_raw(nrows)\n"
   ]
  },
  {
   "cell_type": "code",
   "execution_count": null,
   "metadata": {},
   "outputs": [],
   "source": [
    "sdss.df"
   ]
  },
  {
   "cell_type": "code",
   "execution_count": null,
   "metadata": {},
   "outputs": [],
   "source": [
    "sdss.df = filter_data(sdss.df, bounds, bands = 'ugriz')"
   ]
  },
  {
   "cell_type": "code",
   "execution_count": null,
   "metadata": {},
   "outputs": [],
   "source": [
    "ps = obj_survey('ps', 'qsos', 'uid')\n",
    "ps.read_in_raw(nrows)\n",
    "ps.df = filter_data(ps.df, bounds)"
   ]
  },
  {
   "cell_type": "code",
   "execution_count": null,
   "metadata": {},
   "outputs": [],
   "source": [
    "ztf = obj_survey('ztf', 'qsos', 'uid')\n",
    "# ztf.pivot()\n",
    "ztf.read_in_raw(nrows)\n",
    "ztf.df = filter_data(ztf.df, bounds)"
   ]
  },
  {
   "cell_type": "code",
   "execution_count": null,
   "metadata": {},
   "outputs": [],
   "source": [
    "colors = pd.read_csv('/disk1/hrb/python/data/computed/qsos/colors_sdss.csv', index_col=0)"
   ]
  },
  {
   "cell_type": "code",
   "execution_count": null,
   "metadata": {},
   "outputs": [],
   "source": [
    "sss = pd.read_csv('/disk1/hrb/python/data/surveys/supercosmos/qsos/ssa_secondary.csv')"
   ]
  },
  {
   "cell_type": "code",
   "execution_count": null,
   "metadata": {},
   "outputs": [],
   "source": [
    "sss"
   ]
  },
  {
   "cell_type": "markdown",
   "metadata": {},
   "source": [
    "# Saving groupby frames"
   ]
  },
  {
   "cell_type": "raw",
   "metadata": {
    "jupyter": {
     "outputs_hidden": true
    }
   },
   "source": [
    "sdss.pivot(read_in=False, magerr=2)"
   ]
  },
  {
   "cell_type": "raw",
   "metadata": {
    "jupyter": {
     "outputs_hidden": true
    }
   },
   "source": [
    "ztf.transform_to_ps(colors=colors)\n",
    "ztf.pivot(read_in=False, magerr=2)"
   ]
  },
  {
   "cell_type": "raw",
   "metadata": {
    "jupyter": {
     "outputs_hidden": true
    }
   },
   "source": [
    "ps.pivot(read_in=False, magerr=2)"
   ]
  },
  {
   "cell_type": "raw",
   "metadata": {},
   "source": [
    "######################################################"
   ]
  },
  {
   "cell_type": "code",
   "execution_count": null,
   "metadata": {},
   "outputs": [],
   "source": [
    "# takes ~30s, could reduce but need to parallelise\n",
    "sdss.df, ps.df, ztf.df = intersection(sdss.df,ps.df,ztf.df)"
   ]
  },
  {
   "cell_type": "code",
   "execution_count": null,
   "metadata": {},
   "outputs": [],
   "source": [
    "ztf.df"
   ]
  },
  {
   "cell_type": "code",
   "execution_count": null,
   "metadata": {},
   "outputs": [],
   "source": [
    "fig, axes = plot_magerr_hist([sdss, ps, ztf], bands='gri', quantiles=[0.09,0.10,0.11,0.12], show_lines=0, savename = None, magerr=0.8)\n",
    "for ax in axes:\n",
    "    ax.set(xlim=[0,0.3])\n",
    "\n",
    "# fig.savefig('../plots/magerr_hist_qsos.pdf', bbox_inches='tight')\n"
   ]
  },
  {
   "cell_type": "markdown",
   "metadata": {},
   "source": [
    "| Band | Max magerr |  SDSS |  PS   | ZTF   |\n",
    "|------|------------|-------|-------|-------|\n",
    "|  g   |    0.05    | 66.4% | 38.6% | 11.7% |\n",
    "|  r   |    0.05    | 61.5% | 39.6% | 14.1% |\n",
    "|  i   |    0.05    | 51.7% | 36.7% | 11.5% |\n",
    "||||||\n",
    "|  g   |    0.10    | 91.9% | 69.9% | 41.0% |\n",
    "|  r   |    0.10    | 88.4% | 70.3% | 42.3% |\n",
    "|  i   |    0.10    | 80.7% | 67.4% | 43.0% |\n",
    "||||||\n",
    "|  g   |    0.15    | 97.2% | 88.0% | 67.4% |\n",
    "|  r   |    0.15    | 96.2% | 87.8% | 68.6% |\n",
    "|  i   |    0.15    | 92.7% | 86.1% | 76.4% |\n",
    "||||||\n",
    "|  g   |    0.20    | 98.9% | 97.8% | 90.0% |\n",
    "|  r   |    0.20    | 98.7% | 97.7% | 90.6% |\n",
    "|  i   |    0.20    | 97.1% | 97.3% | 99.0% |\n",
    "||||||\n",
    "|  g   |    0.25    | 99.4% | 99.8% | 99.0% |\n",
    "|  r   |    0.25    | 99.4% | 99.8% | 98.7% |\n",
    "|  i   |    0.25    | 98.6% | 99.8% | 99.8% |\n"
   ]
  },
  {
   "cell_type": "markdown",
   "metadata": {},
   "source": [
    "| band | max magerr |  SDSS |  PS   | ZTF   |\n",
    "|------|------------|-------|-------|-------|\n",
    "|  g   |     80%    | 0.0657| 0.1234| 0.1751|\n",
    "|  r   |     80%    | 0.0736| 0.1234| 0.1731|\n",
    "|  i   |     80%    | 0.0935| 0.1313| 0.1552|\n",
    "|  z   |     80%    | 0.2289| 0.1512|   -   |\n"
   ]
  },
  {
   "cell_type": "code",
   "execution_count": null,
   "metadata": {},
   "outputs": [],
   "source": [
    "import seaborn as sns\n",
    "sdss.correlate_mag_magerr_hist_sns('g', 2e0,1e6, save=0)\n",
    "sdss.correlate_mag_magerr_hist_sns('r', 2e0,1e6, save=0)\n",
    "sdss.correlate_mag_magerr_hist_sns('i', 2e0,1e6, save=0)"
   ]
  },
  {
   "cell_type": "markdown",
   "metadata": {},
   "source": [
    "# Using averaged data"
   ]
  },
  {
   "cell_type": "code",
   "execution_count": 1,
   "metadata": {},
   "outputs": [],
   "source": [
    "import pandas as pd\n",
    "import numpy as np\n",
    "import matplotlib.pyplot as plt\n",
    "from multiprocessing import Pool\n",
    "import matplotlib \n",
    "font = {'size' : 18}\n",
    "matplotlib.rc('font', **font)\n",
    "import sys\n",
    "sys.path.append('../')\n",
    "path = '/disk1/hrb/python/'"
   ]
  },
  {
   "cell_type": "code",
   "execution_count": 2,
   "metadata": {},
   "outputs": [],
   "source": [
    "from funcs.analysis.obj_survey import obj_survey#, reader\n",
    "from funcs.preprocessing.parse import intersection, filter_data\n",
    "from funcs.analysis.plotting import plot_magerr_hist, plot_mag_dist"
   ]
  },
  {
   "cell_type": "code",
   "execution_count": 3,
   "metadata": {},
   "outputs": [],
   "source": [
    "# colors = pd.read_csv('computed/colors_ps_last.csv', index_col=0)\n",
    "colors = pd.read_csv(path + 'data/computed/qsos/colors_sdss.csv', index_col=0)"
   ]
  },
  {
   "cell_type": "code",
   "execution_count": 4,
   "metadata": {},
   "outputs": [
    {
     "name": "stdout",
     "output_type": "stream",
     "text": [
      "SDSS\n",
      "num obj before: 525,522\n",
      "num obj after:  455,832\n",
      "\n",
      "PS\n",
      "num obj before: 518,014\n",
      "num obj after:  301,226\n",
      "\n",
      "ZTF\n",
      "num obj before: 1,069,717\n"
     ]
    },
    {
     "name": "stderr",
     "output_type": "stream",
     "text": [
      "/disk1/hrb/anaconda3/envs/astroconda/lib/python3.6/site-packages/numpy/lib/arraysetops.py:580: FutureWarning: elementwise comparison failed; returning scalar instead, but in the future will perform elementwise comparison\n",
      "  mask |= (ar1 == a)\n"
     ]
    },
    {
     "ename": "KeyError",
     "evalue": "'mean_g'",
     "output_type": "error",
     "traceback": [
      "\u001b[0;31m---------------------------------------------------------------------------\u001b[0m",
      "\u001b[0;31mKeyError\u001b[0m                                  Traceback (most recent call last)",
      "\u001b[0;32m/disk1/hrb/anaconda3/envs/astroconda/lib/python3.6/site-packages/pandas/core/indexes/base.py\u001b[0m in \u001b[0;36mget_loc\u001b[0;34m(self, key, method, tolerance)\u001b[0m\n\u001b[1;32m   2897\u001b[0m             \u001b[0;32mtry\u001b[0m\u001b[0;34m:\u001b[0m\u001b[0;34m\u001b[0m\u001b[0;34m\u001b[0m\u001b[0m\n\u001b[0;32m-> 2898\u001b[0;31m                 \u001b[0;32mreturn\u001b[0m \u001b[0mself\u001b[0m\u001b[0;34m.\u001b[0m\u001b[0m_engine\u001b[0m\u001b[0;34m.\u001b[0m\u001b[0mget_loc\u001b[0m\u001b[0;34m(\u001b[0m\u001b[0mcasted_key\u001b[0m\u001b[0;34m)\u001b[0m\u001b[0;34m\u001b[0m\u001b[0;34m\u001b[0m\u001b[0m\n\u001b[0m\u001b[1;32m   2899\u001b[0m             \u001b[0;32mexcept\u001b[0m \u001b[0mKeyError\u001b[0m \u001b[0;32mas\u001b[0m \u001b[0merr\u001b[0m\u001b[0;34m:\u001b[0m\u001b[0;34m\u001b[0m\u001b[0;34m\u001b[0m\u001b[0m\n",
      "\u001b[0;32mpandas/_libs/index.pyx\u001b[0m in \u001b[0;36mpandas._libs.index.IndexEngine.get_loc\u001b[0;34m()\u001b[0m\n",
      "\u001b[0;32mpandas/_libs/index.pyx\u001b[0m in \u001b[0;36mpandas._libs.index.IndexEngine.get_loc\u001b[0;34m()\u001b[0m\n",
      "\u001b[0;32mpandas/_libs/hashtable_class_helper.pxi\u001b[0m in \u001b[0;36mpandas._libs.hashtable.PyObjectHashTable.get_item\u001b[0;34m()\u001b[0m\n",
      "\u001b[0;32mpandas/_libs/hashtable_class_helper.pxi\u001b[0m in \u001b[0;36mpandas._libs.hashtable.PyObjectHashTable.get_item\u001b[0;34m()\u001b[0m\n",
      "\u001b[0;31mKeyError\u001b[0m: 'mean_g'",
      "\nThe above exception was the direct cause of the following exception:\n",
      "\u001b[0;31mKeyError\u001b[0m                                  Traceback (most recent call last)",
      "\u001b[0;32m<ipython-input-4-3032978c1cb1>\u001b[0m in \u001b[0;36m<module>\u001b[0;34m\u001b[0m\n\u001b[1;32m     29\u001b[0m \u001b[0mztf\u001b[0m \u001b[0;34m=\u001b[0m \u001b[0mobj_survey\u001b[0m\u001b[0;34m(\u001b[0m\u001b[0;34m'ztf'\u001b[0m\u001b[0;34m,\u001b[0m \u001b[0;34m'qsos'\u001b[0m\u001b[0;34m,\u001b[0m \u001b[0;34m'uid'\u001b[0m\u001b[0;34m)\u001b[0m\u001b[0;34m\u001b[0m\u001b[0;34m\u001b[0m\u001b[0m\n\u001b[1;32m     30\u001b[0m \u001b[0mztf\u001b[0m\u001b[0;34m.\u001b[0m\u001b[0mpivot\u001b[0m\u001b[0;34m(\u001b[0m\u001b[0mmagerr\u001b[0m\u001b[0;34m=\u001b[0m\u001b[0mmagerr\u001b[0m\u001b[0;34m)\u001b[0m\u001b[0;34m\u001b[0m\u001b[0;34m\u001b[0m\u001b[0m\n\u001b[0;32m---> 31\u001b[0;31m \u001b[0mztf\u001b[0m\u001b[0;34m.\u001b[0m\u001b[0mdf_pivot\u001b[0m \u001b[0;34m=\u001b[0m \u001b[0mfilter_data\u001b[0m\u001b[0;34m(\u001b[0m\u001b[0mztf\u001b[0m\u001b[0;34m.\u001b[0m\u001b[0mdf_pivot\u001b[0m\u001b[0;34m,\u001b[0m \u001b[0mbounds_generic\u001b[0m\u001b[0;34m,\u001b[0m \u001b[0mbounds_specific_fn\u001b[0m\u001b[0;34m(\u001b[0m\u001b[0;34m[\u001b[0m\u001b[0;36m0.175\u001b[0m\u001b[0;34m,\u001b[0m \u001b[0;36m0.173\u001b[0m\u001b[0;34m,\u001b[0m \u001b[0;36m0.155\u001b[0m\u001b[0;34m]\u001b[0m\u001b[0;34m)\u001b[0m\u001b[0;34m,\u001b[0m \u001b[0mbands\u001b[0m\u001b[0;34m)\u001b[0m \u001b[0;31m#80\u001b[0m\u001b[0;34m\u001b[0m\u001b[0;34m\u001b[0m\u001b[0m\n\u001b[0m\u001b[1;32m     32\u001b[0m \u001b[0mztf\u001b[0m\u001b[0;34m.\u001b[0m\u001b[0mresidual\u001b[0m\u001b[0;34m(\u001b[0m\u001b[0;34m{\u001b[0m\u001b[0;34m'g'\u001b[0m\u001b[0;34m:\u001b[0m\u001b[0;36m0.0074\u001b[0m\u001b[0;34m,\u001b[0m \u001b[0;34m'r'\u001b[0m\u001b[0;34m:\u001b[0m\u001b[0;34m-\u001b[0m\u001b[0;36m0.0099\u001b[0m\u001b[0;34m,\u001b[0m \u001b[0;34m'i'\u001b[0m\u001b[0;34m:\u001b[0m\u001b[0;36m0\u001b[0m\u001b[0;34m}\u001b[0m\u001b[0;34m)\u001b[0m\u001b[0;34m\u001b[0m\u001b[0;34m\u001b[0m\u001b[0m\n",
      "\u001b[0;32m/disk1/hrb/python/analysis/funcs/preprocessing/parse.py\u001b[0m in \u001b[0;36mfilter_data\u001b[0;34m(survey_obj, bounds_generic, bounds_specific, bands, dropna, maxmagerr)\u001b[0m\n\u001b[1;32m     41\u001b[0m                 \u001b[0;31m# Create set of boolean numpy arrays which are true if the key is within the bounds.\u001b[0m\u001b[0;34m\u001b[0m\u001b[0;34m\u001b[0m\u001b[0;34m\u001b[0m\u001b[0m\n\u001b[1;32m     42\u001b[0m \u001b[0;31m#               boolean_generic  = np.stack([np.array([survey_obj[key + '_' + b].between(bound[0], bound[1])) for key, bound in bounds_generic .items()])\u001b[0m\u001b[0;34m\u001b[0m\u001b[0;34m\u001b[0m\u001b[0;34m\u001b[0m\u001b[0m\n\u001b[0;32m---> 43\u001b[0;31m                 \u001b[0mboolean_generic\u001b[0m  \u001b[0;34m=\u001b[0m \u001b[0mnp\u001b[0m\u001b[0;34m.\u001b[0m\u001b[0marray\u001b[0m\u001b[0;34m(\u001b[0m\u001b[0;34m[\u001b[0m\u001b[0mnp\u001b[0m\u001b[0;34m.\u001b[0m\u001b[0marray\u001b[0m\u001b[0;34m(\u001b[0m\u001b[0;34m[\u001b[0m\u001b[0msurvey_obj\u001b[0m\u001b[0;34m[\u001b[0m\u001b[0mkey\u001b[0m \u001b[0;34m+\u001b[0m \u001b[0;34m'_'\u001b[0m \u001b[0;34m+\u001b[0m \u001b[0mb\u001b[0m\u001b[0;34m]\u001b[0m\u001b[0;34m.\u001b[0m\u001b[0mbetween\u001b[0m\u001b[0;34m(\u001b[0m\u001b[0mbound\u001b[0m\u001b[0;34m[\u001b[0m\u001b[0;36m0\u001b[0m\u001b[0;34m]\u001b[0m\u001b[0;34m,\u001b[0m \u001b[0mbound\u001b[0m\u001b[0;34m[\u001b[0m\u001b[0;36m1\u001b[0m\u001b[0;34m]\u001b[0m\u001b[0;34m)\u001b[0m \u001b[0;32mfor\u001b[0m \u001b[0mb\u001b[0m \u001b[0;32min\u001b[0m \u001b[0mbands\u001b[0m\u001b[0;34m]\u001b[0m\u001b[0;34m)\u001b[0m \u001b[0;32mfor\u001b[0m \u001b[0mkey\u001b[0m\u001b[0;34m,\u001b[0m \u001b[0mbound\u001b[0m \u001b[0;32min\u001b[0m \u001b[0mbounds_generic\u001b[0m\u001b[0;34m.\u001b[0m\u001b[0mitems\u001b[0m\u001b[0;34m(\u001b[0m\u001b[0;34m)\u001b[0m\u001b[0;34m]\u001b[0m\u001b[0;34m)\u001b[0m\u001b[0;34m\u001b[0m\u001b[0;34m\u001b[0m\u001b[0m\n\u001b[0m\u001b[1;32m     44\u001b[0m \u001b[0;34m\u001b[0m\u001b[0m\n\u001b[1;32m     45\u001b[0m                 \u001b[0;32mif\u001b[0m \u001b[0mbounds_specific\u001b[0m \u001b[0;32mis\u001b[0m \u001b[0;32mnot\u001b[0m \u001b[0;32mNone\u001b[0m\u001b[0;34m:\u001b[0m\u001b[0;34m\u001b[0m\u001b[0;34m\u001b[0m\u001b[0m\n",
      "\u001b[0;32m/disk1/hrb/python/analysis/funcs/preprocessing/parse.py\u001b[0m in \u001b[0;36m<listcomp>\u001b[0;34m(.0)\u001b[0m\n\u001b[1;32m     41\u001b[0m                 \u001b[0;31m# Create set of boolean numpy arrays which are true if the key is within the bounds.\u001b[0m\u001b[0;34m\u001b[0m\u001b[0;34m\u001b[0m\u001b[0;34m\u001b[0m\u001b[0m\n\u001b[1;32m     42\u001b[0m \u001b[0;31m#               boolean_generic  = np.stack([np.array([survey_obj[key + '_' + b].between(bound[0], bound[1])) for key, bound in bounds_generic .items()])\u001b[0m\u001b[0;34m\u001b[0m\u001b[0;34m\u001b[0m\u001b[0;34m\u001b[0m\u001b[0m\n\u001b[0;32m---> 43\u001b[0;31m                 \u001b[0mboolean_generic\u001b[0m  \u001b[0;34m=\u001b[0m \u001b[0mnp\u001b[0m\u001b[0;34m.\u001b[0m\u001b[0marray\u001b[0m\u001b[0;34m(\u001b[0m\u001b[0;34m[\u001b[0m\u001b[0mnp\u001b[0m\u001b[0;34m.\u001b[0m\u001b[0marray\u001b[0m\u001b[0;34m(\u001b[0m\u001b[0;34m[\u001b[0m\u001b[0msurvey_obj\u001b[0m\u001b[0;34m[\u001b[0m\u001b[0mkey\u001b[0m \u001b[0;34m+\u001b[0m \u001b[0;34m'_'\u001b[0m \u001b[0;34m+\u001b[0m \u001b[0mb\u001b[0m\u001b[0;34m]\u001b[0m\u001b[0;34m.\u001b[0m\u001b[0mbetween\u001b[0m\u001b[0;34m(\u001b[0m\u001b[0mbound\u001b[0m\u001b[0;34m[\u001b[0m\u001b[0;36m0\u001b[0m\u001b[0;34m]\u001b[0m\u001b[0;34m,\u001b[0m \u001b[0mbound\u001b[0m\u001b[0;34m[\u001b[0m\u001b[0;36m1\u001b[0m\u001b[0;34m]\u001b[0m\u001b[0;34m)\u001b[0m \u001b[0;32mfor\u001b[0m \u001b[0mb\u001b[0m \u001b[0;32min\u001b[0m \u001b[0mbands\u001b[0m\u001b[0;34m]\u001b[0m\u001b[0;34m)\u001b[0m \u001b[0;32mfor\u001b[0m \u001b[0mkey\u001b[0m\u001b[0;34m,\u001b[0m \u001b[0mbound\u001b[0m \u001b[0;32min\u001b[0m \u001b[0mbounds_generic\u001b[0m\u001b[0;34m.\u001b[0m\u001b[0mitems\u001b[0m\u001b[0;34m(\u001b[0m\u001b[0;34m)\u001b[0m\u001b[0;34m]\u001b[0m\u001b[0;34m)\u001b[0m\u001b[0;34m\u001b[0m\u001b[0;34m\u001b[0m\u001b[0m\n\u001b[0m\u001b[1;32m     44\u001b[0m \u001b[0;34m\u001b[0m\u001b[0m\n\u001b[1;32m     45\u001b[0m                 \u001b[0;32mif\u001b[0m \u001b[0mbounds_specific\u001b[0m \u001b[0;32mis\u001b[0m \u001b[0;32mnot\u001b[0m \u001b[0;32mNone\u001b[0m\u001b[0;34m:\u001b[0m\u001b[0;34m\u001b[0m\u001b[0;34m\u001b[0m\u001b[0m\n",
      "\u001b[0;32m/disk1/hrb/python/analysis/funcs/preprocessing/parse.py\u001b[0m in \u001b[0;36m<listcomp>\u001b[0;34m(.0)\u001b[0m\n\u001b[1;32m     41\u001b[0m                 \u001b[0;31m# Create set of boolean numpy arrays which are true if the key is within the bounds.\u001b[0m\u001b[0;34m\u001b[0m\u001b[0;34m\u001b[0m\u001b[0;34m\u001b[0m\u001b[0m\n\u001b[1;32m     42\u001b[0m \u001b[0;31m#               boolean_generic  = np.stack([np.array([survey_obj[key + '_' + b].between(bound[0], bound[1])) for key, bound in bounds_generic .items()])\u001b[0m\u001b[0;34m\u001b[0m\u001b[0;34m\u001b[0m\u001b[0;34m\u001b[0m\u001b[0m\n\u001b[0;32m---> 43\u001b[0;31m                 \u001b[0mboolean_generic\u001b[0m  \u001b[0;34m=\u001b[0m \u001b[0mnp\u001b[0m\u001b[0;34m.\u001b[0m\u001b[0marray\u001b[0m\u001b[0;34m(\u001b[0m\u001b[0;34m[\u001b[0m\u001b[0mnp\u001b[0m\u001b[0;34m.\u001b[0m\u001b[0marray\u001b[0m\u001b[0;34m(\u001b[0m\u001b[0;34m[\u001b[0m\u001b[0msurvey_obj\u001b[0m\u001b[0;34m[\u001b[0m\u001b[0mkey\u001b[0m \u001b[0;34m+\u001b[0m \u001b[0;34m'_'\u001b[0m \u001b[0;34m+\u001b[0m \u001b[0mb\u001b[0m\u001b[0;34m]\u001b[0m\u001b[0;34m.\u001b[0m\u001b[0mbetween\u001b[0m\u001b[0;34m(\u001b[0m\u001b[0mbound\u001b[0m\u001b[0;34m[\u001b[0m\u001b[0;36m0\u001b[0m\u001b[0;34m]\u001b[0m\u001b[0;34m,\u001b[0m \u001b[0mbound\u001b[0m\u001b[0;34m[\u001b[0m\u001b[0;36m1\u001b[0m\u001b[0;34m]\u001b[0m\u001b[0;34m)\u001b[0m \u001b[0;32mfor\u001b[0m \u001b[0mb\u001b[0m \u001b[0;32min\u001b[0m \u001b[0mbands\u001b[0m\u001b[0;34m]\u001b[0m\u001b[0;34m)\u001b[0m \u001b[0;32mfor\u001b[0m \u001b[0mkey\u001b[0m\u001b[0;34m,\u001b[0m \u001b[0mbound\u001b[0m \u001b[0;32min\u001b[0m \u001b[0mbounds_generic\u001b[0m\u001b[0;34m.\u001b[0m\u001b[0mitems\u001b[0m\u001b[0;34m(\u001b[0m\u001b[0;34m)\u001b[0m\u001b[0;34m]\u001b[0m\u001b[0;34m)\u001b[0m\u001b[0;34m\u001b[0m\u001b[0;34m\u001b[0m\u001b[0m\n\u001b[0m\u001b[1;32m     44\u001b[0m \u001b[0;34m\u001b[0m\u001b[0m\n\u001b[1;32m     45\u001b[0m                 \u001b[0;32mif\u001b[0m \u001b[0mbounds_specific\u001b[0m \u001b[0;32mis\u001b[0m \u001b[0;32mnot\u001b[0m \u001b[0;32mNone\u001b[0m\u001b[0;34m:\u001b[0m\u001b[0;34m\u001b[0m\u001b[0;34m\u001b[0m\u001b[0m\n",
      "\u001b[0;32m/disk1/hrb/anaconda3/envs/astroconda/lib/python3.6/site-packages/pandas/core/frame.py\u001b[0m in \u001b[0;36m__getitem__\u001b[0;34m(self, key)\u001b[0m\n\u001b[1;32m   2904\u001b[0m             \u001b[0;32mif\u001b[0m \u001b[0mself\u001b[0m\u001b[0;34m.\u001b[0m\u001b[0mcolumns\u001b[0m\u001b[0;34m.\u001b[0m\u001b[0mnlevels\u001b[0m \u001b[0;34m>\u001b[0m \u001b[0;36m1\u001b[0m\u001b[0;34m:\u001b[0m\u001b[0;34m\u001b[0m\u001b[0;34m\u001b[0m\u001b[0m\n\u001b[1;32m   2905\u001b[0m                 \u001b[0;32mreturn\u001b[0m \u001b[0mself\u001b[0m\u001b[0;34m.\u001b[0m\u001b[0m_getitem_multilevel\u001b[0m\u001b[0;34m(\u001b[0m\u001b[0mkey\u001b[0m\u001b[0;34m)\u001b[0m\u001b[0;34m\u001b[0m\u001b[0;34m\u001b[0m\u001b[0m\n\u001b[0;32m-> 2906\u001b[0;31m             \u001b[0mindexer\u001b[0m \u001b[0;34m=\u001b[0m \u001b[0mself\u001b[0m\u001b[0;34m.\u001b[0m\u001b[0mcolumns\u001b[0m\u001b[0;34m.\u001b[0m\u001b[0mget_loc\u001b[0m\u001b[0;34m(\u001b[0m\u001b[0mkey\u001b[0m\u001b[0;34m)\u001b[0m\u001b[0;34m\u001b[0m\u001b[0;34m\u001b[0m\u001b[0m\n\u001b[0m\u001b[1;32m   2907\u001b[0m             \u001b[0;32mif\u001b[0m \u001b[0mis_integer\u001b[0m\u001b[0;34m(\u001b[0m\u001b[0mindexer\u001b[0m\u001b[0;34m)\u001b[0m\u001b[0;34m:\u001b[0m\u001b[0;34m\u001b[0m\u001b[0;34m\u001b[0m\u001b[0m\n\u001b[1;32m   2908\u001b[0m                 \u001b[0mindexer\u001b[0m \u001b[0;34m=\u001b[0m \u001b[0;34m[\u001b[0m\u001b[0mindexer\u001b[0m\u001b[0;34m]\u001b[0m\u001b[0;34m\u001b[0m\u001b[0;34m\u001b[0m\u001b[0m\n",
      "\u001b[0;32m/disk1/hrb/anaconda3/envs/astroconda/lib/python3.6/site-packages/pandas/core/indexes/base.py\u001b[0m in \u001b[0;36mget_loc\u001b[0;34m(self, key, method, tolerance)\u001b[0m\n\u001b[1;32m   2898\u001b[0m                 \u001b[0;32mreturn\u001b[0m \u001b[0mself\u001b[0m\u001b[0;34m.\u001b[0m\u001b[0m_engine\u001b[0m\u001b[0;34m.\u001b[0m\u001b[0mget_loc\u001b[0m\u001b[0;34m(\u001b[0m\u001b[0mcasted_key\u001b[0m\u001b[0;34m)\u001b[0m\u001b[0;34m\u001b[0m\u001b[0;34m\u001b[0m\u001b[0m\n\u001b[1;32m   2899\u001b[0m             \u001b[0;32mexcept\u001b[0m \u001b[0mKeyError\u001b[0m \u001b[0;32mas\u001b[0m \u001b[0merr\u001b[0m\u001b[0;34m:\u001b[0m\u001b[0;34m\u001b[0m\u001b[0;34m\u001b[0m\u001b[0m\n\u001b[0;32m-> 2900\u001b[0;31m                 \u001b[0;32mraise\u001b[0m \u001b[0mKeyError\u001b[0m\u001b[0;34m(\u001b[0m\u001b[0mkey\u001b[0m\u001b[0;34m)\u001b[0m \u001b[0;32mfrom\u001b[0m \u001b[0merr\u001b[0m\u001b[0;34m\u001b[0m\u001b[0;34m\u001b[0m\u001b[0m\n\u001b[0m\u001b[1;32m   2901\u001b[0m \u001b[0;34m\u001b[0m\u001b[0m\n\u001b[1;32m   2902\u001b[0m         \u001b[0;32mif\u001b[0m \u001b[0mtolerance\u001b[0m \u001b[0;32mis\u001b[0m \u001b[0;32mnot\u001b[0m \u001b[0;32mNone\u001b[0m\u001b[0;34m:\u001b[0m\u001b[0;34m\u001b[0m\u001b[0;34m\u001b[0m\u001b[0m\n",
      "\u001b[0;31mKeyError\u001b[0m: 'mean_g'"
     ]
    }
   ],
   "source": [
    "#if any observation has a value outside these bounds, that observation is NaN'd\n",
    "bounds_generic  = {'mean':(15,25), 'meanerr':(0,2)} \n",
    "bounds_specific_fn = lambda x: {'magerr_max_'+band:value for band,value in zip('griz',zip([0,0,0,0],x))}\n",
    "bands = 'griz'\n",
    "magerr = 2\n",
    "pop = 80\n",
    "\n",
    "print('SDSS')\n",
    "sdss = obj_survey('sdss', 'qsos', 'uid')\n",
    "sdss.pivot(magerr=magerr)\n",
    "# for b in bands:\n",
    "#     sdss.df_pivot['mean_sdss_'+b] = sdss.df_pivot['mean_'+b]\n",
    "sdss.df_pivot = filter_data(sdss.df_pivot, bounds_generic, bounds_specific_fn([0.066, 0.074, 0.094, 0.229]), bands) #80\n",
    "sdss.transform_avg_to_ps(colors, 'mean_gr', 'griz', system='tonry')\n",
    "sdss.residual({'g':0.0148, 'r':0.0049, 'i':0.0198, 'z':0.042})\n",
    "# colors = compute_colors(sdss)\n",
    "# sdss.df_pivot = filter_data(sdss.df_pivot, {'mean_gi':(0.4,2.7)}) \n",
    "\n",
    "print('\\nPS')\n",
    "ps = obj_survey('ps', 'qsos', 'uid')\n",
    "ps.pivot(magerr=magerr)\n",
    "ps.df_pivot = filter_data(ps.df_pivot, bounds_generic, bounds_specific_fn([0.123, 0.123, 0.131, 0.151]), bands) #80\n",
    "# duplicating rows to keep the naing convention consistent\n",
    "for b in bands:\n",
    "    ps.df_pivot['mean_ps_'+b] = ps.df_pivot['mean_'+b]\n",
    "\n",
    "bands='gri'\n",
    "print('\\nZTF')\n",
    "ztf = obj_survey('ztf', 'qsos', 'uid')\n",
    "ztf.pivot(magerr=magerr)\n",
    "ztf.df_pivot = filter_data(ztf.df_pivot, bounds_generic, bounds_specific_fn([0.175, 0.173, 0.155]), bands) #80\n",
    "ztf.residual({'g':0.0074, 'r':-0.0099, 'i':0})"
   ]
  },
  {
   "cell_type": "code",
   "execution_count": null,
   "metadata": {},
   "outputs": [],
   "source": [
    "sdss.df_pivot, ps.df_pivot, ztf.df_pivot = intersection(sdss.df_pivot, ps.df_pivot, ztf.df_pivot)\n",
    "# sdss.df_pivot, ps.df_pivot  = intersection(sdss.df_pivot, ps.df_pivot)\n",
    "# sdss.df_pivot, ztf.df_pivot = intersection(sdss.df_pivot, ztf.df_pivot)\n",
    "# ztf.df_pivot , ps.df_pivot  = intersection(ztf.df_pivot , ps.df_pivot)"
   ]
  },
  {
   "cell_type": "code",
   "execution_count": null,
   "metadata": {},
   "outputs": [],
   "source": [
    "ps .df_pivot = ps .df_pivot.join(colors, on=ps.ID)\n",
    "ztf.df_pivot = ztf.df_pivot.join(colors, on=ztf.ID)"
   ]
  },
  {
   "cell_type": "code",
   "execution_count": null,
   "metadata": {},
   "outputs": [],
   "source": [
    "# ztf.df_pivot_g = ztf.df_pivot['mean_g'].dropna()\n",
    "# sdss.df_pivot_g = sdss.df_pivot['mean_g'].dropna()\n",
    "# ps.df_pivot_g = ps.df_pivot['mean_g'].dropna(\n",
    "# sdss.df_pivot_g, ps.df_pivot_g, ztf.df_pivot_g = intersection(sdss.df_pivot_g,ps.df_pivot_g,ztf.df_pivot_g)"
   ]
  },
  {
   "cell_type": "code",
   "execution_count": null,
   "metadata": {},
   "outputs": [],
   "source": [
    "ax = plot_mag_dist(sdss, ps, ztf, inner=True, save=1)"
   ]
  },
  {
   "cell_type": "code",
   "execution_count": null,
   "metadata": {},
   "outputs": [],
   "source": [
    "mag_bounds = [16,19,21]\n",
    "system='_ps'\n",
    "bins=101"
   ]
  },
  {
   "cell_type": "code",
   "execution_count": null,
   "metadata": {},
   "outputs": [],
   "source": [
    "sdss_mag_g = sdss.df_pivot['mean_g']\n",
    "sdss.calculate_pop_mask('g', bounds=mag_bounds)"
   ]
  },
  {
   "cell_type": "code",
   "execution_count": null,
   "metadata": {},
   "outputs": [],
   "source": [
    "ps.calculate_pop_mask('g', bounds=mag_bounds)\n",
    "ps.calculate_offset(sdss, system=system, bands='griz')\n"
   ]
  },
  {
   "cell_type": "code",
   "execution_count": null,
   "metadata": {},
   "outputs": [],
   "source": [
    "ztf.calculate_pop_mask('g', bounds=mag_bounds)\n",
    "ztf.calculate_offset(sdss, system=system, bands='gri')\n",
    "ztf.calculate_offset(ps, system=system, bands='gri')\n"
   ]
  },
  {
   "cell_type": "code",
   "execution_count": null,
   "metadata": {},
   "outputs": [],
   "source": [
    "axes = ps.plot_offset_distrib(sdss, bands='griz', scale='linear', save=1, range=(-1,1), density=True, bins=bins)"
   ]
  },
  {
   "cell_type": "code",
   "execution_count": null,
   "metadata": {},
   "outputs": [],
   "source": [
    "axes = ztf.plot_offset_distrib(ps, bands='gri', scale='linear', save=1, range=(-1,1), density=True, bins=bins)"
   ]
  },
  {
   "cell_type": "code",
   "execution_count": null,
   "metadata": {},
   "outputs": [],
   "source": [
    "axes = ztf.plot_offset_distrib(sdss, bands='gri', scale='linear', save=1, range=(-1,1), density=True, bins=bins)"
   ]
  },
  {
   "cell_type": "markdown",
   "metadata": {},
   "source": [
    "#### Cells below plots a 2D histogram of the offset vs colour (try combine this into a grid of subplots)"
   ]
  },
  {
   "cell_type": "code",
   "execution_count": null,
   "metadata": {},
   "outputs": [],
   "source": [
    "cmap = 'jet'\n",
    "\n",
    "# ps.correlate_offset_color_hist_sns(sdss,'g', 'mean_gr', 1e0,1e5)\n",
    "# ps.correlate_ofset_color_hist_sns(sdss,'g', 'mean_ri', 1e0,1e5)\n",
    "\n",
    "# ps.correlate_offset_color_hist_sns(sdss,'r', 'mean_gr', 1e0,1e5)\n",
    "# ps.correlate_offset_color_hist_sns(sdss,'r', 'mean_ri', 1e0,1e5)\n",
    "\n",
    "# ps.correlate_offset_sns(sdss, 'i', 'mean_gr', 1e0,1e5, yrange=(-0.1,0.1))\n",
    "# ps.correlate_offset_sns(sdss,'i', 'mean_ri', 1e0,1e5)\n",
    "\n",
    "# ps.correlate_offset_sns(sdss,'z', 'mean_gr', 1e0,1e5)\n",
    "# ps.correlate_offset_sns(sdss,'z', 'mean_ri', 1e0,1e5)\n",
    "# xrange = (-0.5,2)\n",
    "xrange = (16,21)\n",
    "ps.correlate_offset_sns(sdss, 'g', 'mean_g', pop, 1e1,3e3, xrange=xrange, yrange=(-1,1), save=1, cmap=cmap)\n",
    "ps.correlate_offset_sns(sdss, 'r', 'mean_r', pop, 1e1,3e3, xrange=xrange, yrange=(-1,1), save=1, cmap=cmap)\n",
    "ps.correlate_offset_sns(sdss, 'i', 'mean_i', pop, 1e1,3e3, xrange=xrange, yrange=(-1,1), save=1, cmap=cmap)"
   ]
  },
  {
   "cell_type": "code",
   "execution_count": null,
   "metadata": {},
   "outputs": [],
   "source": [
    "cmap = 'jet'\n",
    "ztf.correlate_offset_sns(ps, 'g', 'mean_gr', pop, 1e1,3e3, xrange=xrange, yrange=(-1,1), save=1, cmap=cmap)\n",
    "ztf.correlate_offset_sns(ps, 'r', 'mean_ri', pop, 1e1,3e3, xrange=xrange, yrange=(-1,1), save=1, cmap=cmap)\n",
    "ztf.correlate_offset_sns(ps, 'i', 'mean_iz', pop, 1e1,3e3, xrange=xrange, yrange=(-1,1), save=1, cmap=cmap)"
   ]
  },
  {
   "cell_type": "code",
   "execution_count": null,
   "metadata": {},
   "outputs": [],
   "source": [
    "cmap = 'jet'\n",
    "ztf.correlate_offset_sns(sdss, 'g', 'mean_gr', pop, 1e1,3e3, xrange=xrange, yrange=(-1,1), save=1, cmap=cmap)\n",
    "ztf.correlate_offset_sns(sdss, 'r', 'mean_ri', pop, 1e1,3e3, xrange=xrange, yrange=(-1,1), save=1, cmap=cmap)\n",
    "ztf.correlate_offset_sns(sdss, 'i', 'mean_iz', pop, 1e1,3e3, xrange=xrange, yrange=(-1,1), save=1, cmap=cmap)"
   ]
  }
 ],
 "metadata": {
  "kernelspec": {
   "display_name": "Python 3",
   "language": "python",
   "name": "python3"
  },
  "language_info": {
   "codemirror_mode": {
    "name": "ipython",
    "version": 3
   },
   "file_extension": ".py",
   "mimetype": "text/x-python",
   "name": "python",
   "nbconvert_exporter": "python",
   "pygments_lexer": "ipython3",
   "version": "3.6.13"
  }
 },
 "nbformat": 4,
 "nbformat_minor": 4
}
