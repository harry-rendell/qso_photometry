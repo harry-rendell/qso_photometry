{
 "cells": [
  {
   "cell_type": "code",
   "execution_count": 4,
   "metadata": {},
   "outputs": [],
   "source": [
    "import pandas as pd\n",
    "import numpy as np\n",
    "import sys"
   ]
  },
  {
   "cell_type": "raw",
   "metadata": {},
   "source": [
    "#write ztf object IDs to file\n",
    "ztf_oid = pd.read_csv('/disk1/hrb/python/data/surveys/ztf/meta_data/ztf_meta.txt',skiprows=62,delimiter='\\s+',usecols = [1,7,15], names = ['dist_x','oid','ngoodobsrel'])\n",
    "ztf_oid = ztf_oid[ztf_oid['ngoodobsrel'] != 0]\n",
    "# np.savetxt('/Users/iCade/Desktop/phd_local/quasar_variability_global/retrieved_data/.txt',np.array(ztfoid[~ztfoid.mask], dtype = np.int64),fmt='%u')\n",
    "np.savetxt('/disk1/hrb/python/data/surveys/ztf/meta_data/ztf_oids_ngoodobsrel_nonzero.txt',ztf_oid['oid'],fmt='%i')"
   ]
  },
  {
   "cell_type": "code",
   "execution_count": null,
   "metadata": {},
   "outputs": [],
   "source": [
    "# n goes from 0 to 15"
   ]
  },
  {
   "cell_type": "code",
   "execution_count": 2,
   "metadata": {},
   "outputs": [],
   "source": [
    "#    oid,expid,hjd,mjd,mag,magerr,catflags,filtercode,ra,dec,chi,sharp,filefracday,field,ccdid,qid,limitmag,magzp,magzprms,clrcoeff,clrcounc,exptime,airmass,programid"
   ]
  },
  {
   "cell_type": "code",
   "execution_count": 20,
   "metadata": {},
   "outputs": [
    {
     "data": {
      "text/html": [
       "<div>\n",
       "<style scoped>\n",
       "    .dataframe tbody tr th:only-of-type {\n",
       "        vertical-align: middle;\n",
       "    }\n",
       "\n",
       "    .dataframe tbody tr th {\n",
       "        vertical-align: top;\n",
       "    }\n",
       "\n",
       "    .dataframe thead th {\n",
       "        text-align: right;\n",
       "    }\n",
       "</style>\n",
       "<table border=\"1\" class=\"dataframe\">\n",
       "  <thead>\n",
       "    <tr style=\"text-align: right;\">\n",
       "      <th></th>\n",
       "      <th>oid</th>\n",
       "      <th>mjd</th>\n",
       "      <th>mag</th>\n",
       "      <th>magerr</th>\n",
       "      <th>filtercode</th>\n",
       "      <th>magzp</th>\n",
       "      <th>clrcoeff</th>\n",
       "      <th>clrcounc</th>\n",
       "    </tr>\n",
       "  </thead>\n",
       "  <tbody>\n",
       "    <tr>\n",
       "      <th>0</th>\n",
       "      <td>395113200009300</td>\n",
       "      <td>58318.418287</td>\n",
       "      <td>20.892712</td>\n",
       "      <td>0.184418</td>\n",
       "      <td>zg</td>\n",
       "      <td>26.139112</td>\n",
       "      <td>-0.015896</td>\n",
       "      <td>0.000042</td>\n",
       "    </tr>\n",
       "    <tr>\n",
       "      <th>1</th>\n",
       "      <td>395113200009300</td>\n",
       "      <td>58322.439849</td>\n",
       "      <td>21.226688</td>\n",
       "      <td>0.209034</td>\n",
       "      <td>zg</td>\n",
       "      <td>26.161421</td>\n",
       "      <td>-0.031137</td>\n",
       "      <td>0.000032</td>\n",
       "    </tr>\n",
       "    <tr>\n",
       "      <th>2</th>\n",
       "      <td>395113200009300</td>\n",
       "      <td>58343.397685</td>\n",
       "      <td>21.035437</td>\n",
       "      <td>0.194937</td>\n",
       "      <td>zg</td>\n",
       "      <td>26.076777</td>\n",
       "      <td>-0.025708</td>\n",
       "      <td>0.000036</td>\n",
       "    </tr>\n",
       "    <tr>\n",
       "      <th>3</th>\n",
       "      <td>395113200009300</td>\n",
       "      <td>58346.354815</td>\n",
       "      <td>21.197132</td>\n",
       "      <td>0.206856</td>\n",
       "      <td>zg</td>\n",
       "      <td>25.985313</td>\n",
       "      <td>-0.034471</td>\n",
       "      <td>0.000028</td>\n",
       "    </tr>\n",
       "    <tr>\n",
       "      <th>4</th>\n",
       "      <td>395113200009300</td>\n",
       "      <td>58369.330313</td>\n",
       "      <td>20.849266</td>\n",
       "      <td>0.181215</td>\n",
       "      <td>zg</td>\n",
       "      <td>26.182161</td>\n",
       "      <td>-0.067772</td>\n",
       "      <td>0.000027</td>\n",
       "    </tr>\n",
       "    <tr>\n",
       "      <th>...</th>\n",
       "      <td>...</td>\n",
       "      <td>...</td>\n",
       "      <td>...</td>\n",
       "      <td>...</td>\n",
       "      <td>...</td>\n",
       "      <td>...</td>\n",
       "      <td>...</td>\n",
       "      <td>...</td>\n",
       "    </tr>\n",
       "    <tr>\n",
       "      <th>8897</th>\n",
       "      <td>648215400005139</td>\n",
       "      <td>58346.407454</td>\n",
       "      <td>21.280123</td>\n",
       "      <td>0.193240</td>\n",
       "      <td>zr</td>\n",
       "      <td>26.157270</td>\n",
       "      <td>0.095591</td>\n",
       "      <td>0.000004</td>\n",
       "    </tr>\n",
       "    <tr>\n",
       "      <th>8898</th>\n",
       "      <td>648215400005139</td>\n",
       "      <td>58367.364907</td>\n",
       "      <td>21.673693</td>\n",
       "      <td>0.220888</td>\n",
       "      <td>zr</td>\n",
       "      <td>26.199312</td>\n",
       "      <td>0.096757</td>\n",
       "      <td>0.000004</td>\n",
       "    </tr>\n",
       "    <tr>\n",
       "      <th>8899</th>\n",
       "      <td>648215400005139</td>\n",
       "      <td>58376.363576</td>\n",
       "      <td>21.529034</td>\n",
       "      <td>0.210726</td>\n",
       "      <td>zr</td>\n",
       "      <td>26.219730</td>\n",
       "      <td>0.097406</td>\n",
       "      <td>0.000004</td>\n",
       "    </tr>\n",
       "    <tr>\n",
       "      <th>8900</th>\n",
       "      <td>648215400005139</td>\n",
       "      <td>58426.244838</td>\n",
       "      <td>21.329977</td>\n",
       "      <td>0.196742</td>\n",
       "      <td>zr</td>\n",
       "      <td>26.130384</td>\n",
       "      <td>0.087268</td>\n",
       "      <td>0.000004</td>\n",
       "    </tr>\n",
       "    <tr>\n",
       "      <th>8901</th>\n",
       "      <td>648215400005139</td>\n",
       "      <td>58429.266875</td>\n",
       "      <td>21.218779</td>\n",
       "      <td>0.188931</td>\n",
       "      <td>zr</td>\n",
       "      <td>26.211226</td>\n",
       "      <td>0.093233</td>\n",
       "      <td>0.000005</td>\n",
       "    </tr>\n",
       "  </tbody>\n",
       "</table>\n",
       "<p>8902 rows × 8 columns</p>\n",
       "</div>"
      ],
      "text/plain": [
       "                  oid           mjd        mag    magerr filtercode  \\\n",
       "0     395113200009300  58318.418287  20.892712  0.184418         zg   \n",
       "1     395113200009300  58322.439849  21.226688  0.209034         zg   \n",
       "2     395113200009300  58343.397685  21.035437  0.194937         zg   \n",
       "3     395113200009300  58346.354815  21.197132  0.206856         zg   \n",
       "4     395113200009300  58369.330313  20.849266  0.181215         zg   \n",
       "...               ...           ...        ...       ...        ...   \n",
       "8897  648215400005139  58346.407454  21.280123  0.193240         zr   \n",
       "8898  648215400005139  58367.364907  21.673693  0.220888         zr   \n",
       "8899  648215400005139  58376.363576  21.529034  0.210726         zr   \n",
       "8900  648215400005139  58426.244838  21.329977  0.196742         zr   \n",
       "8901  648215400005139  58429.266875  21.218779  0.188931         zr   \n",
       "\n",
       "          magzp  clrcoeff  clrcounc  \n",
       "0     26.139112 -0.015896  0.000042  \n",
       "1     26.161421 -0.031137  0.000032  \n",
       "2     26.076777 -0.025708  0.000036  \n",
       "3     25.985313 -0.034471  0.000028  \n",
       "4     26.182161 -0.067772  0.000027  \n",
       "...         ...       ...       ...  \n",
       "8897  26.157270  0.095591  0.000004  \n",
       "8898  26.199312  0.096757  0.000004  \n",
       "8899  26.219730  0.097406  0.000004  \n",
       "8900  26.130384  0.087268  0.000004  \n",
       "8901  26.211226  0.093233  0.000005  \n",
       "\n",
       "[8902 rows x 8 columns]"
      ]
     },
     "execution_count": 20,
     "metadata": {},
     "output_type": "execute_result"
    }
   ],
   "source": [
    "t2"
   ]
  },
  {
   "cell_type": "code",
   "execution_count": 24,
   "metadata": {},
   "outputs": [],
   "source": [
    "def split_save(oid_batch,n,i):\n",
    "    print('URL too long, splitting and saving')\n",
    "    oid_batch_half = np.array_split(oid_batch,2)\n",
    "    df = pd.DataFrame(columns=['oid', 'mjd', 'mag','magerr','filtercode','magzp','clrcoeff','clrcounc'])\n",
    "    for j, oids in enumerate(oid_batch_half):\n",
    "        url = 'https://irsa.ipac.caltech.edu/cgi-bin/ZTF/nph_light_curves?{}&FORMAT=csv&BAD_CATFLAGS_MASK=32768'.format(''.join(['&ID='+str(oid) for oid in oids])[1:])\n",
    "        df_sub = pd.read_csv(url, usecols = ['oid', 'mjd', 'mag','magerr','filtercode','magzp','clrcoeff','clrcounc'])\n",
    "        df = df.append(df_sub)\n",
    "    df.to_csv('dr2_clr/batch_{:02d}/lc_{:02d}_{:03d}.csv'.format(n,n,i), index=False)\n",
    "\n",
    "def obtain_ztf_lightcurves(n):\n",
    "    oids = np.array_split(np.loadtxt('/disk1/hrb/python/data/surveys/ztf/meta_data/ztf_oids_ngoodobsrel_nonzero.txt',dtype=np.uint64),2**4)[n]\n",
    "    for i, oid_batch in enumerate(np.array_split(oids,2**8)):\n",
    "        url = 'https://irsa.ipac.caltech.edu/cgi-bin/ZTF/nph_light_curves?{}&FORMAT=csv&BAD_CATFLAGS_MASK=32768'.format(''.join(['&ID='+str(oid) for oid in oid_batch])[1:])\n",
    "        try:\n",
    "            df = pd.read_csv(url, usecols = ['oid', 'mjd', 'mag','magerr','filtercode','magzp','clrcoeff','clrcounc'])\n",
    "            df.to_csv('dr2_clr/batch_{:02d}/lc_{:02d}_{:03d}.csv'.format(n,n,i), index=False)\n",
    "            print('saving',i,'/',2**8)\n",
    "        except:\n",
    "            print('URL too long, splitting and saving')\n",
    "            try:\n",
    "                split_save(oid_batch,n,i)\n",
    "            except:\n",
    "                print('Cannot save',n,i)\n",
    "\n",
    "    print('finished')"
   ]
  },
  {
   "cell_type": "code",
   "execution_count": 26,
   "metadata": {},
   "outputs": [
    {
     "name": "stdout",
     "output_type": "stream",
     "text": [
      "URL too long, splitting and saving\n"
     ]
    }
   ],
   "source": [
    "n = 15\n",
    "i = 33\n",
    "oids = np.array_split(np.loadtxt('/disk1/hrb/python/data/surveys/ztf/meta_data/ztf_oids_ngoodobsrel_nonzero.txt',dtype=np.uint64),2**4)[n]\n",
    "split_save(oid_batch,n,i)"
   ]
  },
  {
   "cell_type": "code",
   "execution_count": null,
   "metadata": {},
   "outputs": [],
   "source": [
    "for n in range(2**4):    \n",
    "    df = pd.DataFrame(columns=['oid', 'mjd', 'mag','magerr','filtercode','magzp','clrcoeff','clrcounc'])\n",
    "    for i in range(2**8):\n",
    "        df_sub = pd.read_csv('dr2_clr/batch_{:02d}/lc_{:02d}_{:03d}.csv'.format(n,n,i))\n",
    "        df.append(df_sub)\n",
    "    df.to_csv('dr2_clr/batch_{:02d}/lc_{:02d}_full.csv'.format(n,n))\n",
    "    print('saving {}/256'.format(n+1))\n",
    "    \n",
    "    "
   ]
  }
 ],
 "metadata": {
  "kernelspec": {
   "display_name": "Python 3",
   "language": "python",
   "name": "python3"
  },
  "language_info": {
   "codemirror_mode": {
    "name": "ipython",
    "version": 3
   },
   "file_extension": ".py",
   "mimetype": "text/x-python",
   "name": "python",
   "nbconvert_exporter": "python",
   "pygments_lexer": "ipython3",
   "version": "3.6.10"
  },
  "varInspector": {
   "cols": {
    "lenName": 16,
    "lenType": 16,
    "lenVar": 40
   },
   "kernels_config": {
    "python": {
     "delete_cmd_postfix": "",
     "delete_cmd_prefix": "del ",
     "library": "var_list.py",
     "varRefreshCmd": "print(var_dic_list())"
    },
    "r": {
     "delete_cmd_postfix": ") ",
     "delete_cmd_prefix": "rm(",
     "library": "var_list.r",
     "varRefreshCmd": "cat(var_dic_list()) "
    }
   },
   "types_to_exclude": [
    "module",
    "function",
    "builtin_function_or_method",
    "instance",
    "_Feature"
   ],
   "window_display": false
  }
 },
 "nbformat": 4,
 "nbformat_minor": 4
}
