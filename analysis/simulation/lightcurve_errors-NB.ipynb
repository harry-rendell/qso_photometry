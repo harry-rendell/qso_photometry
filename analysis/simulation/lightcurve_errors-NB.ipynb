{
 "cells": [
  {
   "cell_type": "code",
   "execution_count": 1,
   "id": "beginning-pitch",
   "metadata": {},
   "outputs": [],
   "source": [
    "import numpy as np\n",
    "import numpy.random as rnd\n",
    "import pandas as pd\n",
    "import matplotlib.pyplot as plt\n",
    "from multiprocessing import Pool"
   ]
  },
  {
   "cell_type": "code",
   "execution_count": 242,
   "id": "recent-table",
   "metadata": {},
   "outputs": [],
   "source": [
    "norm = rnd.normal()\n",
    "poiss = rnd.poisson(lam=5, size=50000)/2e4*18**2"
   ]
  },
  {
   "cell_type": "code",
   "execution_count": 243,
   "id": "unavailable-evanescence",
   "metadata": {},
   "outputs": [
    {
     "data": {
      "text/plain": [
       "(array([3.320e+02, 1.634e+03, 4.207e+03, 7.028e+03, 8.754e+03, 8.735e+03,\n",
       "        7.312e+03, 5.328e+03, 0.000e+00, 3.275e+03, 1.813e+03, 9.000e+02,\n",
       "        3.880e+02, 1.860e+02, 6.900e+01, 3.200e+01, 0.000e+00, 4.000e+00,\n",
       "        2.000e+00, 0.000e+00, 1.000e+00]),\n",
       " array([0.        , 0.01428571, 0.02857143, 0.04285714, 0.05714286,\n",
       "        0.07142857, 0.08571429, 0.1       , 0.11428571, 0.12857143,\n",
       "        0.14285714, 0.15714286, 0.17142857, 0.18571429, 0.2       ,\n",
       "        0.21428571, 0.22857143, 0.24285714, 0.25714286, 0.27142857,\n",
       "        0.28571429, 0.3       ]),\n",
       " <BarContainer object of 21 artists>)"
      ]
     },
     "execution_count": 243,
     "metadata": {},
     "output_type": "execute_result"
    },
    {
     "data": {
      "image/png": "[encoded data removed]",
      "text/plain": [
       "<Figure size 432x288 with 1 Axes>"
      ]
     },
     "metadata": {
      "needs_background": "light"
     },
     "output_type": "display_data"
    }
   ],
   "source": [
    "plt.hist(poiss, bins=21, range=(0,.3))"
   ]
  },
  {
   "cell_type": "code",
   "execution_count": 244,
   "id": "allied-tokyo",
   "metadata": {},
   "outputs": [],
   "source": [
    "def single_core(sub_df):\n",
    "#             if uids == None:\n",
    "#                 sub_df = self.df[['mjd', 'mag', 'magerr', 'cat']]\n",
    "#             else:\n",
    "#                 sub_df = self.df[['mjd', 'mag', 'magerr', 'cat']].loc[uids]\n",
    "\n",
    "    df = pd.DataFrame(columns=['uid', 'dt', 'dm', 'de', 'cat'])\n",
    "    for uid, group in sub_df.groupby('uid'):\n",
    "        #maybe groupby then iterrows? faster?\n",
    "        mjd_mag = group[['mjd','mag']].values\n",
    "        magerr = group['magerr'].values\n",
    "        cat\t = group['cat'].values\n",
    "        n = len(mjd_mag)\n",
    "        # dtdm defined as: ∆m = (m2 - m1), ∆t = (t2 - t1) where (t1, m1) is the first obs and (t2, m2) is the second obs.\n",
    "        # Thus a negative ∆m corresponds to a brightening of the object\n",
    "        unique_pair_indicies = np.triu_indices(n,1)\n",
    "\n",
    "        dcat = 3*cat + cat[:,np.newaxis]\n",
    "        dcat = dcat[unique_pair_indicies]\n",
    "\n",
    "        dtdm = mjd_mag - mjd_mag[:,np.newaxis,:]\n",
    "        dtdm = dtdm[unique_pair_indicies]\n",
    "        dtdm = dtdm*np.sign(dtdm[:,0])[:,np.newaxis]\n",
    "\n",
    "        dmagerr = ( magerr**2 + magerr[:,np.newaxis]**2 )**0.5\n",
    "        dmagerr = dmagerr[unique_pair_indicies]\n",
    "\n",
    "        duid = np.full(int(n*(n-1)/2),uid,dtype='uint32')\n",
    "        # collate data to DataFrame and append\n",
    "        df = df.append(pd.DataFrame(data={'uid':duid,'dt':dtdm[:,0],'dm':dtdm[:,1], 'de':dmagerr,'cat':dcat}))\n",
    "\n",
    "        if (uid % 500 == 0):\n",
    "            print(uid)\n",
    "    return df"
   ]
  },
  {
   "cell_type": "code",
   "execution_count": null,
   "id": "conservative-insertion",
   "metadata": {},
   "outputs": [],
   "source": [
    "def mock_lc_flux(n_obj, flux_mean=1e-4, flux_std=6e-5):\n",
    "    fluxmeans = np.random.normal(flux_mean, flux_std, size=n_obj)\n",
    "    N   = np.random.randint(100,200, size=n_obj)\n",
    "    mag_fn = lambda flux: -2.5*np.log10(flux)+8.9\n",
    "    \n",
    "    def fn(n, fluxmean):\n",
    "        mjd = np.sort(np.random.uniform(5000,6000, size=n))\n",
    "        mag = mag_fn(np.random.normal(fluxmean, 0.00001, size=n))\n",
    "        cat = np.sort(np.random.randint(1,4, size=n))\n",
    "        return mjd, mag, cat\n",
    "    \n",
    "    df = pd.DataFrame(columns=['uid','mjd','mag','cat'])\n",
    "    for i in range(n_obj):\n",
    "        mjd, mag, cat = fn(N[i], fluxmeans[i])\n",
    "        uid = np.full(N[i], i, dtype='uint32')\n",
    "        df = df.append(pd.DataFrame({'uid':uid,'mjd':mjd, 'mag':mag, 'cat':cat}))\n",
    "    \n",
    "    df = df.set_index('uid')\n",
    "    return df"
   ]
  },
  {
   "cell_type": "code",
   "execution_count": 307,
   "id": "exciting-engineering",
   "metadata": {},
   "outputs": [],
   "source": [
    "class simulation():\n",
    "    \n",
    "    def __init__(self, n_obj, mag_mean=18.9, mag_std=2):\n",
    "        self.n_obj = n_obj\n",
    "        self.mag_mean = mag_mean\n",
    "        self.mag_std = mag_std\n",
    "        \n",
    "    \n",
    "    def mock_lc(self):\n",
    "        \n",
    "        magmeans = np.random.normal(self.mag_mean, self.mag_std, size=self.n_obj)\n",
    "        N   = np.random.randint(100,200, size=self.n_obj)\n",
    "        mag_fn = lambda flux: flux\n",
    "\n",
    "        def fn(n, magmean):\n",
    "            mjd = np.sort(np.random.uniform(5000,6000, size=n))\n",
    "            magerr = rnd.poisson(lam=5, size=n)/2e4 * (magmean ** 2)\n",
    "            mag = np.random.normal(magmean, magerr, size=n)\n",
    "            flux= mag_fn(mag)\n",
    "            cat = np.random.randint(1,4, size=n)\n",
    "            return mjd, mag, magerr, cat\n",
    "\n",
    "        df = pd.DataFrame(columns=['uid','mjd','mag','cat'])\n",
    "        for i in range(self.n_obj):\n",
    "            mjd, mag, magerr, cat = fn(N[i], magmeans[i])\n",
    "            uid = np.full(N[i], i, dtype='uint32')\n",
    "            df = df.append(pd.DataFrame({'uid':uid,'mjd':mjd, 'mag':mag, 'magerr':magerr, 'cat':cat}))\n",
    "\n",
    "        self.df = df.set_index('uid')\n",
    "    \n",
    "    def calculate_dtdm(self, uids=None):\n",
    "        if __name__ == '__main__':\n",
    "            p = Pool(4)\n",
    "            df_list = p.map(single_core, np.array_split(self.df[['mjd', 'mag', 'magerr', 'cat']], 4))\n",
    "\n",
    "        self.dtdm = pd.concat(df_list)\n",
    "        \n",
    "    def histograms(self):\n",
    "        fig, ax = plt.subplots(1,2, figsize=(18,6))\n",
    "        \n",
    "        self.dtdm.hist('dm', ax=ax[0], bins=200, range=(-1,1))\n",
    "        self.dtdm.hist('de', ax=ax[1], bins=100, range=(0,0.4))\n",
    "        \n"
   ]
  },
  {
   "cell_type": "code",
   "execution_count": 308,
   "id": "developing-bibliography",
   "metadata": {},
   "outputs": [],
   "source": [
    "sim = simulation(500)"
   ]
  },
  {
   "cell_type": "code",
   "execution_count": 309,
   "id": "clear-badge",
   "metadata": {},
   "outputs": [],
   "source": [
    "sim.mock_lc()"
   ]
  },
  {
   "cell_type": "code",
   "execution_count": 310,
   "id": "color-minister",
   "metadata": {},
   "outputs": [
    {
     "name": "stdout",
     "output_type": "stream",
     "text": [
      "0\n"
     ]
    }
   ],
   "source": [
    "sim.calculate_dtdm()"
   ]
  },
  {
   "cell_type": "code",
   "execution_count": 311,
   "id": "resistant-hampshire",
   "metadata": {},
   "outputs": [
    {
     "data": {
      "text/html": [
       "<div>\n",
       "<style scoped>\n",
       "    .dataframe tbody tr th:only-of-type {\n",
       "        vertical-align: middle;\n",
       "    }\n",
       "\n",
       "    .dataframe tbody tr th {\n",
       "        vertical-align: top;\n",
       "    }\n",
       "\n",
       "    .dataframe thead th {\n",
       "        text-align: right;\n",
       "    }\n",
       "</style>\n",
       "<table border=\"1\" class=\"dataframe\">\n",
       "  <thead>\n",
       "    <tr style=\"text-align: right;\">\n",
       "      <th></th>\n",
       "      <th>uid</th>\n",
       "      <th>dt</th>\n",
       "      <th>dm</th>\n",
       "      <th>de</th>\n",
       "      <th>cat</th>\n",
       "    </tr>\n",
       "  </thead>\n",
       "  <tbody>\n",
       "    <tr>\n",
       "      <th>0</th>\n",
       "      <td>0</td>\n",
       "      <td>21.981459</td>\n",
       "      <td>-0.080406</td>\n",
       "      <td>0.096432</td>\n",
       "      <td>6</td>\n",
       "    </tr>\n",
       "    <tr>\n",
       "      <th>1</th>\n",
       "      <td>0</td>\n",
       "      <td>22.463032</td>\n",
       "      <td>-0.092184</td>\n",
       "      <td>0.063310</td>\n",
       "      <td>6</td>\n",
       "    </tr>\n",
       "    <tr>\n",
       "      <th>2</th>\n",
       "      <td>0</td>\n",
       "      <td>24.706662</td>\n",
       "      <td>-0.063515</td>\n",
       "      <td>0.045654</td>\n",
       "      <td>6</td>\n",
       "    </tr>\n",
       "    <tr>\n",
       "      <th>3</th>\n",
       "      <td>0</td>\n",
       "      <td>26.392864</td>\n",
       "      <td>-0.092028</td>\n",
       "      <td>0.073832</td>\n",
       "      <td>12</td>\n",
       "    </tr>\n",
       "    <tr>\n",
       "      <th>4</th>\n",
       "      <td>0</td>\n",
       "      <td>31.004841</td>\n",
       "      <td>-0.027809</td>\n",
       "      <td>0.063310</td>\n",
       "      <td>6</td>\n",
       "    </tr>\n",
       "    <tr>\n",
       "      <th>...</th>\n",
       "      <td>...</td>\n",
       "      <td>...</td>\n",
       "      <td>...</td>\n",
       "      <td>...</td>\n",
       "      <td>...</td>\n",
       "    </tr>\n",
       "    <tr>\n",
       "      <th>6781</th>\n",
       "      <td>499</td>\n",
       "      <td>19.944182</td>\n",
       "      <td>0.165788</td>\n",
       "      <td>0.099345</td>\n",
       "      <td>7</td>\n",
       "    </tr>\n",
       "    <tr>\n",
       "      <th>6782</th>\n",
       "      <td>499</td>\n",
       "      <td>25.707113</td>\n",
       "      <td>0.056956</td>\n",
       "      <td>0.099345</td>\n",
       "      <td>4</td>\n",
       "    </tr>\n",
       "    <tr>\n",
       "      <th>6783</th>\n",
       "      <td>499</td>\n",
       "      <td>1.271014</td>\n",
       "      <td>0.232549</td>\n",
       "      <td>0.099345</td>\n",
       "      <td>9</td>\n",
       "    </tr>\n",
       "    <tr>\n",
       "      <th>6784</th>\n",
       "      <td>499</td>\n",
       "      <td>7.033945</td>\n",
       "      <td>0.123716</td>\n",
       "      <td>0.099345</td>\n",
       "      <td>6</td>\n",
       "    </tr>\n",
       "    <tr>\n",
       "      <th>6785</th>\n",
       "      <td>499</td>\n",
       "      <td>5.762931</td>\n",
       "      <td>-0.108832</td>\n",
       "      <td>0.099345</td>\n",
       "      <td>5</td>\n",
       "    </tr>\n",
       "  </tbody>\n",
       "</table>\n",
       "<p>5936911 rows × 5 columns</p>\n",
       "</div>"
      ],
      "text/plain": [
       "      uid         dt        dm        de cat\n",
       "0       0  21.981459 -0.080406  0.096432   6\n",
       "1       0  22.463032 -0.092184  0.063310   6\n",
       "2       0  24.706662 -0.063515  0.045654   6\n",
       "3       0  26.392864 -0.092028  0.073832  12\n",
       "4       0  31.004841 -0.027809  0.063310   6\n",
       "...   ...        ...       ...       ...  ..\n",
       "6781  499  19.944182  0.165788  0.099345   7\n",
       "6782  499  25.707113  0.056956  0.099345   4\n",
       "6783  499   1.271014  0.232549  0.099345   9\n",
       "6784  499   7.033945  0.123716  0.099345   6\n",
       "6785  499   5.762931 -0.108832  0.099345   5\n",
       "\n",
       "[5936911 rows x 5 columns]"
      ]
     },
     "execution_count": 311,
     "metadata": {},
     "output_type": "execute_result"
    }
   ],
   "source": [
    "sim.dtdm"
   ]
  },
  {
   "cell_type": "code",
   "execution_count": 312,
   "id": "environmental-algebra",
   "metadata": {},
   "outputs": [
    {
     "data": {
      "image/png": "[encoded data removed]",
      "text/plain": [
       "<Figure size 1296x432 with 2 Axes>"
      ]
     },
     "metadata": {
      "needs_background": "light"
     },
     "output_type": "display_data"
    }
   ],
   "source": [
    "sim.histograms()"
   ]
  },
  {
   "cell_type": "code",
   "execution_count": 111,
   "id": "attached-titanium",
   "metadata": {},
   "outputs": [],
   "source": [
    "def plot(x,y,err):\n",
    "    fig, ax = plt.subplots(1,1, figsize=(18,5))\n",
    "    ax.errorbar(x, y, err, lw = 0.2, markersize = 3, marker='o')\n",
    "    ax.invert_yaxis()\n",
    "    ax.set(xlabel='mjd', ylabel='mag')"
   ]
  },
  {
   "cell_type": "code",
   "execution_count": 114,
   "id": "practical-salad",
   "metadata": {},
   "outputs": [
    {
     "data": {
      "image/png": "[encoded data removed]",
      "text/plain": [
       "<Figure size 1296x360 with 1 Axes>"
      ]
     },
     "metadata": {
      "needs_background": "light"
     },
     "output_type": "display_data"
    }
   ],
   "source": [
    "plot(mjd,mag,magerr)"
   ]
  },
  {
   "cell_type": "markdown",
   "id": "naked-separation",
   "metadata": {},
   "source": [
    "# SF Errors"
   ]
  },
  {
   "cell_type": "code",
   "execution_count": 21,
   "id": "impaired-paragraph",
   "metadata": {},
   "outputs": [],
   "source": [
    "from scipy.stats import chi2"
   ]
  },
  {
   "cell_type": "code",
   "execution_count": 18,
   "id": "short-dragon",
   "metadata": {},
   "outputs": [],
   "source": [
    "dm = rnd.normal(0,10,size=100000)\n",
    "dm2 = dm**2"
   ]
  },
  {
   "cell_type": "code",
   "execution_count": 19,
   "id": "pharmaceutical-sampling",
   "metadata": {},
   "outputs": [
    {
     "data": {
      "image/png": "[encoded data removed]",
      "text/plain": [
       "<Figure size 1296x648 with 1 Axes>"
      ]
     },
     "metadata": {
      "needs_background": "light"
     },
     "output_type": "display_data"
    }
   ],
   "source": [
    "fig, ax = plt.subplots(1,1, figsize=(18,9))\n",
    "ax.hist(dm, bins=200);"
   ]
  },
  {
   "cell_type": "code",
   "execution_count": 20,
   "id": "concrete-effectiveness",
   "metadata": {},
   "outputs": [
    {
     "data": {
      "image/png": "[encoded data removed]",
      "text/plain": [
       "<Figure size 1296x648 with 1 Axes>"
      ]
     },
     "metadata": {
      "needs_background": "light"
     },
     "output_type": "display_data"
    }
   ],
   "source": [
    "fig, ax = plt.subplots(1,1, figsize=(18,9))\n",
    "ax.hist(dm2, bins=100, range=(0,5));"
   ]
  },
  {
   "cell_type": "code",
   "execution_count": 22,
   "id": "vocal-shopping",
   "metadata": {},
   "outputs": [
    {
     "data": {
      "text/plain": [
       "100.15401294654939"
      ]
     },
     "execution_count": 22,
     "metadata": {},
     "output_type": "execute_result"
    }
   ],
   "source": [
    "dm.var()"
   ]
  },
  {
   "cell_type": "code",
   "execution_count": 23,
   "id": "overall-paragraph",
   "metadata": {},
   "outputs": [
    {
     "data": {
      "text/plain": [
       "20014.55703728971"
      ]
     },
     "execution_count": 23,
     "metadata": {},
     "output_type": "execute_result"
    }
   ],
   "source": [
    "dm2.var()"
   ]
  },
  {
   "cell_type": "code",
   "execution_count": 24,
   "id": "alike-document",
   "metadata": {},
   "outputs": [
    {
     "data": {
      "text/plain": [
       "20061.652618595162"
      ]
     },
     "execution_count": 24,
     "metadata": {},
     "output_type": "execute_result"
    }
   ],
   "source": [
    "2*dm.var()**2"
   ]
  },
  {
   "cell_type": "markdown",
   "id": "selective-penny",
   "metadata": {},
   "source": [
    "note the last two outputs are very similar, showing that var(∆m^2) = 2var(∆m)^2"
   ]
  }
 ],
 "metadata": {
  "kernelspec": {
   "display_name": "Python 3",
   "language": "python",
   "name": "python3"
  },
  "language_info": {
   "codemirror_mode": {
    "name": "ipython",
    "version": 3
   },
   "file_extension": ".py",
   "mimetype": "text/x-python",
   "name": "python",
   "nbconvert_exporter": "python",
   "pygments_lexer": "ipython3",
   "version": "3.6.13"
  }
 },
 "nbformat": 4,
 "nbformat_minor": 5
}
