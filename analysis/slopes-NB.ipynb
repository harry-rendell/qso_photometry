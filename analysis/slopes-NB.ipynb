{
 "cells": [
  {
   "cell_type": "markdown",
   "metadata": {},
   "source": [
    "# Notebook for calculating the average slope for a lightcurve, and plotting its distribution"
   ]
  },
  {
   "cell_type": "code",
   "execution_count": 1,
   "metadata": {},
   "outputs": [],
   "source": [
    "def slope(group):\n",
    "    \"\"\"\n",
    "    finds slope m in line y=mx+c\n",
    "    \"\"\"\n",
    "\n",
    "    group        = group.dropna()\n",
    "    mag          = group['mag']\n",
    "    magerr_invsq = group['magerr']**-2\n",
    "    t            = group['mjd']\n",
    "\n",
    "    t_optimal = (t*magerr_invsq).sum()/magerr_invsq.sum()\n",
    "    m_optimal = (mag*(t-t_optimal)*magerr_invsq).sum()/((t-t_optimal)**2*magerr_invsq).sum()\n",
    "\n",
    "    m_regular = ((t-t.mean())*(mag-mag.mean())).sum()/((t-t.mean())**2).sum()\n",
    "\n",
    "    return {'m_optimal':m_optimal,'m_regular':m_regular}\n"
   ]
  },
  {
   "cell_type": "code",
   "execution_count": 2,
   "metadata": {},
   "outputs": [],
   "source": [
    "import pandas as pd \n",
    "import numpy as np\n",
    "import matplotlib.pyplot as plt\n",
    "from multiprocessing import Pool\n",
    "# from profilestats import profile\n",
    "from scipy.stats import binned_statistic\n",
    "from funcs.analysis import *\n",
    "from os import listdir\n",
    "import os\n",
    "data_path = '/disk1/hrb/python/'\n",
    "import time"
   ]
  },
  {
   "cell_type": "code",
   "execution_count": 3,
   "metadata": {},
   "outputs": [],
   "source": [
    "def reader(n_subarray):\n",
    "    return pd.read_csv(wdir+'data/merged/qsos/{}_band/lc_{}.csv'.format(band,n_subarray), nrows=None, index_col = 'uid', dtype = {'catalogue': np.uint8, 'mag': np.float32, 'magerr': np.float32, 'mjd': np.float64, 'uid': np.uint32})"
   ]
  },
  {
   "cell_type": "code",
   "execution_count": 4,
   "metadata": {},
   "outputs": [
    {
     "name": "stderr",
     "output_type": "stream",
     "text": [
      "/disk1/hrb/anaconda3/envs/astroconda/lib/python3.6/site-packages/numpy/lib/arraysetops.py:580: FutureWarning: elementwise comparison failed; returning scalar instead, but in the future will perform elementwise comparison\n",
      "  mask |= (ar1 == a)\n",
      "/disk1/hrb/anaconda3/envs/astroconda/lib/python3.6/site-packages/numpy/lib/arraysetops.py:580: FutureWarning: elementwise comparison failed; returning scalar instead, but in the future will perform elementwise comparison\n",
      "  mask |= (ar1 == a)\n",
      "/disk1/hrb/anaconda3/envs/astroconda/lib/python3.6/site-packages/numpy/lib/arraysetops.py:580: FutureWarning: elementwise comparison failed; returning scalar instead, but in the future will perform elementwise comparison\n",
      "  mask |= (ar1 == a)\n",
      "/disk1/hrb/anaconda3/envs/astroconda/lib/python3.6/site-packages/numpy/lib/arraysetops.py:580: FutureWarning: elementwise comparison failed; returning scalar instead, but in the future will perform elementwise comparison\n",
      "  mask |= (ar1 == a)\n"
     ]
    }
   ],
   "source": [
    "band = 'r'\n",
    "ID = 'uid'\n",
    "dr = analysis(ID)\n",
    "dr.read_in(reader)"
   ]
  },
  {
   "cell_type": "code",
   "execution_count": 5,
   "metadata": {},
   "outputs": [],
   "source": [
    "# boolean = (dr.df['catalogue']==1)\n",
    "# boolean = (df['cat']==6) | (df['cat']==10)\n",
    "# boolean = (df['cat']==9) | (df['cat']==11)"
   ]
  },
  {
   "cell_type": "code",
   "execution_count": null,
   "metadata": {},
   "outputs": [],
   "source": [
    "# result_rf = dr.df[boolean].groupby('uid').apply(slope).apply(pd.Series)\n",
    "result_obs = dr.df.groupby('uid').apply(slope).apply(pd.Series)"
   ]
  },
  {
   "cell_type": "code",
   "execution_count": null,
   "metadata": {},
   "outputs": [],
   "source": [
    "result_obs.to_csv(wdir + 'data/computed/qsos/slopes/slopes_obsframe.csv')"
   ]
  },
  {
   "cell_type": "code",
   "execution_count": 11,
   "metadata": {},
   "outputs": [
    {
     "name": "stdout",
     "output_type": "stream",
     "text": [
      "All surveys (observer frame)\n",
      "\n",
      "optimal slope mean:   -0.068084908 mag/decade\n",
      "regular slope mean:   -0.084073950 mag/decade\n",
      "optimal slope median: -0.071829511 mag/decade\n",
      "regular slope median: -0.088481886 mag/decade\n"
     ]
    }
   ],
   "source": [
    "result_obs = pd.read_csv('../data/computed/qsos/slopes/slopes_obsframe_all.csv', index_col='uid')\n",
    "result_obs = result_obs[abs(result_obs['m_optimal'])<0.5]\n",
    "print('All surveys (observer frame)\\n')\n",
    "print('optimal slope mean:   {:.9f} mag/decade\\nregular slope mean:   {:.9f} mag/decade'.format(*result_obs.mean()*3650))\n",
    "print('optimal slope median: {:.9f} mag/decade\\nregular slope median: {:.9f} mag/decade'.format(*result_obs.median()*3650))\n"
   ]
  },
  {
   "cell_type": "code",
   "execution_count": 7,
   "metadata": {},
   "outputs": [
    {
     "name": "stdout",
     "output_type": "stream",
     "text": [
      "ZTF (observer frame)\n",
      "\n",
      "optimal slope mean:   -0.068084908 mag/decade\n",
      "regular slope mean:   -0.084073950 mag/decade\n",
      "optimal slope median: -0.071829511 mag/decade\n",
      "regular slope median: -0.088481886 mag/decade\n"
     ]
    }
   ],
   "source": [
    "result_obs_ztf = pd.read_csv('../data/computed/qsos/slopes/slopes_obsframe_all.csv', index_col='uid')\n",
    "result_obs_ztf = result_obs_ztf[abs(result_obs_ztf['m_optimal'])<0.5]\n",
    "print('ZTF (observer frame)\\n')\n",
    "print('optimal slope mean:   {:.9f} mag/decade\\nregular slope mean:   {:.9f} mag/decade'.format(*result_obs_ztf.mean()*3650))\n",
    "print('optimal slope median: {:.9f} mag/decade\\nregular slope median: {:.9f} mag/decade'.format(*result_obs_ztf.median()*3650))\n"
   ]
  },
  {
   "cell_type": "code",
   "execution_count": 12,
   "metadata": {},
   "outputs": [
    {
     "name": "stdout",
     "output_type": "stream",
     "text": [
      "ZTF (rest frame)\n",
      "\n",
      "optimal slope mean:   0.114430053 mag/decade\n",
      "regular slope mean:   0.198490230 mag/decade\n",
      "optimal slope median: 0.170160380 mag/decade\n",
      "regular slope median: 0.244663255 mag/decade\n"
     ]
    }
   ],
   "source": [
    "result_rf_ztf = pd.read_csv('../data/computed/qsos/slopes/slopes_restframe_ztf.csv', index_col='uid')\n",
    "result_rf_ztf = result_rf_ztf[abs(result_rf_ztf['m_optimal'])<0.5]\n",
    "print('ZTF (rest frame)\\n')\n",
    "print('optimal slope mean:   {:.9f} mag/decade\\nregular slope mean:   {:.9f} mag/decade'.format(*result_rf_ztf.mean()*3650))\n",
    "print('optimal slope median: {:.9f} mag/decade\\nregular slope median: {:.9f} mag/decade'.format(*result_rf_ztf.median()*3650))\n"
   ]
  },
  {
   "cell_type": "code",
   "execution_count": 14,
   "metadata": {},
   "outputs": [
    {
     "name": "stdout",
     "output_type": "stream",
     "text": [
      "All surveys (rest frame)\n",
      "\n",
      "optimal slope mean:   -0.239226260 mag/decade\n",
      "regular slope mean:   -0.237967242 mag/decade\n",
      "optimal slope median: -0.187042881 mag/decade\n",
      "regular slope median: -0.230384636 mag/decade\n"
     ]
    }
   ],
   "source": [
    "result_rf = pd.read_csv('../data/computed/qsos/slopes/slopes_restframe_all.csv', index_col='uid')\n",
    "result_rf = result_rf[abs(result_rf['m_optimal'])<0.5]\n",
    "print('All surveys (rest frame)\\n')\n",
    "print('optimal slope mean:   {:.9f} mag/decade\\nregular slope mean:   {:.9f} mag/decade'.format(*result_rf.mean()*3650))\n",
    "print('optimal slope median: {:.9f} mag/decade\\nregular slope median: {:.9f} mag/decade'.format(*result_rf.median()*3650))\n"
   ]
  },
  {
   "cell_type": "code",
   "execution_count": 19,
   "metadata": {},
   "outputs": [
    {
     "data": {
      "text/plain": [
       "Int64Index([ 45105,  32780, 395826, 435243, 500535, 474873, 156584, 498479,\n",
       "            162143, 176194, 141474,  28614, 199443, 445694,  84062, 131556,\n",
       "            330190, 310895,  20202, 280094],\n",
       "           dtype='int64', name='uid')"
      ]
     },
     "execution_count": 19,
     "metadata": {},
     "output_type": "execute_result"
    }
   ],
   "source": [
    "result_rf_ztf.sort_values('m_optimal').head(20).index"
   ]
  },
  {
   "cell_type": "code",
   "execution_count": null,
   "metadata": {},
   "outputs": [],
   "source": []
  },
  {
   "cell_type": "code",
   "execution_count": 15,
   "metadata": {},
   "outputs": [
    {
     "name": "stderr",
     "output_type": "stream",
     "text": [
      "No handles with labels found to put in legend.\n"
     ]
    },
    {
     "data": {
      "image/png": "[encoded data removed]",
      "text/plain": [
       "<Figure size 1440x720 with 2 Axes>"
      ]
     },
     "metadata": {
      "needs_background": "light"
     },
     "output_type": "display_data"
    }
   ],
   "source": [
    "fig, ax = plt.subplots(1,2,figsize=(20,10))\n",
    "range=(-1,1)\n",
    "bins=201\n",
    "# (result_obs    ['m_optimal']*3650).hist(range=range, ax=ax[0], bins=bins, alpha=0.5, label='observers frame')\n",
    "# (result_obs_ztf['m_optimal']*3650).hist(range=range, ax=ax[0], bins=bins, alpha=0.5, label='observers frame (ztf)')\n",
    "(result_rf     ['m_optimal']*3650).hist(range=range, ax=ax[1], bins=bins, alpha=0.5, label='rest frame')\n",
    "# (result_rf_ztf ['m_optimal']*3650).hist(range=range, ax=ax[1], bins=bins, alpha=0.5, label='rest frame (ztf)')\n",
    "for axis in ax:\n",
    "    axis.set(xlabel='mag/decade')\n",
    "    axis.legend()\n",
    "    axis.axvline(x=0, color='k', ls='--', lw=0.5)\n",
    "plt.suptitle('distribution of slopes');"
   ]
  },
  {
   "cell_type": "code",
   "execution_count": 136,
   "metadata": {},
   "outputs": [
    {
     "name": "stderr",
     "output_type": "stream",
     "text": [
      "/disk1/hrb/anaconda3/envs/astroconda/lib/python3.6/site-packages/ipykernel_launcher.py:3: UserWarning: Attempted to set non-positive bottom ylim on a log-scaled axis.\n",
      "Invalid limit will be ignored.\n",
      "  This is separate from the ipykernel package so we can avoid doing imports until\n"
     ]
    },
    {
     "data": {
      "text/plain": [
       "[None, (2.2419918069666744, 1000000), (0.0, 2.0)]"
      ]
     },
     "execution_count": 136,
     "metadata": {},
     "output_type": "execute_result"
    },
    {
     "data": {
      "image/png": "[encoded data removed]",
      "text/plain": [
       "<Figure size 720x576 with 1 Axes>"
      ]
     },
     "metadata": {
      "needs_background": "light"
     },
     "output_type": "display_data"
    }
   ],
   "source": [
    "fig, ax = plt.subplots(1,1,figsize=(10,8))\n",
    "abs(result['m_optimal']).hist(bins=200, ax=ax, range=(0,2))\n",
    "ax.set(yscale='log',ylim=[0,1000000], xlim=[0,2])"
   ]
  },
  {
   "cell_type": "code",
   "execution_count": null,
   "metadata": {},
   "outputs": [],
   "source": []
  }
 ],
 "metadata": {
  "kernelspec": {
   "display_name": "Python 3",
   "language": "python",
   "name": "python3"
  },
  "language_info": {
   "codemirror_mode": {
    "name": "ipython",
    "version": 3
   },
   "file_extension": ".py",
   "mimetype": "text/x-python",
   "name": "python",
   "nbconvert_exporter": "python",
   "pygments_lexer": "ipython3",
   "version": "3.6.13"
  }
 },
 "nbformat": 4,
 "nbformat_minor": 4
}
