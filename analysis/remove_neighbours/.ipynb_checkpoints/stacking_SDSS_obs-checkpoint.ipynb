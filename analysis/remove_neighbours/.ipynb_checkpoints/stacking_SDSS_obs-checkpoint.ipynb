{
 "cells": [
  {
   "cell_type": "code",
   "execution_count": 11,
   "metadata": {},
   "outputs": [],
   "source": [
    "import pandas as pd\n",
    "import numpy as np\n",
    "import matplotlib.pyplot as plt\n",
    "from matplotlib import rc\n",
    "font = {'size'   : 12}\n",
    "rc('font', **font)\n",
    "path = '../original_data/sdss_secondary.csv'"
   ]
  },
  {
   "cell_type": "code",
   "execution_count": 12,
   "metadata": {},
   "outputs": [],
   "source": [
    "dtype1 = {'uid': np.uint32,  'objID'  : np.uint64, \n",
    "          'ra' : np.float64, 'ra_ref' : np.float64,\n",
    "          'dec': np.float64, 'dec_ref': np.float64,\n",
    "          'get_nearby_distance': np.float128,\n",
    "          'mjd_r': np.float64}\n",
    "dtype2 = {band + 'psf'   : np.float64 for band in 'ugriz'}\n",
    "dtype3 = {band + 'psferr': np.float64 for band in 'ugriz'}\n",
    "df = pd.read_csv(path, dtype = {**dtype1, **dtype2, **dtype3})\n",
    "df['get_nearby_distance'] *= 60.0"
   ]
  },
  {
   "cell_type": "code",
   "execution_count": 16,
   "metadata": {},
   "outputs": [
    {
     "name": "stdout",
     "output_type": "stream",
     "text": [
      "93216     61\n",
      "64542     59\n",
      "71031     57\n",
      "56027     56\n",
      "101058    56\n",
      "Name: uid, dtype: int64\n"
     ]
    },
    {
     "data": {
      "image/png": "[encoded data removed]",
      "text/plain": [
       "<Figure size 1008x432 with 1 Axes>"
      ]
     },
     "metadata": {
      "needs_background": "light"
     },
     "output_type": "display_data"
    }
   ],
   "source": [
    "fig, ax = plt.subplots(1,1,figsize = (14,6));\n",
    "ax.hist(df['uid'].value_counts(), bins = 150, lw = 0.1, edgecolor = 'k');\n",
    "ax.set(yscale = 'log', xlabel = 'Number of observations', ylabel = 'Number of quasars with given observations');\n",
    "print(df['uid'].value_counts().head())"
   ]
  },
  {
   "cell_type": "code",
   "execution_count": 17,
   "metadata": {
    "scrolled": true
   },
   "outputs": [],
   "source": [
    "# Plotting lcs\n",
    "# single_object = df[df['uid'] == df['uid'].value_counts().index[10]]\n",
    "# single_object = single_object[single_object['upsf'] != -9999]\n",
    "# mjd, u, g, r, i, z = single_object[['mjd_r']  + [band + 'psf' for band in 'ugriz']].values.T\n",
    "# single_object\n",
    "# fig, ax = plt.subplots(1,1, figsize = (15,5))\n",
    "# for mag, color in zip([u,g,r,i,z],'mgrkb'):\n",
    "#     ax.scatter(mjd, mag, color = color)\n",
    "# ax.set(xlabel = 'mjd', ylabel = 'mag')#,xlim = [53270,53320])\n",
    "# ax.invert_yaxis()"
   ]
  },
  {
   "cell_type": "code",
   "execution_count": null,
   "metadata": {},
   "outputs": [],
   "source": [
    "# from unidip import UniDip\n",
    "# from matplotlib.collections import Collection\n",
    "\n",
    "#filter out bad obs\n",
    "df = df[df['upsf'] != -999]\n",
    "\n",
    "def rayleigh(x,sigma):\n",
    "    prob = (2.0 / np.pi)**0.5 * sigma**-2 * x * np.exp(-0.5*(x/sigma)**2)\n",
    "    return prob\n",
    "x0 = np.linspace(0,2.5,250)\n",
    "\n",
    "n = 5\n",
    "skip = 5\n",
    "fig, axes = plt.subplots(n,n, figsize = (17,8), sharex = True, sharey = True);\n",
    "uids = df['uid'].value_counts().head(skip*n**2).index[::skip]\n",
    "for ax,uid in zip(axes.ravel(),uids):\n",
    "    displacements = df[df['uid'] == uid]['get_nearby_distance'].sort_values().values\n",
    "    \n",
    "    #Grid bin edges on plot\n",
    "    counts, bins, _ = ax.hist(displacements, bins = 50, range = (0,2.5), label = str(uid), cumulative = True);\n",
    "    for binedge in bins:\n",
    "        ax.axvline(x = binedge, lw = 0.1)\n",
    "        \n",
    "    #plot rayleigh distribution\n",
    "    sigma = (2/np.pi)**0.5*np.exp(-0.5)/np.max(counts[:len(counts)//2])\n",
    "    ax.plot(x0,rayleigh(x0,sigma), lw = 0.5, color = 'k')\n",
    "        \n",
    "#     #Plot Hartigan Dip-Test intervals\n",
    "#     intervals = UniDip(displacements).run()\n",
    "#     for interval, color in zip(intervals,'gr'):\n",
    "#         lower = displacements[interval[0]]\n",
    "#         upper = displacements[interval[1]]\n",
    "#         ax.axvline(x = lower, lw = 1, color = 'r')\n",
    "#         ax.axvline(x = upper, lw = 1, color = 'r')\n",
    "#         ax.fill_betweenx([0,30],lower,upper, facecolor = color, alpha = 0.5)\n",
    "    \n",
    "    ax.set(xlim = [0,2.5]);\n",
    "    ax.legend(loc = 1)\n",
    "    \n",
    "plt.subplots_adjust(wspace = 0, hspace = 0)"
   ]
  },
  {
   "cell_type": "markdown",
   "metadata": {},
   "source": [
    "Create a table of meta data: uid, ra, dec, meanpsf_ugriz, nobs, Fvar\n",
    "We test for bimodality of distribiution, assign likelihood that a given point is in each distribution. Then discard all those that do not have a 90% prob of being in primary distribution. We could do this buy creating gaussian (or x^2exp(-x^2) as this captures prob of radial displacement from origin..) then throw out points which have a small prob of being in the distribution!\n",
    "\n",
    "Also multi objects tend to be dominant in higher obs counts."
   ]
  },
  {
   "cell_type": "markdown",
   "metadata": {},
   "source": [
    "Dip test doesnt distinguish well enough (why not?)\n",
    "Instead lets simply use x^2exp(-x^2) (double check this is the right distribution)\n",
    "We could get even more sophisticated and use ra/dec variance to deviate from rayleigh distribution. Also possible to introduce a mean for systematic error."
   ]
  }
 ],
 "metadata": {
  "kernelspec": {
   "display_name": "Python 3",
   "language": "python",
   "name": "python3"
  },
  "language_info": {
   "codemirror_mode": {
    "name": "ipython",
    "version": 3
   },
   "file_extension": ".py",
   "mimetype": "text/x-python",
   "name": "python",
   "nbconvert_exporter": "python",
   "pygments_lexer": "ipython3",
   "version": "3.7.3"
  },
  "varInspector": {
   "cols": {
    "lenName": 16,
    "lenType": 16,
    "lenVar": 40
   },
   "kernels_config": {
    "python": {
     "delete_cmd_postfix": "",
     "delete_cmd_prefix": "del ",
     "library": "var_list.py",
     "varRefreshCmd": "print(var_dic_list())"
    },
    "r": {
     "delete_cmd_postfix": ") ",
     "delete_cmd_prefix": "rm(",
     "library": "var_list.r",
     "varRefreshCmd": "cat(var_dic_list()) "
    }
   },
   "position": {
    "height": "144px",
    "left": "1311px",
    "right": "20px",
    "top": "120px",
    "width": "350px"
   },
   "types_to_exclude": [
    "module",
    "function",
    "builtin_function_or_method",
    "instance",
    "_Feature"
   ],
   "window_display": false
  }
 },
 "nbformat": 4,
 "nbformat_minor": 2
}
