{
 "cells": [
  {
   "cell_type": "code",
   "execution_count": 1,
   "metadata": {},
   "outputs": [],
   "source": [
    "import matplotlib.pyplot as plt\n",
    "import pandas as pd\n",
    "from astropy.table import Table\n",
    "%matplotlib inline"
   ]
  },
  {
   "cell_type": "code",
   "execution_count": null,
   "metadata": {},
   "outputs": [],
   "source": [
    "df = Table.read('../meta_data/ztf_meta.txt', format = 'ipac')\n",
    "df = df.to_pandas()"
   ]
  },
  {
   "cell_type": "code",
   "execution_count": null,
   "metadata": {},
   "outputs": [],
   "source": [
    "df['uid_01'].value_counts().head(10)"
   ]
  },
  {
   "cell_type": "code",
   "execution_count": null,
   "metadata": {},
   "outputs": [],
   "source": [
    "#find the most common uid\n",
    "n=5\n",
    "skip = 1\n",
    "fig, axes = plt.subplots(n,n, figsize = (17,8), sharex = True, sharey = True);\n",
    "#Maybe better to group by then hist rather than continually slicing df\n",
    "uids = df['uid_01'].value_counts().head(skip*n**2).index[::skip]\n",
    "for ax,uid in zip(axes.ravel(),uids):\n",
    "    displacements = df[df['uid_01'] == uid]['dist_x'].sort_values().values\n",
    "    \n",
    "    #Grid bin edges on plot\n",
    "    counts, bins, _ = ax.hist(displacements, bins = 15, range = (0,2.5), label = str(uid));\n",
    "    for binedge in bins:\n",
    "        ax.axvline(x = binedge, lw = 0.1)\n",
    "        \n",
    "#     #plot rayleigh distribution\n",
    "#     sigma = (2/np.pi)**0.5*np.exp(-0.5)/np.max(counts[:len(counts)//2])\n",
    "#     ax.plot(x,rayleigh(x0,sigma), lw = 0.5, color = 'k')\n",
    "        \n",
    "#     #Plot Hartigan Dip-Test intervals\n",
    "#     intervals = UniDip(displacements).run()\n",
    "#     for interval, color in zip(intervals,'gr'):\n",
    "#         lower = displacements[interval[0]]\n",
    "#         upper = displacements[interval[1]]\n",
    "#         ax.axvline(x = lower, lw = 1, color = 'r')\n",
    "#         ax.axvline(x = upper, lw = 1, color = 'r')\n",
    "#         ax.fill_betweenx([0,30],lower,upper, facecolor = color, alpha = 0.5)\n",
    "    \n",
    "    ax.set(xlim = [0,2.5]);\n",
    "    ax.legend(loc = 1)\n",
    "    \n",
    "plt.subplots_adjust(wspace = 0, hspace = 0)"
   ]
  },
  {
   "cell_type": "code",
   "execution_count": null,
   "metadata": {},
   "outputs": [],
   "source": []
  }
 ],
 "metadata": {
  "kernelspec": {
   "display_name": "Python 3",
   "language": "python",
   "name": "python3"
  },
  "language_info": {
   "codemirror_mode": {
    "name": "ipython",
    "version": 3
   },
   "file_extension": ".py",
   "mimetype": "text/x-python",
   "name": "python",
   "nbconvert_exporter": "python",
   "pygments_lexer": "ipython3",
   "version": "3.7.3"
  },
  "varInspector": {
   "cols": {
    "lenName": 16,
    "lenType": 16,
    "lenVar": 40
   },
   "kernels_config": {
    "python": {
     "delete_cmd_postfix": "",
     "delete_cmd_prefix": "del ",
     "library": "var_list.py",
     "varRefreshCmd": "print(var_dic_list())"
    },
    "r": {
     "delete_cmd_postfix": ") ",
     "delete_cmd_prefix": "rm(",
     "library": "var_list.r",
     "varRefreshCmd": "cat(var_dic_list()) "
    }
   },
   "types_to_exclude": [
    "module",
    "function",
    "builtin_function_or_method",
    "instance",
    "_Feature"
   ],
   "window_display": false
  }
 },
 "nbformat": 4,
 "nbformat_minor": 4
}
