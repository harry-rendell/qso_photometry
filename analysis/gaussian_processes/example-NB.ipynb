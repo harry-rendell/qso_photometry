{
 "cells": [
  {
   "cell_type": "code",
   "execution_count": 49,
   "id": "separated-cartoon",
   "metadata": {},
   "outputs": [],
   "source": [
    "import sys\n",
    "sys.path.append('../')\n",
    "import pandas as pd \n",
    "pd.options.mode.chained_assignment = None\n",
    "import numpy as np\n",
    "import matplotlib.pyplot as plt\n",
    "from multiprocessing import Pool\n",
    "from funcs.analysis.analysis import analysis\n",
    "import celerite\n",
    "from celerite import terms\n",
    "%matplotlib inline\n",
    "\n",
    "wdir = '/disk1/hrb/python/'\n",
    "\n",
    "def reader(n_subarray):\n",
    "    return pd.read_csv(wdir+'data/merged/{}/r_band/with_ssa/lc_{}.csv'.format(obj,n_subarray), nrows=1000, comment='#', index_col = ID, dtype = {'catalogue': np.uint8, 'mag': np.float32, 'magerr': np.float32, 'mjd': np.float64, ID: np.uint32})\n",
    "\n"
   ]
  },
  {
   "cell_type": "code",
   "execution_count": 50,
   "id": "agricultural-inflation",
   "metadata": {},
   "outputs": [],
   "source": [
    "obj = 'qsos'\n",
    "ID  = 'uid'\n",
    "band = 'r'\n",
    "redshift_bool = True\n",
    "\n",
    "# obj = 'calibStars'\n",
    "# ID  = 'uid_s'\n",
    "# band = 'r'\n",
    "# redshift_bool = False\n",
    "\n",
    "# Here we load the analysis class. This has various attibutes and methods outlined in /funcs/analysis.py\n",
    "# Examples:\n",
    "# Photometry is in dr.df\n",
    "\n",
    "# Grouped statistics is in dr.grouped\n",
    "# DR12 VAC properties are in dr.properties\n",
    "dr = analysis(ID, obj)\n",
    "dr.read_in(reader, redshift=redshift_bool)\n",
    "dr.band = band"
   ]
  },
  {
   "cell_type": "code",
   "execution_count": 51,
   "id": "rising-basin",
   "metadata": {},
   "outputs": [],
   "source": [
    "t, y, yerr = dr.df.loc[1].query('catalogue==11')[['mjd','mag', 'magerr']].values.T\n",
    "# t -= t[0]\n",
    "# y -= y.mean()"
   ]
  },
  {
   "cell_type": "code",
   "execution_count": 52,
   "id": "daily-reaction",
   "metadata": {},
   "outputs": [
    {
     "data": {
      "text/plain": [
       "Text(0, 0.5, 'y')"
      ]
     },
     "execution_count": 52,
     "metadata": {},
     "output_type": "execute_result"
    },
    {
     "data": {
      "image/png": "[encoded data removed]",
      "text/plain": [
       "<Figure size 432x288 with 1 Axes>"
      ]
     },
     "metadata": {
      "needs_background": "light"
     },
     "output_type": "display_data"
    }
   ],
   "source": [
    "# import numpy as np\n",
    "# import matplotlib.pyplot as plt\n",
    "# np.random.seed(42)\n",
    "\n",
    "# t = np.sort(np.append(\n",
    "#     np.random.uniform(0, 3.8, 57),\n",
    "#     np.random.uniform(5.5, 10, 68),\n",
    "# ))  # The input coordinates must be sorted\n",
    "# yerr = np.random.uniform(0.08, 0.22, len(t))\n",
    "# y = 0.2 * (t-5) + np.sin(3*t + 0.1*(t-5)**2) + yerr * np.random.randn(len(t))\n",
    "\n",
    "# true_t = np.linspace(0, 10, 5000)\n",
    "# true_y = 0.2 * (true_t-5) + np.sin(3*true_t + 0.1*(true_t-5)**2)\n",
    "\n",
    "plt.errorbar(t, y, yerr=yerr, fmt=\".k\", capsize=0)\n",
    "plt.xlabel(\"x\")\n",
    "plt.ylabel(\"y\")\n",
    "# plt.xlim(0, 10)\n",
    "# plt.ylim(-2.5, 2.5);"
   ]
  },
  {
   "cell_type": "code",
   "execution_count": 53,
   "id": "flush-fundamental",
   "metadata": {},
   "outputs": [],
   "source": [
    "import celerite\n",
    "from celerite import terms\n",
    "\n",
    "# A non-periodic component\n",
    "Q = 1.0 / np.sqrt(2.0)\n",
    "w0 = 3.0\n",
    "S0 = np.var(y) / (w0 * Q)\n",
    "bounds = dict(log_S0=(-15, 15), log_Q=(-15, 15), log_omega0=(-15, 15))\n",
    "kernel = terms.SHOTerm(log_S0=np.log(S0), log_Q=np.log(Q), log_omega0=np.log(w0),\n",
    "                       bounds=bounds)\n",
    "kernel.freeze_parameter(\"log_Q\")  # We don't want to fit for \"Q\" in this term"
   ]
  },
  {
   "cell_type": "code",
   "execution_count": 54,
   "id": "accredited-basketball",
   "metadata": {},
   "outputs": [
    {
     "name": "stdout",
     "output_type": "stream",
     "text": [
      "Initial log likelihood: -0.8752749623539664\n"
     ]
    }
   ],
   "source": [
    "gp = celerite.GP(kernel, mean=np.mean(y))\n",
    "gp.compute(t, yerr)  # You always need to call compute once.\n",
    "print(\"Initial log likelihood: {0}\".format(gp.log_likelihood(y)))"
   ]
  },
  {
   "cell_type": "code",
   "execution_count": 55,
   "id": "rising-complement",
   "metadata": {},
   "outputs": [
    {
     "name": "stdout",
     "output_type": "stream",
     "text": [
      "      fun: 0.4007800640911565\n",
      " hess_inv: <2x2 LbfgsInvHessProduct with dtype=float64>\n",
      "      jac: array([-5.68434192e-06,  1.49213974e-05])\n",
      "  message: b'ABNORMAL_TERMINATION_IN_LNSRCH'\n",
      "     nfev: 126\n",
      "      nit: 9\n",
      "     njev: 42\n",
      "   status: 2\n",
      "  success: False\n",
      "        x: array([-3.75311758,  0.710519  ])\n"
     ]
    }
   ],
   "source": [
    "from scipy.optimize import minimize\n",
    "\n",
    "def neg_log_like(params, y, gp):\n",
    "    gp.set_parameter_vector(params)\n",
    "    return -gp.log_likelihood(y)\n",
    "\n",
    "initial_params = gp.get_parameter_vector()\n",
    "bounds = gp.get_parameter_bounds()\n",
    "\n",
    "r = minimize(neg_log_like, initial_params, method=\"L-BFGS-B\", bounds=bounds, args=(y, gp))\n",
    "gp.set_parameter_vector(r.x)\n",
    "print(r)"
   ]
  },
  {
   "cell_type": "code",
   "execution_count": 56,
   "id": "atomic-senior",
   "metadata": {},
   "outputs": [],
   "source": [
    "x = np.linspace(t[0], t[-1], 5000)\n",
    "pred_mean, pred_var = gp.predict(y, x, return_var=True)\n",
    "pred_std = np.sqrt(pred_var)"
   ]
  },
  {
   "cell_type": "code",
   "execution_count": 57,
   "id": "narrow-prior",
   "metadata": {},
   "outputs": [
    {
     "data": {
      "text/plain": [
       "<matplotlib.collections.PolyCollection at 0x7fbb00a0ccf8>"
      ]
     },
     "execution_count": 57,
     "metadata": {},
     "output_type": "execute_result"
    },
    {
     "data": {
      "image/png": "[encoded data removed]",
      "text/plain": [
       "<Figure size 1296x360 with 1 Axes>"
      ]
     },
     "metadata": {
      "needs_background": "light"
     },
     "output_type": "display_data"
    }
   ],
   "source": [
    "color = \"#ff7f0e\"\n",
    "fig, ax = plt.subplots(1,1, figsize=(18, 5))\n",
    "ax.errorbar(t, y, yerr=yerr, fmt=\".k\", capsize=0)\n",
    "ax.plot(x, pred_mean, color=color)\n",
    "ax.fill_between(x, pred_mean+pred_std, pred_mean-pred_std, color=color, alpha=0.3,\n",
    "                 edgecolor=\"none\")"
   ]
  }
 ],
 "metadata": {
  "kernelspec": {
   "display_name": "Python 3",
   "language": "python",
   "name": "python3"
  },
  "language_info": {
   "codemirror_mode": {
    "name": "ipython",
    "version": 3
   },
   "file_extension": ".py",
   "mimetype": "text/x-python",
   "name": "python",
   "nbconvert_exporter": "python",
   "pygments_lexer": "ipython3",
   "version": "3.6.13"
  }
 },
 "nbformat": 4,
 "nbformat_minor": 5
}
