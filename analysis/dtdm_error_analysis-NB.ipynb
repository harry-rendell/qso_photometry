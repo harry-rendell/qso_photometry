{
 "cells": [
  {
   "cell_type": "code",
   "execution_count": 1,
   "id": "varied-peter",
   "metadata": {},
   "outputs": [],
   "source": [
    "import pandas as pd \n",
    "import numpy as np\n",
    "from astropy.table import Table\n",
    "import matplotlib.pyplot as plt\n",
    "from matplotlib import rc\n",
    "rc('font', **{'size':16})\n",
    "import matplotlib.cm as cmap\n",
    "from multiprocessing import Pool\n",
    "# from profilestats import profile\n",
    "from os import listdir, path\n",
    "from time import time\n",
    "import warnings\n",
    "warnings.simplefilter(action='ignore', category=FutureWarning)\n",
    "pd.options.mode.chained_assignment = None\n",
    "from funcs.preprocessing.dtdm import dtdm_raw_analysis"
   ]
  },
  {
   "cell_type": "code",
   "execution_count": 2,
   "id": "healthy-massage",
   "metadata": {},
   "outputs": [],
   "source": [
    "wdir = '/disk1/hrb/python/'"
   ]
  },
  {
   "cell_type": "markdown",
   "id": "declared-charge",
   "metadata": {},
   "source": [
    "# Splitting by property"
   ]
  },
  {
   "cell_type": "code",
   "execution_count": 27,
   "id": "rubber-desert",
   "metadata": {},
   "outputs": [],
   "source": [
    "dtdm_qsos_lbol = dtdm_raw_analysis('qsos', 'uid', 'r', 'qsos')\n",
    "# dtdm_qsos_lbol.calculate_stats_looped_key(26, 'log', 'Lbol', save=True)\n",
    "dtdm_qsos_lbol.read_pooled_stats('log', key='Lbol')\n",
    "# dtdm_qsos_lbol.pooled_stats.keys()"
   ]
  },
  {
   "cell_type": "code",
   "execution_count": 28,
   "id": "super-mambo",
   "metadata": {},
   "outputs": [],
   "source": [
    "########try linear mjd spacing next"
   ]
  },
  {
   "cell_type": "code",
   "execution_count": 29,
   "id": "precious-dominant",
   "metadata": {},
   "outputs": [
    {
     "ename": "NameError",
     "evalue": "name 'dtdm_qsos_civ' is not defined",
     "output_type": "error",
     "traceback": [
      "\u001b[0;31m---------------------------------------------------------------------------\u001b[0m",
      "\u001b[0;31mNameError\u001b[0m                                 Traceback (most recent call last)",
      "\u001b[0;32m<ipython-input-29-5c1ce47a9629>\u001b[0m in \u001b[0;36m<module>\u001b[0;34m\u001b[0m\n\u001b[0;32m----> 1\u001b[0;31m \u001b[0mdtdm_qsos_civ\u001b[0m\u001b[0;34m.\u001b[0m\u001b[0mpooled\u001b[0m\u001b[0;34m\u001b[0m\u001b[0;34m\u001b[0m\u001b[0m\n\u001b[0m",
      "\u001b[0;31mNameError\u001b[0m: name 'dtdm_qsos_civ' is not defined"
     ]
    }
   ],
   "source": [
    "dtdm_qsos_civ.pooled"
   ]
  },
  {
   "cell_type": "code",
   "execution_count": null,
   "id": "informal-phone",
   "metadata": {},
   "outputs": [],
   "source": [
    "dtdm_qsos_civ = dtdm_raw_analysis('qsos', 'uid', 'r', 'qsos')\n",
    "# dtdm_qsos_civ.calculate_stats_looped_key(26, 'log2', 'MBH_CIV', save=True)\n",
    "dtdm_qsos_civ.read_pooled_stats('log', key='MBH_CIV')\n",
    "# dtdm_qsos_lbol.pooled_stats.keys()"
   ]
  },
  {
   "cell_type": "code",
   "execution_count": null,
   "id": "corrected-qatar",
   "metadata": {},
   "outputs": [],
   "source": [
    "# To find max dt\n",
    "# dtdm_qsos_civ.read_key('MBH_CIV')\n",
    "# uids = pd.concat(dtdm_qsos_civ.groups).index\n",
    "\n",
    "# dts = []\n",
    "# for i in range(26):\n",
    "#     dtdm_qsos_civ.read(i)\n",
    "#     dt = dtdm_qsos_civ.df[dtdm_qsos_civ.df.index.isin(uids)]['dt'].max()\n",
    "#     dts.append(dt)"
   ]
  },
  {
   "cell_type": "code",
   "execution_count": null,
   "id": "substantial-joshua",
   "metadata": {},
   "outputs": [],
   "source": [
    "dtdm_qsos_nedd = dtdm_raw_analysis('qsos', 'uid', 'r', 'qsos')\n",
    "# dtdm_qsos_nedd.calculate_stats_looped_key(26, 'log', 'nEdd', save=True)\n",
    "dtdm_qsos_nedd.read_pooled_stats('log', key='nEdd')\n",
    "# dtdm_qsos_lbol.pooled_stats.keys()"
   ]
  },
  {
   "cell_type": "code",
   "execution_count": null,
   "id": "leading-horse",
   "metadata": {},
   "outputs": [],
   "source": [
    "# fig, ax = dtdm_qsos_nedd.plot_stats_property(['SF cwf a'], figax=None, xscale='log', yscale='linear', ylim=(0, 0.45), ylabel='Structure Function$^2$')\n",
    "# fig.savefig('plots/qso_nedd_lin.pdf', bbox_inches='tight')"
   ]
  },
  {
   "cell_type": "code",
   "execution_count": null,
   "id": "marine-dispatch",
   "metadata": {},
   "outputs": [],
   "source": [
    "dtdm_qsos_civ.pooled_stats.keys()"
   ]
  },
  {
   "cell_type": "code",
   "execution_count": null,
   "id": "qualified-particle",
   "metadata": {},
   "outputs": [],
   "source": [
    "fig, ax = dtdm_qsos_civ.plot_stats_property(['SF cwf a'], figax=None, xscale='log', yscale='log', xlim=(0,10000), ylim=(1e-2, 1e0 ), ylabel='Structure Function$^2$')\n",
    "# fig.savefig('plots/qso_mbh_log.pdf', bbox_inches='tight')"
   ]
  },
  {
   "cell_type": "code",
   "execution_count": null,
   "id": "economic-louisville",
   "metadata": {},
   "outputs": [],
   "source": [
    "fig, ax = dtdm_qsos_lbol.plot_stats_property(['SF cwf a'], figax=None, xscale='log', yscale='linear', ylim=(0, 0.3), ylabel='Structure Function$^2$')\n",
    "fig.savefig('plots/qso_lbol_lin.pdf', bbox_inches='tight')"
   ]
  },
  {
   "cell_type": "markdown",
   "id": "clear-coverage",
   "metadata": {},
   "source": [
    "# Skewness"
   ]
  },
  {
   "cell_type": "code",
   "execution_count": null,
   "id": "exceptional-candy",
   "metadata": {},
   "outputs": [],
   "source": [
    "fig, ax = dtdm_qsos_civ.plot_stats_property(['skewness'], figax=None, xscale='log', yscale='linear', xlim=(0,10000), ylim=(-1, 1 ), ylabel='Skewness')"
   ]
  },
  {
   "cell_type": "code",
   "execution_count": null,
   "id": "broad-presentation",
   "metadata": {},
   "outputs": [],
   "source": [
    "fig, ax = dtdm_qsos_civ.plot_stats_property(['kurtosis'], figax=None, xscale='log', yscale='linear', xlim=(0,10000), ylim=(-2,20), ylabel='Skewness')\n",
    "\n"
   ]
  },
  {
   "cell_type": "markdown",
   "id": "medical-madison",
   "metadata": {},
   "source": [
    "### Drift"
   ]
  },
  {
   "cell_type": "code",
   "execution_count": null,
   "id": "opening-arrival",
   "metadata": {},
   "outputs": [],
   "source": [
    "dtdm_qsos_civ = dtdm_raw_analysis('qsos', 'uid', 'r', 'qsos')\n",
    "dtdm_qsos_civ.read_pooled_stats('log_inner', key=None)\n",
    "\n",
    "dtdm_star = dtdm_raw_analysis('calibStars', 'uid_s', 'r', 'stars')\n",
    "dtdm_star.read_pooled_stats('log_inner')\n",
    "\n",
    "print(dtdm_star.pooled_stats.keys())\n",
    "print(dtdm_qsos_civ.pooled_stats.keys())\n"
   ]
  },
  {
   "cell_type": "code",
   "execution_count": null,
   "id": "perceived-police",
   "metadata": {},
   "outputs": [],
   "source": [
    "fig, ax = dtdm_qsos_civ.plot_stats(['mean weighted a'], figax=None, xscale='log', yscale='linear', xlim=(0,10000), ylim=(-0.01, 0.18), ylabel='Drift (magnitude)')\n",
    "dtdm_star.plot_stats(['mean weighted a'], figax=(fig,ax), color='r')\n",
    "# fig.savefig('plots/qso_mbh_log.pdf', bbox_inches='tight')"
   ]
  },
  {
   "cell_type": "markdown",
   "id": "parental-given",
   "metadata": {},
   "source": [
    "# Entire population"
   ]
  },
  {
   "cell_type": "code",
   "execution_count": null,
   "id": "thorough-session",
   "metadata": {},
   "outputs": [],
   "source": [
    "names = ['n', 'mean weighted a', 'mean weighted b', 'SF cwf a', 'SF cwf b', 'SF cwf c']"
   ]
  },
  {
   "cell_type": "markdown",
   "id": "smart-galaxy",
   "metadata": {},
   "source": [
    "## Stars"
   ]
  },
  {
   "cell_type": "code",
   "execution_count": 43,
   "id": "acute-confusion",
   "metadata": {},
   "outputs": [],
   "source": [
    "# Initialise \n",
    "dtdm_star = dtdm_raw_analysis('calibStars', 'uid_s', 'r', 'stars')"
   ]
  },
  {
   "cell_type": "code",
   "execution_count": null,
   "id": "alpha-wages",
   "metadata": {},
   "outputs": [],
   "source": [
    "dts = []\n",
    "for i in range(50):\n",
    "    dtdm_star.read(i)\n",
    "    dt = (dtdm_star.df['dt'][np.sqrt(dtdm_star.df['cat'])%1==0]).max()\n",
    "    dts.append(dt)\n",
    "max(dts)"
   ]
  },
  {
   "cell_type": "code",
   "execution_count": null,
   "id": "previous-panama",
   "metadata": {},
   "outputs": [],
   "source": [
    "# Compute\n",
    "# dtdm_star.calculate_stats_looped(46, 'log_inner', save=True, inner=True, max_t=4027)"
   ]
  },
  {
   "cell_type": "code",
   "execution_count": null,
   "id": "widespread-tattoo",
   "metadata": {},
   "outputs": [],
   "source": [
    "# Read\n",
    "dtdm_star.read_pooled_stats('log_inner')\n",
    "dtdm_star.pooled_stats.keys()"
   ]
  },
  {
   "cell_type": "code",
   "execution_count": null,
   "id": "certain-walnut",
   "metadata": {},
   "outputs": [],
   "source": [
    "fig, ax = dtdm_star.plot_stats(['SF cwf p'], figax=None, xscale='log', yscale='linear', ylim=(-0.01, 0.21), xlim=(0.9,3e4), ylabel='Structure Function (mag)', color='r')\n",
    "dtdm_star.plot_stats(['SF cwf n'], figax=(fig,ax), xscale='log', yscale='linear', color='b')\n",
    "\n",
    "# fig.savefig('plots/SF_asym.pdf', bbox_inches='tight')"
   ]
  },
  {
   "cell_type": "markdown",
   "id": "dried-spokesman",
   "metadata": {},
   "source": [
    "## Qsos"
   ]
  },
  {
   "cell_type": "code",
   "execution_count": 3,
   "id": "divine-measurement",
   "metadata": {},
   "outputs": [],
   "source": [
    "# Initialise\n",
    "dtdm_qsos = dtdm_raw_analysis('qsos', 'uid', 'r', 'qsos')"
   ]
  },
  {
   "cell_type": "code",
   "execution_count": 4,
   "id": "pediatric-accommodation",
   "metadata": {},
   "outputs": [],
   "source": [
    "# dts = []\n",
    "# for i in range(26):\n",
    "#     dtdm_qsos.read(i)\n",
    "#     dt = (dtdm_qsos.df['dt'][np.sqrt(dtdm_qsos.df['cat'])%1==0]).max()\n",
    "#     dts.append(dt)\n",
    "# max(dts)"
   ]
  },
  {
   "cell_type": "code",
   "execution_count": 5,
   "id": "expensive-manual",
   "metadata": {},
   "outputs": [
    {
     "name": "stdout",
     "output_type": "stream",
     "text": [
      "chunk: 0\n",
      "number of points in 1.0 < ∆t < 1.5: 97755\n",
      "number of points in 1.5 < ∆t < 2.3: 125911\n",
      "number of points in 2.3 < ∆t < 3.4: 177805\n",
      "number of points in 3.4 < ∆t < 5.1: 252971\n",
      "number of points in 5.1 < ∆t < 7.7: 354145\n",
      "number of points in 7.7 < ∆t < 11.5: 484684\n",
      "number of points in 11.5 < ∆t < 17.3: 623306\n",
      "number of points in 17.3 < ∆t < 26.1: 763205\n",
      "number of points in 26.1 < ∆t < 39.2: 911844\n",
      "number of points in 39.2 < ∆t < 58.9: 1012056\n",
      "number of points in 58.9 < ∆t < 88.5: 894846\n",
      "number of points in 88.5 < ∆t < 133.0: 660596\n",
      "number of points in 133.0 < ∆t < 200.0: 367396\n",
      "number of points in 200.0 < ∆t < 300.6: 186897\n",
      "number of points in 300.6 < ∆t < 451.8: 153025\n",
      "number of points in 451.8 < ∆t < 679.1: 118382\n",
      "number of points in 679.1 < ∆t < 1020.8: 60285\n",
      "number of points in 1020.8 < ∆t < 1534.5: 18149\n",
      "number of points in 1534.5 < ∆t < 2306.5: 2399\n",
      "number of points in 2306.5 < ∆t < 3467.0: 137\n",
      "chunk: 1\n",
      "number of points in 1.0 < ∆t < 1.5: 121395\n",
      "number of points in 1.5 < ∆t < 2.3: 164127\n",
      "number of points in 2.3 < ∆t < 3.4: 219971\n",
      "number of points in 3.4 < ∆t < 5.1: 305430\n",
      "number of points in 5.1 < ∆t < 7.7: 428682\n",
      "number of points in 7.7 < ∆t < 11.5: 593863\n",
      "number of points in 11.5 < ∆t < 17.3: 734450\n",
      "number of points in 17.3 < ∆t < 26.1: 866634\n",
      "number of points in 26.1 < ∆t < 39.2: 961749\n",
      "number of points in 39.2 < ∆t < 58.9: 967789\n",
      "number of points in 58.9 < ∆t < 88.5: 826968\n",
      "number of points in 88.5 < ∆t < 133.0: 698317\n",
      "number of points in 133.0 < ∆t < 200.0: 469102\n",
      "number of points in 200.0 < ∆t < 300.6: 276387\n",
      "number of points in 300.6 < ∆t < 451.8: 251425\n",
      "number of points in 451.8 < ∆t < 679.1: 197173\n",
      "number of points in 679.1 < ∆t < 1020.8: 103838\n",
      "number of points in 1020.8 < ∆t < 1534.5: 31092\n",
      "number of points in 1534.5 < ∆t < 2306.5: 4724\n",
      "number of points in 2306.5 < ∆t < 3467.0: 269\n",
      "chunk: 2\n",
      "number of points in 1.0 < ∆t < 1.5: 152165\n",
      "number of points in 1.5 < ∆t < 2.3: 204048\n",
      "number of points in 2.3 < ∆t < 3.4: 279000\n",
      "number of points in 3.4 < ∆t < 5.1: 389971\n",
      "number of points in 5.1 < ∆t < 7.7: 540934\n",
      "number of points in 7.7 < ∆t < 11.5: 744818\n",
      "number of points in 11.5 < ∆t < 17.3: 941940\n",
      "number of points in 17.3 < ∆t < 26.1: 1125209\n",
      "number of points in 26.1 < ∆t < 39.2: 1229390\n",
      "number of points in 39.2 < ∆t < 58.9: 1240302\n",
      "number of points in 58.9 < ∆t < 88.5: 1172653\n",
      "number of points in 88.5 < ∆t < 133.0: 1142002\n",
      "number of points in 133.0 < ∆t < 200.0: 696580\n",
      "number of points in 200.0 < ∆t < 300.6: 253264\n",
      "number of points in 300.6 < ∆t < 451.8: 136322\n",
      "number of points in 451.8 < ∆t < 679.1: 84051\n",
      "number of points in 679.1 < ∆t < 1020.8: 33223\n",
      "number of points in 1020.8 < ∆t < 1534.5: 6974\n",
      "number of points in 1534.5 < ∆t < 2306.5: 644\n",
      "number of points in 2306.5 < ∆t < 3467.0: 23\n",
      "chunk: 3\n",
      "number of points in 1.0 < ∆t < 1.5: 213854\n",
      "number of points in 1.5 < ∆t < 2.3: 283832\n",
      "number of points in 2.3 < ∆t < 3.4: 387255\n",
      "number of points in 3.4 < ∆t < 5.1: 557341\n",
      "number of points in 5.1 < ∆t < 7.7: 765887\n",
      "number of points in 7.7 < ∆t < 11.5: 1057435\n",
      "number of points in 11.5 < ∆t < 17.3: 1339146\n",
      "number of points in 17.3 < ∆t < 26.1: 1561748\n",
      "number of points in 26.1 < ∆t < 39.2: 1632137\n",
      "number of points in 39.2 < ∆t < 58.9: 1826925\n",
      "number of points in 58.9 < ∆t < 88.5: 2258030\n",
      "number of points in 88.5 < ∆t < 133.0: 2693348\n",
      "number of points in 133.0 < ∆t < 200.0: 1821862\n",
      "number of points in 200.0 < ∆t < 300.6: 594724\n",
      "number of points in 300.6 < ∆t < 451.8: 147649\n",
      "number of points in 451.8 < ∆t < 679.1: 94490\n",
      "number of points in 679.1 < ∆t < 1020.8: 46713\n",
      "number of points in 1020.8 < ∆t < 1534.5: 13134\n",
      "number of points in 1534.5 < ∆t < 2306.5: 1732\n",
      "number of points in 2306.5 < ∆t < 3467.0: 103\n",
      "chunk: 4\n",
      "number of points in 1.0 < ∆t < 1.5: 308562\n",
      "number of points in 1.5 < ∆t < 2.3: 421849\n",
      "number of points in 2.3 < ∆t < 3.4: 587084\n",
      "number of points in 3.4 < ∆t < 5.1: 855777\n",
      "number of points in 5.1 < ∆t < 7.7: 1214137\n",
      "number of points in 7.7 < ∆t < 11.5: 1684164\n",
      "number of points in 11.5 < ∆t < 17.3: 2083957\n",
      "number of points in 17.3 < ∆t < 26.1: 2243462\n",
      "number of points in 26.1 < ∆t < 39.2: 2015754\n",
      "number of points in 39.2 < ∆t < 58.9: 2113722\n",
      "number of points in 58.9 < ∆t < 88.5: 3289021\n",
      "number of points in 88.5 < ∆t < 133.0: 4794838\n",
      "number of points in 133.0 < ∆t < 200.0: 3344250\n",
      "number of points in 200.0 < ∆t < 300.6: 1064376\n",
      "number of points in 300.6 < ∆t < 451.8: 119127\n",
      "number of points in 451.8 < ∆t < 679.1: 49563\n",
      "number of points in 679.1 < ∆t < 1020.8: 20194\n",
      "number of points in 1020.8 < ∆t < 1534.5: 5188\n",
      "number of points in 1534.5 < ∆t < 2306.5: 708\n",
      "number of points in 2306.5 < ∆t < 3467.0: 29\n",
      "chunk: 5\n",
      "number of points in 1.0 < ∆t < 1.5: 420036\n",
      "number of points in 1.5 < ∆t < 2.3: 587434\n",
      "number of points in 2.3 < ∆t < 3.4: 815567\n",
      "number of points in 3.4 < ∆t < 5.1: 1180511\n",
      "number of points in 5.1 < ∆t < 7.7: 1692439\n",
      "number of points in 7.7 < ∆t < 11.5: 2342235\n",
      "number of points in 11.5 < ∆t < 17.3: 2994151\n",
      "number of points in 17.3 < ∆t < 26.1: 3305953\n",
      "number of points in 26.1 < ∆t < 39.2: 2932987\n",
      "number of points in 39.2 < ∆t < 58.9: 2557714\n",
      "number of points in 58.9 < ∆t < 88.5: 4049068\n",
      "number of points in 88.5 < ∆t < 133.0: 6513803\n",
      "number of points in 133.0 < ∆t < 200.0: 4465766\n",
      "number of points in 200.0 < ∆t < 300.6: 1436570\n",
      "number of points in 300.6 < ∆t < 451.8: 107625\n",
      "number of points in 451.8 < ∆t < 679.1: 21757\n",
      "number of points in 679.1 < ∆t < 1020.8: 5032\n",
      "number of points in 1020.8 < ∆t < 1534.5: 463\n",
      "number of points in 1534.5 < ∆t < 2306.5: 46\n",
      "number of points in 2306.5 < ∆t < 3467.0: 1\n",
      "weights cannot be normalized\n",
      "chunk: 6\n",
      "number of points in 1.0 < ∆t < 1.5: 322124\n",
      "number of points in 1.5 < ∆t < 2.3: 466942\n",
      "number of points in 2.3 < ∆t < 3.4: 649106\n",
      "number of points in 3.4 < ∆t < 5.1: 929270\n",
      "number of points in 5.1 < ∆t < 7.7: 1318289\n",
      "number of points in 7.7 < ∆t < 11.5: 1818180\n",
      "number of points in 11.5 < ∆t < 17.3: 2380539\n",
      "number of points in 17.3 < ∆t < 26.1: 2777839\n",
      "number of points in 26.1 < ∆t < 39.2: 2696846\n",
      "number of points in 39.2 < ∆t < 58.9: 2366259\n",
      "number of points in 58.9 < ∆t < 88.5: 3246829\n",
      "number of points in 88.5 < ∆t < 133.0: 4539202\n",
      "number of points in 133.0 < ∆t < 200.0: 2926862\n",
      "number of points in 200.0 < ∆t < 300.6: 1008386\n",
      "number of points in 300.6 < ∆t < 451.8: 126546\n",
      "number of points in 451.8 < ∆t < 679.1: 57053\n",
      "number of points in 679.1 < ∆t < 1020.8: 25900\n",
      "number of points in 1020.8 < ∆t < 1534.5: 6433\n",
      "number of points in 1534.5 < ∆t < 2306.5: 859\n",
      "number of points in 2306.5 < ∆t < 3467.0: 40\n",
      "chunk: 7\n",
      "number of points in 1.0 < ∆t < 1.5: 110636\n",
      "number of points in 1.5 < ∆t < 2.3: 152686\n",
      "number of points in 2.3 < ∆t < 3.4: 214675\n",
      "number of points in 3.4 < ∆t < 5.1: 305187\n",
      "number of points in 5.1 < ∆t < 7.7: 409855\n",
      "number of points in 7.7 < ∆t < 11.5: 549119\n",
      "number of points in 11.5 < ∆t < 17.3: 726674\n",
      "number of points in 17.3 < ∆t < 26.1: 911486\n",
      "number of points in 26.1 < ∆t < 39.2: 1071041\n",
      "number of points in 39.2 < ∆t < 58.9: 1130072\n",
      "number of points in 58.9 < ∆t < 88.5: 940425\n",
      "number of points in 88.5 < ∆t < 133.0: 636173\n",
      "number of points in 133.0 < ∆t < 200.0: 323166\n",
      "number of points in 200.0 < ∆t < 300.6: 163579\n",
      "number of points in 300.6 < ∆t < 451.8: 142907\n",
      "number of points in 451.8 < ∆t < 679.1: 117024\n",
      "number of points in 679.1 < ∆t < 1020.8: 66231\n",
      "number of points in 1020.8 < ∆t < 1534.5: 21234\n",
      "number of points in 1534.5 < ∆t < 2306.5: 3202\n",
      "number of points in 2306.5 < ∆t < 3467.0: 212\n",
      "chunk: 8\n",
      "number of points in 1.0 < ∆t < 1.5: 129273\n",
      "number of points in 1.5 < ∆t < 2.3: 182239\n",
      "number of points in 2.3 < ∆t < 3.4: 246377\n",
      "number of points in 3.4 < ∆t < 5.1: 349997\n",
      "number of points in 5.1 < ∆t < 7.7: 482974\n",
      "number of points in 7.7 < ∆t < 11.5: 651913\n",
      "number of points in 11.5 < ∆t < 17.3: 849775\n",
      "number of points in 17.3 < ∆t < 26.1: 1053291\n",
      "number of points in 26.1 < ∆t < 39.2: 1167354\n",
      "number of points in 39.2 < ∆t < 58.9: 1205795\n",
      "number of points in 58.9 < ∆t < 88.5: 1182546\n",
      "number of points in 88.5 < ∆t < 133.0: 996874\n",
      "number of points in 133.0 < ∆t < 200.0: 546796\n",
      "number of points in 200.0 < ∆t < 300.6: 207841\n",
      "number of points in 300.6 < ∆t < 451.8: 108435\n",
      "number of points in 451.8 < ∆t < 679.1: 64821\n",
      "number of points in 679.1 < ∆t < 1020.8: 24976\n",
      "number of points in 1020.8 < ∆t < 1534.5: 5633\n",
      "number of points in 1534.5 < ∆t < 2306.5: 322\n",
      "number of points in 2306.5 < ∆t < 3467.0: 7\n"
     ]
    },
    {
     "name": "stderr",
     "output_type": "stream",
     "text": [
      "/disk1/hrb/anaconda3/envs/astroconda/lib/python3.6/site-packages/scipy/stats/stats.py:1604: UserWarning: kurtosistest only valid for n>=20 ... continuing anyway, n=7\n",
      "  \"anyway, n=%i\" % int(n))\n"
     ]
    },
    {
     "name": "stdout",
     "output_type": "stream",
     "text": [
      "chunk: 9\n",
      "number of points in 1.0 < ∆t < 1.5: 183315\n",
      "number of points in 1.5 < ∆t < 2.3: 252563\n",
      "number of points in 2.3 < ∆t < 3.4: 327850\n",
      "number of points in 3.4 < ∆t < 5.1: 459827\n",
      "number of points in 5.1 < ∆t < 7.7: 651324\n",
      "number of points in 7.7 < ∆t < 11.5: 900339\n",
      "number of points in 11.5 < ∆t < 17.3: 1131356\n",
      "number of points in 17.3 < ∆t < 26.1: 1288914\n",
      "number of points in 26.1 < ∆t < 39.2: 1337221\n",
      "number of points in 39.2 < ∆t < 58.9: 1484261\n",
      "number of points in 58.9 < ∆t < 88.5: 1915001\n",
      "number of points in 88.5 < ∆t < 133.0: 2278091\n",
      "number of points in 133.0 < ∆t < 200.0: 1475787\n",
      "number of points in 200.0 < ∆t < 300.6: 473384\n",
      "number of points in 300.6 < ∆t < 451.8: 92164\n",
      "number of points in 451.8 < ∆t < 679.1: 44053\n",
      "number of points in 679.1 < ∆t < 1020.8: 15131\n",
      "number of points in 1020.8 < ∆t < 1534.5: 2938\n",
      "number of points in 1534.5 < ∆t < 2306.5: 285\n",
      "number of points in 2306.5 < ∆t < 3467.0: 17\n"
     ]
    },
    {
     "name": "stderr",
     "output_type": "stream",
     "text": [
      "/disk1/hrb/anaconda3/envs/astroconda/lib/python3.6/site-packages/scipy/stats/stats.py:1604: UserWarning: kurtosistest only valid for n>=20 ... continuing anyway, n=17\n",
      "  \"anyway, n=%i\" % int(n))\n"
     ]
    },
    {
     "name": "stdout",
     "output_type": "stream",
     "text": [
      "chunk: 10\n",
      "number of points in 1.0 < ∆t < 1.5: 270402\n",
      "number of points in 1.5 < ∆t < 2.3: 357294\n",
      "number of points in 2.3 < ∆t < 3.4: 503704\n",
      "number of points in 3.4 < ∆t < 5.1: 746380\n",
      "number of points in 5.1 < ∆t < 7.7: 1063470\n",
      "number of points in 7.7 < ∆t < 11.5: 1488733\n",
      "number of points in 11.5 < ∆t < 17.3: 1812495\n",
      "number of points in 17.3 < ∆t < 26.1: 1857944\n",
      "number of points in 26.1 < ∆t < 39.2: 1652589\n",
      "number of points in 39.2 < ∆t < 58.9: 2055997\n",
      "number of points in 58.9 < ∆t < 88.5: 3376968\n",
      "number of points in 88.5 < ∆t < 133.0: 4700320\n",
      "number of points in 133.0 < ∆t < 200.0: 3316544\n",
      "number of points in 200.0 < ∆t < 300.6: 1006069\n",
      "number of points in 300.6 < ∆t < 451.8: 91246\n",
      "number of points in 451.8 < ∆t < 679.1: 26154\n",
      "number of points in 679.1 < ∆t < 1020.8: 8514\n",
      "number of points in 1020.8 < ∆t < 1534.5: 1208\n",
      "number of points in 1534.5 < ∆t < 2306.5: 107\n",
      "number of points in 2306.5 < ∆t < 3467.0: 2\n",
      "weights cannot be normalized\n",
      "chunk: 11\n",
      "number of points in 1.0 < ∆t < 1.5: 347745\n",
      "number of points in 1.5 < ∆t < 2.3: 476680\n",
      "number of points in 2.3 < ∆t < 3.4: 665115\n",
      "number of points in 3.4 < ∆t < 5.1: 975394\n",
      "number of points in 5.1 < ∆t < 7.7: 1405615\n",
      "number of points in 7.7 < ∆t < 11.5: 1941621\n",
      "number of points in 11.5 < ∆t < 17.3: 2427780\n",
      "number of points in 17.3 < ∆t < 26.1: 2572211\n",
      "number of points in 26.1 < ∆t < 39.2: 2267423\n",
      "number of points in 39.2 < ∆t < 58.9: 2369453\n",
      "number of points in 58.9 < ∆t < 88.5: 3911504\n",
      "number of points in 88.5 < ∆t < 133.0: 5991885\n",
      "number of points in 133.0 < ∆t < 200.0: 4089252\n",
      "number of points in 200.0 < ∆t < 300.6: 1286179\n",
      "number of points in 300.6 < ∆t < 451.8: 103665\n",
      "number of points in 451.8 < ∆t < 679.1: 20531\n",
      "number of points in 679.1 < ∆t < 1020.8: 4635\n",
      "number of points in 1020.8 < ∆t < 1534.5: 344\n",
      "number of points in 1534.5 < ∆t < 2306.5: 24\n",
      "number of points in 2306.5 < ∆t < 3467.0: 2\n",
      "weights cannot be normalized\n",
      "chunk: 12\n",
      "number of points in 1.0 < ∆t < 1.5: 561844\n",
      "number of points in 1.5 < ∆t < 2.3: 811697\n",
      "number of points in 2.3 < ∆t < 3.4: 1126784\n",
      "number of points in 3.4 < ∆t < 5.1: 1604711\n",
      "number of points in 5.1 < ∆t < 7.7: 2253539\n",
      "number of points in 7.7 < ∆t < 11.5: 3097807\n",
      "number of points in 11.5 < ∆t < 17.3: 4048667\n",
      "number of points in 17.3 < ∆t < 26.1: 4691933\n",
      "number of points in 26.1 < ∆t < 39.2: 4220255\n",
      "number of points in 39.2 < ∆t < 58.9: 3258353\n",
      "number of points in 58.9 < ∆t < 88.5: 4884142\n",
      "number of points in 88.5 < ∆t < 133.0: 7935032\n",
      "number of points in 133.0 < ∆t < 200.0: 5242761\n",
      "number of points in 200.0 < ∆t < 300.6: 1726560\n",
      "number of points in 300.6 < ∆t < 451.8: 119971\n",
      "number of points in 451.8 < ∆t < 679.1: 22093\n",
      "number of points in 679.1 < ∆t < 1020.8: 5714\n",
      "number of points in 1020.8 < ∆t < 1534.5: 411\n",
      "number of points in 1534.5 < ∆t < 2306.5: 23\n",
      "number of points in 2306.5 < ∆t < 3467.0: 0\n",
      "number of points in bin: 0\n",
      "chunk: 13\n",
      "number of points in 1.0 < ∆t < 1.5: 92336\n",
      "number of points in 1.5 < ∆t < 2.3: 122287\n",
      "number of points in 2.3 < ∆t < 3.4: 170867\n",
      "number of points in 3.4 < ∆t < 5.1: 242110\n",
      "number of points in 5.1 < ∆t < 7.7: 326630\n",
      "number of points in 7.7 < ∆t < 11.5: 432923\n",
      "number of points in 11.5 < ∆t < 17.3: 586066\n",
      "number of points in 17.3 < ∆t < 26.1: 791113\n",
      "number of points in 26.1 < ∆t < 39.2: 999793\n",
      "number of points in 39.2 < ∆t < 58.9: 1164997\n",
      "number of points in 58.9 < ∆t < 88.5: 1107477\n",
      "number of points in 88.5 < ∆t < 133.0: 796290\n",
      "number of points in 133.0 < ∆t < 200.0: 398841\n",
      "number of points in 200.0 < ∆t < 300.6: 176607\n",
      "number of points in 300.6 < ∆t < 451.8: 132143\n",
      "number of points in 451.8 < ∆t < 679.1: 102073\n",
      "number of points in 679.1 < ∆t < 1020.8: 54542\n",
      "number of points in 1020.8 < ∆t < 1534.5: 16464\n",
      "number of points in 1534.5 < ∆t < 2306.5: 2145\n",
      "number of points in 2306.5 < ∆t < 3467.0: 130\n",
      "chunk: 14\n",
      "number of points in 1.0 < ∆t < 1.5: 128141\n",
      "number of points in 1.5 < ∆t < 2.3: 181736\n",
      "number of points in 2.3 < ∆t < 3.4: 253068\n",
      "number of points in 3.4 < ∆t < 5.1: 365541\n",
      "number of points in 5.1 < ∆t < 7.7: 507708\n",
      "number of points in 7.7 < ∆t < 11.5: 695646\n",
      "number of points in 11.5 < ∆t < 17.3: 885573\n",
      "number of points in 17.3 < ∆t < 26.1: 1031592\n",
      "number of points in 26.1 < ∆t < 39.2: 1106681\n",
      "number of points in 39.2 < ∆t < 58.9: 1088050\n",
      "number of points in 58.9 < ∆t < 88.5: 929582\n",
      "number of points in 88.5 < ∆t < 133.0: 752634\n",
      "number of points in 133.0 < ∆t < 200.0: 434215\n",
      "number of points in 200.0 < ∆t < 300.6: 204175\n",
      "number of points in 300.6 < ∆t < 451.8: 157817\n",
      "number of points in 451.8 < ∆t < 679.1: 114451\n",
      "number of points in 679.1 < ∆t < 1020.8: 50507\n",
      "number of points in 1020.8 < ∆t < 1534.5: 13832\n",
      "number of points in 1534.5 < ∆t < 2306.5: 1565\n",
      "number of points in 2306.5 < ∆t < 3467.0: 64\n",
      "chunk: 15\n",
      "number of points in 1.0 < ∆t < 1.5: 161672\n",
      "number of points in 1.5 < ∆t < 2.3: 227313\n",
      "number of points in 2.3 < ∆t < 3.4: 299486\n",
      "number of points in 3.4 < ∆t < 5.1: 412519\n",
      "number of points in 5.1 < ∆t < 7.7: 575534\n",
      "number of points in 7.7 < ∆t < 11.5: 791336\n",
      "number of points in 11.5 < ∆t < 17.3: 1004602\n",
      "number of points in 17.3 < ∆t < 26.1: 1187593\n",
      "number of points in 26.1 < ∆t < 39.2: 1276314\n",
      "number of points in 39.2 < ∆t < 58.9: 1241063\n",
      "number of points in 58.9 < ∆t < 88.5: 1243414\n",
      "number of points in 88.5 < ∆t < 133.0: 1283740\n",
      "number of points in 133.0 < ∆t < 200.0: 781864\n",
      "number of points in 200.0 < ∆t < 300.6: 270662\n",
      "number of points in 300.6 < ∆t < 451.8: 129806\n",
      "number of points in 451.8 < ∆t < 679.1: 86082\n",
      "number of points in 679.1 < ∆t < 1020.8: 37640\n",
      "number of points in 1020.8 < ∆t < 1534.5: 9495\n",
      "number of points in 1534.5 < ∆t < 2306.5: 1004\n",
      "number of points in 2306.5 < ∆t < 3467.0: 70\n",
      "chunk: 16\n",
      "number of points in 1.0 < ∆t < 1.5: 223422\n",
      "number of points in 1.5 < ∆t < 2.3: 293332\n",
      "number of points in 2.3 < ∆t < 3.4: 398869\n",
      "number of points in 3.4 < ∆t < 5.1: 571218\n",
      "number of points in 5.1 < ∆t < 7.7: 813422\n",
      "number of points in 7.7 < ∆t < 11.5: 1144119\n",
      "number of points in 11.5 < ∆t < 17.3: 1392613\n",
      "number of points in 17.3 < ∆t < 26.1: 1462050\n",
      "number of points in 26.1 < ∆t < 39.2: 1421143\n",
      "number of points in 39.2 < ∆t < 58.9: 1993581\n",
      "number of points in 58.9 < ∆t < 88.5: 3103692\n",
      "number of points in 88.5 < ∆t < 133.0: 3782249\n",
      "number of points in 133.0 < ∆t < 200.0: 2558914\n",
      "number of points in 200.0 < ∆t < 300.6: 731785\n",
      "number of points in 300.6 < ∆t < 451.8: 80184\n",
      "number of points in 451.8 < ∆t < 679.1: 28969\n",
      "number of points in 679.1 < ∆t < 1020.8: 8586\n",
      "number of points in 1020.8 < ∆t < 1534.5: 816\n",
      "number of points in 1534.5 < ∆t < 2306.5: 27\n",
      "number of points in 2306.5 < ∆t < 3467.0: 2\n",
      "weights cannot be normalized\n",
      "chunk: 17\n",
      "number of points in 1.0 < ∆t < 1.5: 313915\n",
      "number of points in 1.5 < ∆t < 2.3: 421458\n",
      "number of points in 2.3 < ∆t < 3.4: 593765\n",
      "number of points in 3.4 < ∆t < 5.1: 890888\n",
      "number of points in 5.1 < ∆t < 7.7: 1286965\n",
      "number of points in 7.7 < ∆t < 11.5: 1789411\n",
      "number of points in 11.5 < ∆t < 17.3: 2222583\n",
      "number of points in 17.3 < ∆t < 26.1: 2345041\n",
      "number of points in 26.1 < ∆t < 39.2: 2062421\n",
      "number of points in 39.2 < ∆t < 58.9: 2125197\n",
      "number of points in 58.9 < ∆t < 88.5: 3502535\n",
      "number of points in 88.5 < ∆t < 133.0: 5461294\n",
      "number of points in 133.0 < ∆t < 200.0: 3769386\n",
      "number of points in 200.0 < ∆t < 300.6: 1127986\n",
      "number of points in 300.6 < ∆t < 451.8: 90891\n",
      "number of points in 451.8 < ∆t < 679.1: 16330\n",
      "number of points in 679.1 < ∆t < 1020.8: 3508\n",
      "number of points in 1020.8 < ∆t < 1534.5: 432\n",
      "number of points in 1534.5 < ∆t < 2306.5: 136\n",
      "number of points in 2306.5 < ∆t < 3467.0: 10\n"
     ]
    },
    {
     "name": "stderr",
     "output_type": "stream",
     "text": [
      "/disk1/hrb/anaconda3/envs/astroconda/lib/python3.6/site-packages/scipy/stats/stats.py:1604: UserWarning: kurtosistest only valid for n>=20 ... continuing anyway, n=10\n",
      "  \"anyway, n=%i\" % int(n))\n"
     ]
    },
    {
     "name": "stdout",
     "output_type": "stream",
     "text": [
      "chunk: 18\n",
      "number of points in 1.0 < ∆t < 1.5: 420521\n",
      "number of points in 1.5 < ∆t < 2.3: 598029\n",
      "number of points in 2.3 < ∆t < 3.4: 829483\n",
      "number of points in 3.4 < ∆t < 5.1: 1211803\n",
      "number of points in 5.1 < ∆t < 7.7: 1738232\n",
      "number of points in 7.7 < ∆t < 11.5: 2393496\n",
      "number of points in 11.5 < ∆t < 17.3: 3070902\n",
      "number of points in 17.3 < ∆t < 26.1: 3407510\n",
      "number of points in 26.1 < ∆t < 39.2: 3038937\n",
      "number of points in 39.2 < ∆t < 58.9: 2714542\n",
      "number of points in 58.9 < ∆t < 88.5: 4365793\n",
      "number of points in 88.5 < ∆t < 133.0: 6927016\n",
      "number of points in 133.0 < ∆t < 200.0: 4665129\n",
      "number of points in 200.0 < ∆t < 300.6: 1577033\n",
      "number of points in 300.6 < ∆t < 451.8: 119520\n",
      "number of points in 451.8 < ∆t < 679.1: 16657\n",
      "number of points in 679.1 < ∆t < 1020.8: 3366\n",
      "number of points in 1020.8 < ∆t < 1534.5: 174\n",
      "number of points in 1534.5 < ∆t < 2306.5: 26\n",
      "number of points in 2306.5 < ∆t < 3467.0: 2\n",
      "weights cannot be normalized\n",
      "chunk: 19\n",
      "number of points in 1.0 < ∆t < 1.5: 361457\n",
      "number of points in 1.5 < ∆t < 2.3: 517923\n",
      "number of points in 2.3 < ∆t < 3.4: 726669\n",
      "number of points in 3.4 < ∆t < 5.1: 1037386\n",
      "number of points in 5.1 < ∆t < 7.7: 1464337\n",
      "number of points in 7.7 < ∆t < 11.5: 2014601\n",
      "number of points in 11.5 < ∆t < 17.3: 2653226\n",
      "number of points in 17.3 < ∆t < 26.1: 3119316\n",
      "number of points in 26.1 < ∆t < 39.2: 2986032\n",
      "number of points in 39.2 < ∆t < 58.9: 2546908\n",
      "number of points in 58.9 < ∆t < 88.5: 3556937\n",
      "number of points in 88.5 < ∆t < 133.0: 5128043\n",
      "number of points in 133.0 < ∆t < 200.0: 3227105\n",
      "number of points in 200.0 < ∆t < 300.6: 1077957\n",
      "number of points in 300.6 < ∆t < 451.8: 92995\n",
      "number of points in 451.8 < ∆t < 679.1: 27441\n",
      "number of points in 679.1 < ∆t < 1020.8: 7673\n",
      "number of points in 1020.8 < ∆t < 1534.5: 1100\n",
      "number of points in 1534.5 < ∆t < 2306.5: 75\n",
      "number of points in 2306.5 < ∆t < 3467.0: 2\n",
      "weights cannot be normalized\n",
      "chunk: 20\n",
      "number of points in 1.0 < ∆t < 1.5: 113703\n",
      "number of points in 1.5 < ∆t < 2.3: 153963\n",
      "number of points in 2.3 < ∆t < 3.4: 217324\n",
      "number of points in 3.4 < ∆t < 5.1: 314993\n",
      "number of points in 5.1 < ∆t < 7.7: 437460\n",
      "number of points in 7.7 < ∆t < 11.5: 597859\n",
      "number of points in 11.5 < ∆t < 17.3: 769819\n",
      "number of points in 17.3 < ∆t < 26.1: 928644\n",
      "number of points in 26.1 < ∆t < 39.2: 1080987\n",
      "number of points in 39.2 < ∆t < 58.9: 1166652\n",
      "number of points in 58.9 < ∆t < 88.5: 1071638\n",
      "number of points in 88.5 < ∆t < 133.0: 818327\n",
      "number of points in 133.0 < ∆t < 200.0: 450930\n",
      "number of points in 200.0 < ∆t < 300.6: 191070\n",
      "number of points in 300.6 < ∆t < 451.8: 132208\n",
      "number of points in 451.8 < ∆t < 679.1: 90367\n",
      "number of points in 679.1 < ∆t < 1020.8: 38368\n",
      "number of points in 1020.8 < ∆t < 1534.5: 10206\n",
      "number of points in 1534.5 < ∆t < 2306.5: 1201\n",
      "number of points in 2306.5 < ∆t < 3467.0: 82\n",
      "chunk: 21\n",
      "number of points in 1.0 < ∆t < 1.5: 138694\n",
      "number of points in 1.5 < ∆t < 2.3: 188989\n",
      "number of points in 2.3 < ∆t < 3.4: 259425\n",
      "number of points in 3.4 < ∆t < 5.1: 364830\n",
      "number of points in 5.1 < ∆t < 7.7: 504256\n",
      "number of points in 7.7 < ∆t < 11.5: 694709\n",
      "number of points in 11.5 < ∆t < 17.3: 871337\n",
      "number of points in 17.3 < ∆t < 26.1: 989389\n",
      "number of points in 26.1 < ∆t < 39.2: 1070231\n",
      "number of points in 39.2 < ∆t < 58.9: 1209283\n",
      "number of points in 58.9 < ∆t < 88.5: 1278740\n",
      "number of points in 88.5 < ∆t < 133.0: 1161260\n",
      "number of points in 133.0 < ∆t < 200.0: 712247\n",
      "number of points in 200.0 < ∆t < 300.6: 259706\n",
      "number of points in 300.6 < ∆t < 451.8: 122693\n",
      "number of points in 451.8 < ∆t < 679.1: 85050\n",
      "number of points in 679.1 < ∆t < 1020.8: 35812\n",
      "number of points in 1020.8 < ∆t < 1534.5: 8044\n",
      "number of points in 1534.5 < ∆t < 2306.5: 963\n",
      "number of points in 2306.5 < ∆t < 3467.0: 43\n",
      "chunk: 22\n",
      "number of points in 1.0 < ∆t < 1.5: 195752\n",
      "number of points in 1.5 < ∆t < 2.3: 260468\n",
      "number of points in 2.3 < ∆t < 3.4: 355053\n",
      "number of points in 3.4 < ∆t < 5.1: 505442\n",
      "number of points in 5.1 < ∆t < 7.7: 697291\n",
      "number of points in 7.7 < ∆t < 11.5: 970942\n",
      "number of points in 11.5 < ∆t < 17.3: 1229151\n",
      "number of points in 17.3 < ∆t < 26.1: 1394838\n",
      "number of points in 26.1 < ∆t < 39.2: 1418834\n",
      "number of points in 39.2 < ∆t < 58.9: 1577839\n",
      "number of points in 58.9 < ∆t < 88.5: 1932773\n",
      "number of points in 88.5 < ∆t < 133.0: 2250132\n",
      "number of points in 133.0 < ∆t < 200.0: 1486757\n",
      "number of points in 200.0 < ∆t < 300.6: 453009\n",
      "number of points in 300.6 < ∆t < 451.8: 112642\n",
      "number of points in 451.8 < ∆t < 679.1: 61655\n",
      "number of points in 679.1 < ∆t < 1020.8: 22736\n",
      "number of points in 1020.8 < ∆t < 1534.5: 4266\n",
      "number of points in 1534.5 < ∆t < 2306.5: 424\n",
      "number of points in 2306.5 < ∆t < 3467.0: 16\n"
     ]
    },
    {
     "name": "stderr",
     "output_type": "stream",
     "text": [
      "/disk1/hrb/anaconda3/envs/astroconda/lib/python3.6/site-packages/scipy/stats/stats.py:1604: UserWarning: kurtosistest only valid for n>=20 ... continuing anyway, n=16\n",
      "  \"anyway, n=%i\" % int(n))\n"
     ]
    },
    {
     "name": "stdout",
     "output_type": "stream",
     "text": [
      "chunk: 23\n",
      "number of points in 1.0 < ∆t < 1.5: 273518\n",
      "number of points in 1.5 < ∆t < 2.3: 360989\n",
      "number of points in 2.3 < ∆t < 3.4: 510094\n",
      "number of points in 3.4 < ∆t < 5.1: 764255\n",
      "number of points in 5.1 < ∆t < 7.7: 1090689\n",
      "number of points in 7.7 < ∆t < 11.5: 1522123\n",
      "number of points in 11.5 < ∆t < 17.3: 1855805\n",
      "number of points in 17.3 < ∆t < 26.1: 1913907\n",
      "number of points in 26.1 < ∆t < 39.2: 1703715\n",
      "number of points in 39.2 < ∆t < 58.9: 2044931\n",
      "number of points in 58.9 < ∆t < 88.5: 3370169\n",
      "number of points in 88.5 < ∆t < 133.0: 4795771\n",
      "number of points in 133.0 < ∆t < 200.0: 3325537\n",
      "number of points in 200.0 < ∆t < 300.6: 984143\n",
      "number of points in 300.6 < ∆t < 451.8: 89349\n",
      "number of points in 451.8 < ∆t < 679.1: 26123\n",
      "number of points in 679.1 < ∆t < 1020.8: 8292\n",
      "number of points in 1020.8 < ∆t < 1534.5: 1098\n",
      "number of points in 1534.5 < ∆t < 2306.5: 109\n",
      "number of points in 2306.5 < ∆t < 3467.0: 1\n",
      "weights cannot be normalized\n",
      "chunk: 24\n",
      "number of points in 1.0 < ∆t < 1.5: 371530\n",
      "number of points in 1.5 < ∆t < 2.3: 518337\n",
      "number of points in 2.3 < ∆t < 3.4: 720535\n",
      "number of points in 3.4 < ∆t < 5.1: 1052644\n",
      "number of points in 5.1 < ∆t < 7.7: 1513240\n",
      "number of points in 7.7 < ∆t < 11.5: 2084975\n",
      "number of points in 11.5 < ∆t < 17.3: 2661296\n",
      "number of points in 17.3 < ∆t < 26.1: 2925646\n",
      "number of points in 26.1 < ∆t < 39.2: 2601561\n",
      "number of points in 39.2 < ∆t < 58.9: 2354917\n",
      "number of points in 58.9 < ∆t < 88.5: 3742169\n",
      "number of points in 88.5 < ∆t < 133.0: 6049466\n",
      "number of points in 133.0 < ∆t < 200.0: 4175841\n",
      "number of points in 200.0 < ∆t < 300.6: 1356478\n",
      "number of points in 300.6 < ∆t < 451.8: 108753\n",
      "number of points in 451.8 < ∆t < 679.1: 21549\n",
      "number of points in 679.1 < ∆t < 1020.8: 5363\n",
      "number of points in 1020.8 < ∆t < 1534.5: 455\n",
      "number of points in 1534.5 < ∆t < 2306.5: 71\n",
      "number of points in 2306.5 < ∆t < 3467.0: 5\n",
      "weights cannot be normalized\n",
      "chunk: 25\n",
      "number of points in 1.0 < ∆t < 1.5: 583555\n",
      "number of points in 1.5 < ∆t < 2.3: 848323\n",
      "number of points in 2.3 < ∆t < 3.4: 1180990\n",
      "number of points in 3.4 < ∆t < 5.1: 1674753\n",
      "number of points in 5.1 < ∆t < 7.7: 2353859\n",
      "number of points in 7.7 < ∆t < 11.5: 3235233\n",
      "number of points in 11.5 < ∆t < 17.3: 4272003\n",
      "number of points in 17.3 < ∆t < 26.1: 4996855\n",
      "number of points in 26.1 < ∆t < 39.2: 4561674\n",
      "number of points in 39.2 < ∆t < 58.9: 3605332\n",
      "number of points in 58.9 < ∆t < 88.5: 5426760\n",
      "number of points in 88.5 < ∆t < 133.0: 8502515\n",
      "number of points in 133.0 < ∆t < 200.0: 5512063\n",
      "number of points in 200.0 < ∆t < 300.6: 1882930\n",
      "number of points in 300.6 < ∆t < 451.8: 141483\n",
      "number of points in 451.8 < ∆t < 679.1: 23935\n",
      "number of points in 679.1 < ∆t < 1020.8: 5957\n",
      "number of points in 1020.8 < ∆t < 1534.5: 799\n",
      "number of points in 1534.5 < ∆t < 2306.5: 66\n",
      "number of points in 2306.5 < ∆t < 3467.0: 2\n",
      "time elapsed: 12.78 minutes\n"
     ]
    }
   ],
   "source": [
    "# Compute\n",
    "dtdm_qsos.calculate_stats_looped(26, 'log_inner', max_t=3467, save=True, inner=True)"
   ]
  },
  {
   "cell_type": "code",
   "execution_count": 8,
   "id": "different-plain",
   "metadata": {},
   "outputs": [],
   "source": [
    "# Reading\n",
    "dtdm_qsos.read_pooled_stats('log')"
   ]
  },
  {
   "cell_type": "code",
   "execution_count": 9,
   "id": "medium-tanzania",
   "metadata": {},
   "outputs": [
    {
     "data": {
      "text/plain": [
       "dict_keys(['n', 'SF cwf a', 'SF cwf b', 'SF cwf n', 'SF cwf p', 'mean weighted a', 'mean weighted b', 'skewness', 'kurtosis'])"
      ]
     },
     "execution_count": 9,
     "metadata": {},
     "output_type": "execute_result"
    }
   ],
   "source": [
    "dtdm_qsos.pooled_stats.keys()"
   ]
  },
  {
   "cell_type": "code",
   "execution_count": 10,
   "id": "fitted-insight",
   "metadata": {},
   "outputs": [
    {
     "data": {
      "text/plain": [
       "{'n': array([8.52392900e+06, 1.26615160e+07, 1.96048740e+07, 3.01127220e+07,\n",
       "        4.48159670e+07, 5.93319680e+07, 6.29106510e+07, 5.92748100e+07,\n",
       "        8.28990280e+07, 1.07389734e+08, 5.03977580e+07, 9.45638200e+06,\n",
       "        3.15168120e+07, 5.60399150e+07, 4.00364550e+07, 2.13960070e+07,\n",
       "        6.42020800e+06, 8.95924000e+05, 5.11566000e+05, 1.06587000e+05]),\n",
       " 'SF cwf a': array([[0.02421927, 0.00049838],\n",
       "        [0.03299986, 0.00093638],\n",
       "        [0.03170081, 0.00074768],\n",
       "        [0.03430155, 0.00115819],\n",
       "        [0.03811274, 0.00137932],\n",
       "        [0.05088829, 0.00639015],\n",
       "        [0.05324386, 0.00123631],\n",
       "        [0.06754114, 0.00152899],\n",
       "        [0.07722381, 0.00093741],\n",
       "        [0.09021365, 0.00165666],\n",
       "        [0.11746768, 0.00200149],\n",
       "        [0.15076999, 0.01277148],\n",
       "        [0.17846679, 0.02040274],\n",
       "        [0.20019083, 0.0143869 ],\n",
       "        [0.23984644, 0.00933002],\n",
       "        [0.27820364, 0.01114706],\n",
       "        [0.3194669 , 0.02197005],\n",
       "        [0.33482523, 0.0509528 ],\n",
       "        [0.40661761, 0.02676114],\n",
       "        [0.45488725, 0.05238933]]),\n",
       " 'SF cwf b': array([[0.02421927, 0.0579233 ],\n",
       "        [0.03299986, 0.06188318],\n",
       "        [0.03170081, 0.06619814],\n",
       "        [0.03430155, 0.06523796],\n",
       "        [0.03811274, 0.06340711],\n",
       "        [0.05088829, 0.06566929],\n",
       "        [0.05324386, 0.0687001 ],\n",
       "        [0.06754114, 0.07492141],\n",
       "        [0.07722381, 0.0817512 ],\n",
       "        [0.09021365, 0.08846553],\n",
       "        [0.11746768, 0.10559374],\n",
       "        [0.15076999, 0.11469194],\n",
       "        [0.17846679, 0.15847751],\n",
       "        [0.20019083, 0.17943258],\n",
       "        [0.23984644, 0.22184631],\n",
       "        [0.27820364, 0.2635474 ],\n",
       "        [0.3194669 , 0.300217  ],\n",
       "        [0.33482523, 0.35022511],\n",
       "        [0.40661761, 0.39384756],\n",
       "        [0.45488725, 0.39340624]]),\n",
       " 'SF cwf n': array([[0.02475862, 0.00052635],\n",
       "        [0.03235716, 0.00096793],\n",
       "        [0.0315883 , 0.00074155],\n",
       "        [0.03293361, 0.00133572],\n",
       "        [0.03638568, 0.00099762],\n",
       "        [0.04358568, 0.00121644],\n",
       "        [0.05338502, 0.0015939 ],\n",
       "        [0.06562851, 0.00173437],\n",
       "        [0.07740925, 0.00114152],\n",
       "        [0.09179304, 0.00195556],\n",
       "        [0.1215563 , 0.00411005],\n",
       "        [0.14965294, 0.01668643],\n",
       "        [0.18363417, 0.01961405],\n",
       "        [0.21275022, 0.01331738],\n",
       "        [0.25518356, 0.00970578],\n",
       "        [0.30253813, 0.01652888],\n",
       "        [0.34526864, 0.0283657 ],\n",
       "        [0.3267821 , 0.0512252 ],\n",
       "        [0.35188992, 0.02200085],\n",
       "        [0.36277995, 0.0427796 ]]),\n",
       " 'SF cwf p': array([[0.02423669, 0.00054199],\n",
       "        [0.03304197, 0.00109833],\n",
       "        [0.03164416, 0.00087499],\n",
       "        [0.03573045, 0.00111511],\n",
       "        [0.03953161, 0.00184117],\n",
       "        [0.05686569, 0.01236931],\n",
       "        [0.05362683, 0.00201414],\n",
       "        [0.06913164, 0.00208064],\n",
       "        [0.0770554 , 0.00148656],\n",
       "        [0.08864923, 0.00236959],\n",
       "        [0.11320366, 0.00252501],\n",
       "        [0.15210964, 0.00969956],\n",
       "        [0.17353388, 0.02269563],\n",
       "        [0.18515438, 0.01675362],\n",
       "        [0.21498952, 0.01668805],\n",
       "        [0.23018173, 0.00972229],\n",
       "        [0.26648829, 0.01941248],\n",
       "        [0.33547162, 0.12178467],\n",
       "        [0.44198285, 0.04002579],\n",
       "        [0.49574343, 0.06972898]]),\n",
       " 'mean weighted a': array([[-1.11703130e-03,  4.43988570e-07],\n",
       "        [-6.16582122e-04,  2.77228552e-07],\n",
       "        [-3.54689208e-04,  1.19268914e-07],\n",
       "        [-2.24696797e-05,  1.40597512e-07],\n",
       "        [ 9.95985016e-04,  2.12622036e-07],\n",
       "        [ 1.24258275e-03,  4.80354289e-07],\n",
       "        [ 6.22716636e-04,  2.02879788e-06],\n",
       "        [ 1.17235454e-04,  9.74185190e-06],\n",
       "        [-4.43902851e-04,  5.31937029e-06],\n",
       "        [ 4.34229621e-04,  6.80353633e-06],\n",
       "        [-7.45796088e-04,  1.70195876e-05],\n",
       "        [ 7.87701629e-04,  5.78788231e-05],\n",
       "        [-2.97383691e-02,  3.75262548e-05],\n",
       "        [-4.33921180e-02,  5.74957167e-05],\n",
       "        [-5.81921351e-02,  3.53158769e-05],\n",
       "        [-7.40950219e-02,  9.15618577e-05],\n",
       "        [-9.52853774e-02,  3.19934606e-04],\n",
       "        [-7.67981431e-02,  3.79600678e-03],\n",
       "        [ 4.60049677e-02,  2.91053257e-03],\n",
       "        [ 1.29328542e-01,  3.95139446e-03]]),\n",
       " 'mean weighted b': array([[-1.11703130e-03,  2.55204091e-02],\n",
       "        [-6.16582122e-04,  2.76651471e-02],\n",
       "        [-3.54689208e-04,  2.90822654e-02],\n",
       "        [-2.24696797e-05,  2.88977843e-02],\n",
       "        [ 9.95985016e-04,  2.82553502e-02],\n",
       "        [ 1.24258275e-03,  2.92236584e-02],\n",
       "        [ 6.22716636e-04,  3.04659282e-02],\n",
       "        [ 1.17235454e-04,  3.39502261e-02],\n",
       "        [-4.43902851e-04,  3.96595150e-02],\n",
       "        [ 4.34229621e-04,  4.30746899e-02],\n",
       "        [-7.45796088e-04,  4.82658106e-02],\n",
       "        [ 7.87701629e-04,  5.54912870e-02],\n",
       "        [-2.97383691e-02,  8.36804973e-02],\n",
       "        [-4.33921180e-02,  9.41980360e-02],\n",
       "        [-5.81921351e-02,  1.12187505e-01],\n",
       "        [-7.40950219e-02,  1.28805983e-01],\n",
       "        [-9.52853774e-02,  1.42884729e-01],\n",
       "        [-7.67981431e-02,  1.96662359e-01],\n",
       "        [ 4.60049677e-02,  2.34318490e-01],\n",
       "        [ 1.29328542e-01,  2.38033281e-01]]),\n",
       " 'skewness': array([[-0.05478976,  0.00240487],\n",
       "        [-0.02634573,  0.01351281],\n",
       "        [-0.02265422,  0.10692348],\n",
       "        [ 0.01487125,  0.04788851],\n",
       "        [ 0.1003558 ,  0.02197188],\n",
       "        [ 0.13425618,  0.03019172],\n",
       "        [ 0.07014879,  0.01616999],\n",
       "        [-0.02439021,  0.01554615],\n",
       "        [-0.00334776,  0.02204318],\n",
       "        [ 0.10560527,  0.024498  ],\n",
       "        [ 0.07831548,  0.03421014],\n",
       "        [-0.1688706 ,  0.00928757],\n",
       "        [-0.27432764,  0.00364176],\n",
       "        [-0.27066643,  0.00090445],\n",
       "        [-0.26249302,  0.00169472],\n",
       "        [-0.29272434,  0.00953356],\n",
       "        [-0.13686067,  0.03342979],\n",
       "        [ 0.17902401,  0.05200087],\n",
       "        [ 0.15455748,  0.07270638],\n",
       "        [-0.03034804,  0.20082228]]),\n",
       " 'kurtosis': array([[3.83636774, 1.33900757],\n",
       "        [3.71052313, 0.43158024],\n",
       "        [3.91704691, 0.44972066],\n",
       "        [3.80344072, 0.42635283],\n",
       "        [3.6773979 , 0.32489267],\n",
       "        [3.6223722 , 0.19979103],\n",
       "        [3.64525707, 0.31708668],\n",
       "        [3.30633575, 0.34870378],\n",
       "        [2.59626536, 0.40481468],\n",
       "        [2.50904602, 0.71446178],\n",
       "        [2.96272557, 3.1031984 ],\n",
       "        [2.40135973, 0.92259822],\n",
       "        [1.31556376, 0.10155846],\n",
       "        [1.36344619, 0.03304074],\n",
       "        [1.60974832, 0.04648728],\n",
       "        [1.75540851, 0.14046212],\n",
       "        [2.15785249, 0.54682001],\n",
       "        [1.17795417, 0.28608818],\n",
       "        [0.74560755, 0.315589  ],\n",
       "        [0.54699466, 0.60028393]])}"
      ]
     },
     "execution_count": 10,
     "metadata": {},
     "output_type": "execute_result"
    }
   ],
   "source": [
    "dtdm_qsos.pooled_stats"
   ]
  },
  {
   "cell_type": "markdown",
   "id": "preliminary-watson",
   "metadata": {
    "jupyter": {
     "source_hidden": true
    }
   },
   "source": [
    "# Moments"
   ]
  },
  {
   "cell_type": "code",
   "execution_count": 11,
   "id": "final-interim",
   "metadata": {},
   "outputs": [
    {
     "data": {
      "text/plain": [
       "<matplotlib.legend.Legend at 0x7fd96c3bb9b0>"
      ]
     },
     "execution_count": 11,
     "metadata": {},
     "output_type": "execute_result"
    },
    {
     "data": {
      "image/png": "[encoded data removed]",
      "text/plain": [
       "<Figure size 1296x576 with 1 Axes>"
      ]
     },
     "metadata": {
      "needs_background": "light"
     },
     "output_type": "display_data"
    }
   ],
   "source": [
    "# mean weighted a and b are the same except in their errors. a is using 1/errors^2 and b uses var(dm)\n",
    "fig, ax = dtdm_qsos.plot_stats(['mean weighted b'], figax=None, xscale='log', yscale='linear', ylim=(-0.4, 0.4), xlim=(0.9,3e4), ylabel='Mean', color='r')\n",
    "ax.legend()\n"
   ]
  },
  {
   "cell_type": "code",
   "execution_count": 12,
   "id": "contrary-continuity",
   "metadata": {},
   "outputs": [
    {
     "data": {
      "image/png": "[encoded data removed]",
      "text/plain": [
       "<Figure size 1296x576 with 1 Axes>"
      ]
     },
     "metadata": {
      "needs_background": "light"
     },
     "output_type": "display_data"
    }
   ],
   "source": [
    "fig, ax = dtdm_qsos.plot_stats(['mean weighted b'], figax=None, xscale='log', yscale='linear', ylim=(-0.4, 0.4), xlim=(1084.05, 3650), ylabel='Mean', color='r')\n"
   ]
  },
  {
   "cell_type": "code",
   "execution_count": 13,
   "id": "veterinary-seller",
   "metadata": {},
   "outputs": [
    {
     "data": {
      "image/png": "[encoded data removed]",
      "text/plain": [
       "<Figure size 1296x576 with 1 Axes>"
      ]
     },
     "metadata": {
      "needs_background": "light"
     },
     "output_type": "display_data"
    }
   ],
   "source": [
    "fig, ax = dtdm_qsos.plot_stats(['skewness'], figax=None, xscale='log', yscale='linear', ylim=(-0.5, 0.5), xlim=(0.9,3e4), ylabel='Skewness', color='r')\n"
   ]
  },
  {
   "cell_type": "code",
   "execution_count": 7,
   "id": "capable-clear",
   "metadata": {},
   "outputs": [
    {
     "data": {
      "image/png": "[encoded data removed]",
      "text/plain": [
       "<Figure size 1296x576 with 1 Axes>"
      ]
     },
     "metadata": {
      "needs_background": "light"
     },
     "output_type": "display_data"
    }
   ],
   "source": [
    "fig, ax = dtdm_qsos.plot_stats(['kurtosis'], figax=None, xscale='log', yscale='linear', ylim=(-1, 6.5), xlim=(0.9,3e4), ylabel='Excess kurtosis', color='r')\n"
   ]
  },
  {
   "cell_type": "markdown",
   "id": "bacterial-conjunction",
   "metadata": {},
   "source": [
    "# Asymmetry"
   ]
  },
  {
   "cell_type": "code",
   "execution_count": null,
   "id": "sized-worcester",
   "metadata": {},
   "outputs": [],
   "source": [
    "fig, ax = dtdm_qsos.plot_stats(['SF cwf p'], figax=None, xscale='log', yscale='linear', ylim=(-0.01, 0.6), xlim=(0.9,3e4), ylabel='Structure Function (mag)', macleod=True, fit=True, color='r')\n",
    "dtdm_qsos.plot_stats(['SF cwf n'], figax=(fig,ax), color='b')\n",
    "\n",
    "# dtdm_star.plot_stats(['SF cwf p'], figax=(fig,ax), color='r')\n",
    "# dtdm_star.plot_stats(['SF cwf n'], figax=(fig,ax), color='b')\n",
    "\n",
    "\n",
    "# fig.savefig('plots/SF_asym.pdf', bbox_inches='tight')"
   ]
  },
  {
   "cell_type": "code",
   "execution_count": null,
   "id": "elementary-youth",
   "metadata": {},
   "outputs": [],
   "source": [
    "fig, ax = dtdm_qsos.plot_stats(['SF cwf p'], figax=None, xscale='log', yscale='linear', ylim=(-0.01, 0.6), xlim=(0.9,3e4), ylabel='Structure Function (mag)', macleod=True, fit=True, color='r')\n",
    "dtdm_qsos.plot_stats(['SF cwf n'], figax=(fig,ax), xscale='log', yscale='linear', color='b', label='john')\n",
    "\n",
    "# fig.savefig('plots/SF_asym.pdf', bbox_inches='tight')"
   ]
  },
  {
   "cell_type": "code",
   "execution_count": null,
   "id": "above-frontier",
   "metadata": {},
   "outputs": [],
   "source": [
    "# # Saving \n",
    "# np.savetxt('Ensemble_structure_function_qsos.csv',np.vstack([dtdm_qsos.mjd_centres,dtdm_qsos.pooled_stats['SF a'].T**0.5]).T,fmt='%.8e',delimiter=',')\n",
    "\n"
   ]
  },
  {
   "cell_type": "code",
   "execution_count": null,
   "id": "light-pizza",
   "metadata": {},
   "outputs": [],
   "source": [
    "# keys = sorted([key for key in dtdm_qsos_log.pooled_stats.keys() if key.startswith('SF')])\n",
    "# n = len(keys)\n",
    "# # fig, ax = plt.subplots(n, 1, figsize=(18,5*n))\n",
    "# for i, key in enumerate(keys):\n",
    "# #     ax[i].hist(dtdm_qsos_log.pooled_stats[key][:,1], label=key)\n",
    "# #     ax[i].legend()\n",
    "#     print(key,'\\t\\t\\t',dtdm_qsos_log.pooled_stats[key][:,1].mean())"
   ]
  },
  {
   "cell_type": "code",
   "execution_count": null,
   "id": "committed-firewall",
   "metadata": {},
   "outputs": [],
   "source": [
    "# Squareroot our SF, since we save SF^2\n",
    "for dtdm_survey in [dtdm_qsos]:\n",
    "    for name in ['SF cwf a','SF cwf b', 'SF cwf n', 'SF cwf p']:\n",
    "        dtdm_survey.pooled_stats[name][:,1] = dtdm_survey.pooled_stats[name][:,1]**2\n",
    "        dtdm_survey.pooled_stats[name][np.isnan(dtdm_survey.pooled_stats[name])]=0"
   ]
  },
  {
   "cell_type": "code",
   "execution_count": null,
   "id": "greatest-farming",
   "metadata": {},
   "outputs": [],
   "source": [
    "dtdm_star.read(4)"
   ]
  },
  {
   "cell_type": "code",
   "execution_count": null,
   "id": "experienced-handling",
   "metadata": {},
   "outputs": [],
   "source": [
    "dtdm_star.plot_dm2_de2_hist(figax=None, bins=100, xlim=[-1,1])"
   ]
  },
  {
   "cell_type": "code",
   "execution_count": null,
   "id": "interstate-howard",
   "metadata": {},
   "outputs": [],
   "source": [
    "keys = ['SF cwf a']\n",
    "fig, ax = dtdm_qsos.plot_stats(keys, None, xscale='log', yscale='linear', ylim=(-0.01, 0.6), xlim=(0.9,3e4), ylabel='Structure Function (mag)', macleod=True, fit=True, color='r')\n",
    "fig, ax = dtdm_star.plot_stats(keys, (fig,ax), color='g')\n",
    "# fig, ax = dtdm_star.plot_stats(['SF cwf c'], (fig,ax), color='r')\n",
    "# fig, ax = dtdm_star2.plot_stats(['SF corrected weighted fixed'], (fig,ax), color='b')\n",
    "# dtdm_star_log3.plot_stats(keys, (fig,ax))\n",
    "ax.axhline(y=0, color='k', ls='--')\n",
    "# fig.savefig('plots/sf_largeerrors_corrected_plate_errors.pdf', bbox_inches='tight')"
   ]
  },
  {
   "cell_type": "code",
   "execution_count": null,
   "id": "devoted-forest",
   "metadata": {},
   "outputs": [],
   "source": [
    "dtdm_star_log2 = dtdm_raw_analysis('calibStars', 'uid_s', 'r')\n",
    "dtdm_star_log2.read_pooled_stats(log_or_lin='log2')\n",
    "dtdm_qsos_log2 = dtdm_raw_analysis('qsos', 'uid', 'r')\n",
    "dtdm_qsos_log2.read_pooled_stats(log_or_lin='log2')"
   ]
  },
  {
   "cell_type": "code",
   "execution_count": null,
   "id": "still-treaty",
   "metadata": {},
   "outputs": [],
   "source": []
  },
  {
   "cell_type": "code",
   "execution_count": null,
   "id": "increased-catalyst",
   "metadata": {},
   "outputs": [],
   "source": [
    "# We cannot fit gaussian^2 distribution to our ∆m^2 data, the tails are too big. If we have a group of qsos with similar parameters, this may be possible.\n",
    "\n",
    "# from scipy.optimize import curve_fit\n",
    "# fig, ax = plt.subplots(1,1, figsize=(18,5))\n",
    "# def pdf_Y(x, sigma):\n",
    "#     return (2*np.pi*x*sigma**2)**-0.5*np.exp(-0.5*x/(sigma**2))\n",
    "# x = np.linspace(0.001,0.1,101)\n",
    "\n",
    "# n, edges, _ = ax.hist(subset['dm']**2, bins=200, range=(0,0.001), density=True)\n",
    "# centres = (edges[1:]+edges[:-1])/2\n",
    "# sig, sigerr = curve_fit(pdf_Y, centres, n, p0=0.1)\n",
    "# ax.plot(centres, pdf_Y(centres, sig))\n",
    "# ax.set(yscale='log')\n",
    "# print(sig)\n"
   ]
  },
  {
   "cell_type": "code",
   "execution_count": null,
   "id": "affiliated-slovenia",
   "metadata": {},
   "outputs": [],
   "source": [
    "keys = ['SF corrected weighted fixed']\n",
    "fig, ax = dtdm_qsos_log2.plot_stats(keys,None, xscale='log', yscale='linear', ylim=(-0.01, 0.6), xlim=(0.9,3e4), ylabel='Structure Function (mag)', macleod=True, fit=True, color='r')\n",
    "fig, ax = dtdm_star_log2.plot_stats(keys, (fig,ax), color='g')\n",
    "# dtdm_star_log3.plot_stats(keys, (fig,ax))\n",
    "ax.axhline(y=0, color='k', ls='--')\n",
    "# fig.savefig('plots/DEX_SF_lin_larger_font.pdf', bbox_inches='tight')"
   ]
  },
  {
   "cell_type": "code",
   "execution_count": null,
   "id": "military-advice",
   "metadata": {},
   "outputs": [],
   "source": [
    "keys = ['SF corrected weighted fixed']\n",
    "fig, ax = dtdm_qsos_log2.plot_stats(keys, None, xscale='log', yscale='linear', ylim=(-0.01, 0.4), ylabel='Structure Function$^2$', macleod=True, fit=True)\n",
    "fig, ax = dtdm_star_log2.plot_stats(keys, (fig,ax), )\n",
    "# dtdm_star_log3.plot_stats(keys, (fig,ax))\n",
    "ax.axhline(y=0)\n",
    "# fig.savefig('plots/QSOS_SF_corrected_fixed_comparison_2.pdf', bbox_inches='tight')"
   ]
  },
  {
   "cell_type": "code",
   "execution_count": null,
   "id": "refined-formula",
   "metadata": {},
   "outputs": [],
   "source": [
    "# dtdm_star_log = dtdm_raw_analysis('calibStars', 'uid_s', 'r')\n",
    "# dtdm_star_log.calculate_stats_looped(50, log_or_lin='log3', save= True)"
   ]
  },
  {
   "cell_type": "code",
   "execution_count": null,
   "id": "legendary-puzzle",
   "metadata": {},
   "outputs": [],
   "source": [
    "# dtdm_star_log = dtdm_raw_analysis('qsos', 'uid', 'r')\n",
    "# dtdm_star_log.calculate_stats_looped(13, log_or_lin='log3', save= True)"
   ]
  },
  {
   "cell_type": "code",
   "execution_count": null,
   "id": "permanent-large",
   "metadata": {},
   "outputs": [],
   "source": []
  },
  {
   "cell_type": "code",
   "execution_count": null,
   "id": "representative-clone",
   "metadata": {},
   "outputs": [],
   "source": []
  },
  {
   "cell_type": "code",
   "execution_count": null,
   "id": "circular-network",
   "metadata": {},
   "outputs": [],
   "source": []
  },
  {
   "cell_type": "code",
   "execution_count": null,
   "id": "exciting-draft",
   "metadata": {},
   "outputs": [],
   "source": []
  },
  {
   "cell_type": "code",
   "execution_count": null,
   "id": "premium-garage",
   "metadata": {},
   "outputs": [],
   "source": [
    "dtdm_star_log = dtdm_raw_analysis('calibStars', 'uid_s', 'r')\n",
    "dtdm_star_log.read_pooled_stats(log_or_lin='log')\n",
    "dtdm_star_log2 = dtdm_raw_analysis('calibStars', 'uid_s', 'r')\n",
    "dtdm_star_log2.read_pooled_stats(log_or_lin='log2')\n",
    "dtdm_star_log3 = dtdm_raw_analysis('calibStars', 'uid_s', 'r')\n",
    "dtdm_star_log3.read_pooled_stats(log_or_lin='log3')\n",
    "dtdm_qsos_log = dtdm_raw_analysis('qsos', 'uid', 'r')\n",
    "dtdm_qsos_log.read_pooled_stats(log_or_lin='log')\n",
    "# dtdm_qsos_log2 = dtdm_raw_analysis('qsos', 'uid', 'r')\n",
    "# dtdm_qsos_log2.read_pooled_stats(log_or_lin='log2')\n",
    "# dtdm_star_log3 = dtdm_raw_analysis('calibStars', 'uid_s', 'r')\n",
    "# dtdm_star_log3.read_pooled_stats(log_or_lin='log3')"
   ]
  },
  {
   "cell_type": "code",
   "execution_count": null,
   "id": "instructional-requirement",
   "metadata": {},
   "outputs": [],
   "source": [
    "dtdm_star_log.pooled_stats.keys()"
   ]
  },
  {
   "cell_type": "code",
   "execution_count": null,
   "id": "polish-viking",
   "metadata": {},
   "outputs": [],
   "source": [
    "dtdm_star_log.pooled_stats['n']"
   ]
  },
  {
   "cell_type": "code",
   "execution_count": null,
   "id": "protecting-track",
   "metadata": {},
   "outputs": [],
   "source": [
    "keys = ['SF cwf a']\n",
    "fig, ax = dtdm_star_log2.plot_stats(keys,None, xscale='log', yscale='linear', ylim=(-0.01, 0.6), xlim=(0.9,3e4), ylabel='Structure Function$^2$', macleod=True)\n",
    "fig, ax = dtdm_star_log.plot_stats(keys, (fig,ax))\n",
    "fig, ax = dtdm_qsos_log.plot_stats(keys, (fig,ax))\n",
    "dtdm_star_log3.plot_stats(keys, (fig,ax))\n",
    "# fig.savefig('plots/QSOS_SF_corrected_fixed_comparison_ylinear.pdf', bbox_inches='tight')"
   ]
  },
  {
   "cell_type": "code",
   "execution_count": null,
   "id": "blond-former",
   "metadata": {},
   "outputs": [],
   "source": [
    "keys = ['SF corrected weighted fixed']\n",
    "fig, ax = dtdm_qsos_log.plot_stats(keys,None, xscale='log', yscale='log', ylim=(3e-4, 0.4), ylabel='Structure Function$^2$', macleod=True)\n",
    "fig, ax = dtdm_star_log.plot_stats(keys, (fig,ax))\n",
    "# dtdm_star_log3.plot_stats(keys, (fig,ax))\n",
    "fig.savefig('plots/QSOS_SF_corrected_fixed_comparison_3.pdf', bbox_inches='tight')"
   ]
  },
  {
   "cell_type": "code",
   "execution_count": null,
   "id": "short-dominant",
   "metadata": {},
   "outputs": [],
   "source": [
    "keys = ['SF corrected weighted fixed']\n",
    "fig, ax = dtdm_qsos_log.plot_stats(keys,None, xscale='log', yscale='log', ylim=(3e-4, 0.4), ylabel='Structure Function$^2$', macleod=True)\n",
    "fig, ax = dtdm_star_log.plot_stats(keys, (fig,ax))\n",
    "# dtdm_star_log3.plot_stats(keys, (fig,ax))\n",
    "# fig.savefig('plots/QSOS_SF_corrected_fixed_comparison_ylinear.pdf', bbox_inches='tight')"
   ]
  },
  {
   "cell_type": "code",
   "execution_count": null,
   "id": "intelligent-mobile",
   "metadata": {},
   "outputs": [],
   "source": [
    "dtdm_star_log3.pooled_stats['SF corrected weighted']"
   ]
  },
  {
   "cell_type": "code",
   "execution_count": null,
   "id": "atlantic-spelling",
   "metadata": {},
   "outputs": [],
   "source": [
    "dtdm_qsos_log.read_key('Lbol')"
   ]
  },
  {
   "cell_type": "code",
   "execution_count": null,
   "id": "pointed-estimate",
   "metadata": {},
   "outputs": [],
   "source": [
    "dtdm_qsos_log.groups[-1].loc[20005]"
   ]
  },
  {
   "cell_type": "code",
   "execution_count": null,
   "id": "constitutional-technical",
   "metadata": {},
   "outputs": [],
   "source": [
    "dtdm_qsos_log.pooled_stats['SF 2'][:,1] /= 2"
   ]
  },
  {
   "cell_type": "code",
   "execution_count": null,
   "id": "otherwise-balance",
   "metadata": {},
   "outputs": [],
   "source": [
    "keys = ['SF corrected wighte', 'SF 2']\n",
    "fig, ax = dtdm_qsos_log.plot_stats(keys,None, macleod=True, xscale='log', yscale='linear', ylim=(0, 1.1), ylabel='Structure Function$^2$')\n",
    "dtdm_star_log.plot_stats(keys, (fig,ax))\n",
    "# fig.savefig('plots/QSOS_SF_corrected_fixed_comparison.pdf', bbox_inches='tight')"
   ]
  },
  {
   "cell_type": "code",
   "execution_count": null,
   "id": "infinite-block",
   "metadata": {},
   "outputs": [],
   "source": [
    "keys = ['SF corrected weighted', 'SF corrected weighted fixed']\n",
    "fig, ax = dtdm_qsos_log.plot_stats(keys,None, xscale='log', yscale='log', ylim=(3e-2, 1e0), ylabel='Structure Function$^2$', macleod=True)\n",
    "dtdm_star_log.plot_stats(keys, (fig,ax))\n",
    "fig.savefig('plots/QSOS_SF_corrected_fixed_comparison_ylinear.pdf', bbox_inches='tight')"
   ]
  },
  {
   "cell_type": "code",
   "execution_count": null,
   "id": "simplified-session",
   "metadata": {},
   "outputs": [],
   "source": [
    "keys = ['SF 1', 'SF 2', 'SF 3']\n",
    "fig, ax = dtdm_qsos_log.plot_stats(keys,None, xscale='log', yscale='log', ylim=(3e-2, 1), ylabel='Structure Function$^2$')\n",
    "# dtdm_star.plot_stats(keys, (fig,ax))\n",
    "# fig.savefig('plots/QSOS_SF_corrected_comparison.pdf', bbox_inches='tight')"
   ]
  },
  {
   "cell_type": "code",
   "execution_count": null,
   "id": "mental-change",
   "metadata": {},
   "outputs": [],
   "source": [
    "keys = ['SF', 'SF corrected']\n",
    "fig, ax = dtdm_qsos.plot_stats(keys,None, xscale='log', yscale='log', ylim=(3e-2, 1), ylabel='Structure Function$^2$')\n",
    "# dtdm_star.plot_stats(keys, (fig,ax))\n",
    "fig.savefig('plots/QSOS_SF_corrected_comparison.pdf', bbox_inches='tight')"
   ]
  },
  {
   "cell_type": "code",
   "execution_count": null,
   "id": "formal-calendar",
   "metadata": {},
   "outputs": [],
   "source": [
    "keys = ['SF corrected weighted']\n",
    "fig, ax = dtdm_qsos_lin.plot_stats(keys,None, ylim=(3e-3, 1), ylabel='Structure Function$^2$', macleod=True)\n",
    "dtdm_qsos_log.plot_stats(keys, (fig, ax))\n",
    "dtdm_star_log.plot_stats(keys, (fig, ax))\n",
    "# dtdm_star.plot_stats(keys, (fig,ax))\n",
    "# fig.savefig('plots/QSOS_SF_corrected_comparison_lin.pdf', bbox_inches='tight')"
   ]
  },
  {
   "cell_type": "code",
   "execution_count": null,
   "id": "marked-providence",
   "metadata": {},
   "outputs": [],
   "source": [
    "# Note that SF is really SF^2, and error bars are variance not std\n",
    "keys = ['SF corrected weighted', 'SF corrected']\n",
    "fig, ax = dtdm_qsos.plot_stats(keys,None, xscale='log', yscale='log', ylabel='Structure Function$^2$', ylim=(2e-3, 7e-1))\n",
    "dtdm_star.plot_stats(keys, (fig,ax))\n",
    "fig.savefig('plots/QSOS_STARS_SF_corrected_weighted_comparison.pdf', bbox_inches='tight')"
   ]
  },
  {
   "cell_type": "code",
   "execution_count": null,
   "id": "tired-waters",
   "metadata": {},
   "outputs": [],
   "source": [
    "dtdm_star.plot_stats('all',None)"
   ]
  },
  {
   "cell_type": "code",
   "execution_count": null,
   "id": "proof-color",
   "metadata": {},
   "outputs": [],
   "source": [
    "keys = ['mean weighted']\n",
    "fig, ax = dtdm_qsos.plot_stats(keys,None,xscale='log',ylim=(-0.23,0.45))\n",
    "dtdm_star.plot_stats(keys, (fig,ax), xscale='log')\n",
    "ax.axhline(y=0, lw=0.5, color='k')"
   ]
  },
  {
   "cell_type": "code",
   "execution_count": null,
   "id": "split-mexican",
   "metadata": {},
   "outputs": [],
   "source": [
    "dtdm_star = dtdm_raw_analysis('calibStars', 'uid_s', 'r')\n",
    "# dtdm_star.read(10)"
   ]
  },
  {
   "cell_type": "code",
   "execution_count": null,
   "id": "chubby-enough",
   "metadata": {},
   "outputs": [],
   "source": [
    "# a = dtdm_qsos.df\n",
    "# b = dtdm_star.df"
   ]
  },
  {
   "cell_type": "code",
   "execution_count": null,
   "id": "neutral-explosion",
   "metadata": {},
   "outputs": [],
   "source": [
    "dtdm_qsos.df = a\n",
    "dtdm_star.df = b"
   ]
  },
  {
   "cell_type": "code",
   "execution_count": null,
   "id": "streaming-enough",
   "metadata": {},
   "outputs": [],
   "source": [
    "# dtdm_qsos.bin_dt_2d(1)\n",
    "# dtdm_qsos.contour_dt()"
   ]
  },
  {
   "cell_type": "code",
   "execution_count": null,
   "id": "working-conflict",
   "metadata": {},
   "outputs": [],
   "source": [
    "# read(12)\n",
    "fig, ax = dtdm_qsos.plot_sf(None, ylim=(1e-2, 1.1e0), xlabel = 'MJD', ylabel='SF', title='Structure function for QSOs')"
   ]
  },
  {
   "cell_type": "code",
   "execution_count": null,
   "id": "superb-group",
   "metadata": {},
   "outputs": [],
   "source": [
    "# read(8)\n",
    "fig, ax = dtdm_qsos.plot_sf(None, ylim=(1e-2, 1.1e0))"
   ]
  },
  {
   "cell_type": "code",
   "execution_count": null,
   "id": "arabic-hungary",
   "metadata": {},
   "outputs": [],
   "source": [
    "# read(4)\n",
    "dtdm_qsos.plot_sf(None, ylim=(1e-2, 1.1e0))"
   ]
  },
  {
   "cell_type": "code",
   "execution_count": null,
   "id": "confidential-antigua",
   "metadata": {},
   "outputs": [],
   "source": [
    "dtdm_qsos.plot_sf(None, ylim=(1e-2, 1.1e0))"
   ]
  },
  {
   "cell_type": "code",
   "execution_count": null,
   "id": "amended-track",
   "metadata": {},
   "outputs": [],
   "source": [
    "fig, ax = dtdm_star.plot_sf(None, ylim=(0.5e-2, 1.1e0))\n",
    "fig.savefig('plots/STARS_SF_corrected.pdf', bbox_inches='tight')"
   ]
  },
  {
   "cell_type": "code",
   "execution_count": null,
   "id": "comic-combine",
   "metadata": {},
   "outputs": [],
   "source": [
    "dtdm_qsos.calculate_sf()\n",
    "print('_'*20)\n",
    "dtdm_star.calculate_sf()"
   ]
  },
  {
   "cell_type": "code",
   "execution_count": null,
   "id": "mineral-current",
   "metadata": {},
   "outputs": [],
   "source": [
    "fig, ax = plot_sf(dtdm_star,None)\n",
    "plot_sf(dtdm_qsos,(fig,ax))\n",
    "ax.set(xlabel = 'MJD', ylabel='SF', title='Structure function')"
   ]
  },
  {
   "cell_type": "code",
   "execution_count": null,
   "id": "southeast-hurricane",
   "metadata": {},
   "outputs": [],
   "source": [
    "fig.savefig('plots/QSOS_STAR_4_SF.pdf', bbox_inches='tight')"
   ]
  },
  {
   "cell_type": "code",
   "execution_count": null,
   "id": "greater-delivery",
   "metadata": {},
   "outputs": [],
   "source": [
    "fig, ax = plt.subplots(5,1, figsize=(18,25))\n",
    "# dtdm_qsos.plot_dm2_de2_hist((fig,ax), bins=201, xlim=[-0.12, 0.2])\n",
    "dtdm_star_log.plot_dm2_de2_hist((fig,ax), bins=201, xlim=[-0.12, 0.2])\n",
    "# ax.legend()"
   ]
  },
  {
   "cell_type": "code",
   "execution_count": null,
   "id": "foster-processor",
   "metadata": {},
   "outputs": [],
   "source": [
    "dtdm.contour()"
   ]
  },
  {
   "cell_type": "code",
   "execution_count": null,
   "id": "neural-chorus",
   "metadata": {},
   "outputs": [],
   "source": [
    "fig, ax = plt.subplots(1,1, figsize=(10,5))\n",
    "ax.hist(df['dm'], bins=200, range=(-1,1));"
   ]
  },
  {
   "cell_type": "code",
   "execution_count": null,
   "id": "floating-dragon",
   "metadata": {},
   "outputs": [],
   "source": [
    "a,b,c = np.histogram2d(df['de'],df['dm'],range=((0,0.4),(-0.5,0.5)), bins=(200,200))"
   ]
  },
  {
   "cell_type": "code",
   "execution_count": null,
   "id": "committed-church",
   "metadata": {},
   "outputs": [],
   "source": [
    "def correlate_mag_magerr_hist_sns(df, band, vmin, vmax, save=False):\n",
    "    # contour plot of ∆e and ∆m\n",
    "    from matplotlib.colors import LogNorm\n",
    "    import seaborn as sns\n",
    "    xname = 'de'\n",
    "    yname = 'dm'\n",
    "    data = df\n",
    "    bounds={xname:(0,0.4), yname:(-1,1)}\n",
    "    g = sns.JointGrid(x=xname, y=yname, data=data, xlim=bounds[xname], ylim=bounds[yname], height=9,)\n",
    "    g = g.plot_joint(plt.hexbin, norm=LogNorm(vmin=vmin, vmax=vmax), cmap='Blues')\n",
    "    g.ax_marg_x.hist(data[xname], bins=200)\n",
    "    g.ax_marg_y.hist(data[yname], bins=200, orientation='horizontal', density = True)\n",
    "#     g.ax_marg_y.hist(data[yname], bins=200, orientation='horizontal', cumulative=True, alpha=0.2, color='k')#, yticks=[1e-3, 1e-1, 1])\n",
    "    # Could show 95, 99, 99.9% intervals on magerr histplot? Will need to do np.stats.quantile and ax.axvline\n",
    "    if save:\n",
    "        g.savefig('{}/plots/mag_magerr_{}_{}.pdf'.format(self.obj, self.name, band))\n",
    "        \n",
    "    plt.scatter(de_centres,mean+std, color='k')\n",
    "    plt.plot(de_centres,mean+std, lw=0.5, color='k')\n",
    "\n",
    "    plt.scatter(de_centres,mean-std, color='k')\n",
    "    plt.plot(de_centres,mean-std, lw=0.5, color='k')\n",
    "    \n",
    "    plt.scatter(de_centres, mean, color='r')\n",
    "    plt.plot(de_centres, mean, lw=0.5, color='r')\n",
    "\n",
    "correlate_mag_magerr_hist_sns(dtdm.df, 'r', 1e1, 1e5)"
   ]
  },
  {
   "cell_type": "code",
   "execution_count": null,
   "id": "related-synthesis",
   "metadata": {},
   "outputs": [],
   "source": [
    "n=1000\n",
    "a = np.array([np.arange(0,n),np.random.normal(0,1, size=n)]).T\n",
    "uniq = np.triu_indices(n,1)"
   ]
  },
  {
   "cell_type": "code",
   "execution_count": null,
   "id": "brilliant-humidity",
   "metadata": {},
   "outputs": [],
   "source": [
    "dtdm = a - a[:,np.newaxis,:]"
   ]
  },
  {
   "cell_type": "code",
   "execution_count": null,
   "id": "drawn-distinction",
   "metadata": {},
   "outputs": [],
   "source": [
    "dtdm.shape"
   ]
  },
  {
   "cell_type": "code",
   "execution_count": null,
   "id": "wrapped-palestine",
   "metadata": {},
   "outputs": [],
   "source": [
    "dtdm[uniq].shape"
   ]
  },
  {
   "cell_type": "code",
   "execution_count": null,
   "id": "weighted-diesel",
   "metadata": {},
   "outputs": [],
   "source": []
  }
 ],
 "metadata": {
  "kernelspec": {
   "display_name": "Python 3",
   "language": "python",
   "name": "python3"
  },
  "language_info": {
   "codemirror_mode": {
    "name": "ipython",
    "version": 3
   },
   "file_extension": ".py",
   "mimetype": "text/x-python",
   "name": "python",
   "nbconvert_exporter": "python",
   "pygments_lexer": "ipython3",
   "version": "3.6.13"
  }
 },
 "nbformat": 4,
 "nbformat_minor": 5
}
