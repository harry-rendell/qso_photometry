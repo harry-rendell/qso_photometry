{
 "cells": [
  {
   "cell_type": "code",
   "execution_count": 4,
   "id": "electoral-example",
   "metadata": {},
   "outputs": [],
   "source": [
    "import pandas as pd\n",
    "import numpy as np\n",
    "import matplotlib.pyplot as plt\n",
    "from multiprocessing import Pool"
   ]
  },
  {
   "cell_type": "code",
   "execution_count": 5,
   "id": "visible-church",
   "metadata": {},
   "outputs": [],
   "source": [
    "# obj = 'qsos'\n",
    "# ID  = 'uid'\n",
    "obj = 'calibStars'\n",
    "ID  = 'uid_s'\n",
    "band = 'r'"
   ]
  },
  {
   "cell_type": "code",
   "execution_count": 6,
   "id": "weekly-inspector",
   "metadata": {},
   "outputs": [],
   "source": [
    "class analyse_group():\n",
    "    def __init__(self, obj, band, ID):\n",
    "        self.obj  = obj\n",
    "        self.band = band\n",
    "        self.ID   = ID\n",
    "        \n",
    "    def read(self):\n",
    "        self.grouped_all  = pd.read_csv('../data/merged/{}/{}_band/grouped_stats_{}_all.csv' .format(self.obj, self.band, self.band), index_col = self.ID)\n",
    "        self.grouped_sdss = pd.read_csv('../data/merged/{}/{}_band/grouped_stats_{}_sdss.csv'.format(self.obj, self.band, self.band), index_col = self.ID)\n",
    "        self.grouped_ps   = pd.read_csv('../data/merged/{}/{}_band/grouped_stats_{}_ps.csv'  .format(self.obj, self.band, self.band), index_col = self.ID)\n",
    "        self.grouped_ztf  = pd.read_csv('../data/merged/{}/{}_band/grouped_stats_{}_ztf.csv' .format(self.obj, self.band, self.band), index_col = self.ID)\n",
    "        \n",
    "    def intersection():\n",
    "        pass"
   ]
  },
  {
   "cell_type": "code",
   "execution_count": 7,
   "id": "separate-affect",
   "metadata": {},
   "outputs": [],
   "source": [
    "dr = analyse_group(obj, band, ID)\n",
    "dr.read()"
   ]
  },
  {
   "cell_type": "markdown",
   "id": "acute-cathedral",
   "metadata": {},
   "source": [
    "# Stars"
   ]
  },
  {
   "cell_type": "code",
   "execution_count": 8,
   "id": "heavy-earthquake",
   "metadata": {},
   "outputs": [
    {
     "data": {
      "text/plain": [
       "0.04236734134387799"
      ]
     },
     "execution_count": 8,
     "metadata": {},
     "output_type": "execute_result"
    }
   ],
   "source": [
    "dr.grouped_sdss['magerr_mean'].mean()"
   ]
  },
  {
   "cell_type": "code",
   "execution_count": 9,
   "id": "essential-somewhere",
   "metadata": {},
   "outputs": [
    {
     "data": {
      "text/plain": [
       "0.05269315527240609"
      ]
     },
     "execution_count": 9,
     "metadata": {},
     "output_type": "execute_result"
    }
   ],
   "source": [
    "dr.grouped_sdss['magerr_mean'].std()"
   ]
  },
  {
   "cell_type": "code",
   "execution_count": 10,
   "id": "spatial-synthetic",
   "metadata": {},
   "outputs": [
    {
     "data": {
      "text/plain": [
       "19.899289202266203"
      ]
     },
     "execution_count": 10,
     "metadata": {},
     "output_type": "execute_result"
    }
   ],
   "source": [
    "dr.grouped_sdss['mag_mean'].mean()"
   ]
  },
  {
   "cell_type": "code",
   "execution_count": 11,
   "id": "adjusted-duncan",
   "metadata": {},
   "outputs": [
    {
     "data": {
      "text/plain": [
       "1.0894818121417171"
      ]
     },
     "execution_count": 11,
     "metadata": {},
     "output_type": "execute_result"
    }
   ],
   "source": [
    "dr.grouped_sdss['mag_mean'].std()"
   ]
  },
  {
   "cell_type": "markdown",
   "id": "drawn-charity",
   "metadata": {},
   "source": [
    "# Qsos"
   ]
  },
  {
   "cell_type": "code",
   "execution_count": 18,
   "id": "amended-party",
   "metadata": {},
   "outputs": [
    {
     "data": {
      "text/plain": [
       "0.04919342055187154"
      ]
     },
     "execution_count": 18,
     "metadata": {},
     "output_type": "execute_result"
    }
   ],
   "source": [
    "dr.grouped_sdss['magerr_mean'].mean()"
   ]
  },
  {
   "cell_type": "code",
   "execution_count": 25,
   "id": "honest-annual",
   "metadata": {},
   "outputs": [
    {
     "data": {
      "text/plain": [
       "0.0482649213135511"
      ]
     },
     "execution_count": 25,
     "metadata": {},
     "output_type": "execute_result"
    }
   ],
   "source": [
    "dr.grouped_sdss['magerr_mean'].std()"
   ]
  },
  {
   "cell_type": "code",
   "execution_count": 24,
   "id": "functional-string",
   "metadata": {},
   "outputs": [
    {
     "data": {
      "text/plain": [
       "20.444864982995373"
      ]
     },
     "execution_count": 24,
     "metadata": {},
     "output_type": "execute_result"
    }
   ],
   "source": [
    "dr.grouped_sdss['mag_mean'].mean()"
   ]
  },
  {
   "cell_type": "code",
   "execution_count": 23,
   "id": "administrative-level",
   "metadata": {},
   "outputs": [
    {
     "data": {
      "text/plain": [
       "1.0355437586794283"
      ]
     },
     "execution_count": 23,
     "metadata": {},
     "output_type": "execute_result"
    }
   ],
   "source": [
    "dr.grouped_sdss['mag_mean'].std()"
   ]
  },
  {
   "cell_type": "code",
   "execution_count": 17,
   "id": "allied-ecology",
   "metadata": {},
   "outputs": [
    {
     "data": {
      "text/plain": [
       "array([[<AxesSubplot:title={'center':'mean_g'}>]], dtype=object)"
      ]
     },
     "execution_count": 17,
     "metadata": {},
     "output_type": "execute_result"
    },
    {
     "data": {
      "image/png": "[encoded data removed]",
      "text/plain": [
       "<Figure size 432x288 with 1 Axes>"
      ]
     },
     "metadata": {
      "needs_background": "light"
     },
     "output_type": "display_data"
    }
   ],
   "source": [
    "dr.grouped_sdss.hist('mean_g', bins=200)"
   ]
  },
  {
   "cell_type": "code",
   "execution_count": 24,
   "id": "interstate-resident",
   "metadata": {},
   "outputs": [
    {
     "data": {
      "text/plain": [
       "2.734749060463346"
      ]
     },
     "execution_count": 24,
     "metadata": {},
     "output_type": "execute_result"
    }
   ],
   "source": [
    "dr.grouped_sdss['count'].mean()"
   ]
  },
  {
   "cell_type": "code",
   "execution_count": 28,
   "id": "educated-highway",
   "metadata": {},
   "outputs": [
    {
     "data": {
      "text/plain": [
       "10.659212715563646"
      ]
     },
     "execution_count": 28,
     "metadata": {},
     "output_type": "execute_result"
    }
   ],
   "source": [
    "dr.grouped_ps['count_r'].mean()"
   ]
  },
  {
   "cell_type": "code",
   "execution_count": 29,
   "id": "reasonable-optimum",
   "metadata": {},
   "outputs": [
    {
     "data": {
      "text/plain": [
       "49.0"
      ]
     },
     "execution_count": 29,
     "metadata": {},
     "output_type": "execute_result"
    }
   ],
   "source": [
    "dr.grouped_ps['count_r'].max()"
   ]
  },
  {
   "cell_type": "code",
   "execution_count": 31,
   "id": "silver-estate",
   "metadata": {},
   "outputs": [
    {
     "data": {
      "text/html": [
       "<div>\n",
       "<style scoped>\n",
       "    .dataframe tbody tr th:only-of-type {\n",
       "        vertical-align: middle;\n",
       "    }\n",
       "\n",
       "    .dataframe tbody tr th {\n",
       "        vertical-align: top;\n",
       "    }\n",
       "\n",
       "    .dataframe thead th {\n",
       "        text-align: right;\n",
       "    }\n",
       "</style>\n",
       "<table border=\"1\" class=\"dataframe\">\n",
       "  <thead>\n",
       "    <tr style=\"text-align: right;\">\n",
       "      <th></th>\n",
       "      <th>filtercode</th>\n",
       "      <th>mean</th>\n",
       "      <th>mean_ps</th>\n",
       "      <th>meanerr</th>\n",
       "      <th>count</th>\n",
       "    </tr>\n",
       "    <tr>\n",
       "      <th>uid</th>\n",
       "      <th></th>\n",
       "      <th></th>\n",
       "      <th></th>\n",
       "      <th></th>\n",
       "      <th></th>\n",
       "    </tr>\n",
       "  </thead>\n",
       "  <tbody>\n",
       "    <tr>\n",
       "      <th>1</th>\n",
       "      <td>g</td>\n",
       "      <td>NaN</td>\n",
       "      <td>NaN</td>\n",
       "      <td>inf</td>\n",
       "      <td>0.0</td>\n",
       "    </tr>\n",
       "    <tr>\n",
       "      <th>1</th>\n",
       "      <td>r</td>\n",
       "      <td>20.665249</td>\n",
       "      <td>20.648459</td>\n",
       "      <td>0.139490</td>\n",
       "      <td>1.0</td>\n",
       "    </tr>\n",
       "    <tr>\n",
       "      <th>2</th>\n",
       "      <td>g</td>\n",
       "      <td>NaN</td>\n",
       "      <td>NaN</td>\n",
       "      <td>inf</td>\n",
       "      <td>0.0</td>\n",
       "    </tr>\n",
       "    <tr>\n",
       "      <th>2</th>\n",
       "      <td>r</td>\n",
       "      <td>NaN</td>\n",
       "      <td>NaN</td>\n",
       "      <td>inf</td>\n",
       "      <td>0.0</td>\n",
       "    </tr>\n",
       "    <tr>\n",
       "      <th>3</th>\n",
       "      <td>g</td>\n",
       "      <td>20.449835</td>\n",
       "      <td>20.440542</td>\n",
       "      <td>0.139361</td>\n",
       "      <td>1.0</td>\n",
       "    </tr>\n",
       "    <tr>\n",
       "      <th>...</th>\n",
       "      <td>...</td>\n",
       "      <td>...</td>\n",
       "      <td>...</td>\n",
       "      <td>...</td>\n",
       "      <td>...</td>\n",
       "    </tr>\n",
       "    <tr>\n",
       "      <th>526354</th>\n",
       "      <td>r</td>\n",
       "      <td>18.994450</td>\n",
       "      <td>19.027477</td>\n",
       "      <td>0.009471</td>\n",
       "      <td>41.0</td>\n",
       "    </tr>\n",
       "    <tr>\n",
       "      <th>526355</th>\n",
       "      <td>g</td>\n",
       "      <td>20.252085</td>\n",
       "      <td>20.248607</td>\n",
       "      <td>0.018702</td>\n",
       "      <td>37.0</td>\n",
       "    </tr>\n",
       "    <tr>\n",
       "      <th>526355</th>\n",
       "      <td>r</td>\n",
       "      <td>20.107533</td>\n",
       "      <td>20.116156</td>\n",
       "      <td>0.015462</td>\n",
       "      <td>43.0</td>\n",
       "    </tr>\n",
       "    <tr>\n",
       "      <th>526356</th>\n",
       "      <td>g</td>\n",
       "      <td>20.560116</td>\n",
       "      <td>20.526085</td>\n",
       "      <td>0.141672</td>\n",
       "      <td>1.0</td>\n",
       "    </tr>\n",
       "    <tr>\n",
       "      <th>526356</th>\n",
       "      <td>r</td>\n",
       "      <td>20.552927</td>\n",
       "      <td>20.598841</td>\n",
       "      <td>0.028664</td>\n",
       "      <td>24.0</td>\n",
       "    </tr>\n",
       "  </tbody>\n",
       "</table>\n",
       "<p>1069717 rows × 5 columns</p>\n",
       "</div>"
      ],
      "text/plain": [
       "       filtercode       mean    mean_ps   meanerr  count\n",
       "uid                                                     \n",
       "1               g        NaN        NaN       inf    0.0\n",
       "1               r  20.665249  20.648459  0.139490    1.0\n",
       "2               g        NaN        NaN       inf    0.0\n",
       "2               r        NaN        NaN       inf    0.0\n",
       "3               g  20.449835  20.440542  0.139361    1.0\n",
       "...           ...        ...        ...       ...    ...\n",
       "526354          r  18.994450  19.027477  0.009471   41.0\n",
       "526355          g  20.252085  20.248607  0.018702   37.0\n",
       "526355          r  20.107533  20.116156  0.015462   43.0\n",
       "526356          g  20.560116  20.526085  0.141672    1.0\n",
       "526356          r  20.552927  20.598841  0.028664   24.0\n",
       "\n",
       "[1069717 rows x 5 columns]"
      ]
     },
     "execution_count": 31,
     "metadata": {},
     "output_type": "execute_result"
    }
   ],
   "source": [
    "dr.grouped_ztf"
   ]
  },
  {
   "cell_type": "code",
   "execution_count": 44,
   "id": "forty-nerve",
   "metadata": {},
   "outputs": [],
   "source": [
    "ztf = dr.grouped_ztf[dr.grouped_ztf['filtercode']=='r']"
   ]
  },
  {
   "cell_type": "code",
   "execution_count": 37,
   "id": "technical-toilet",
   "metadata": {},
   "outputs": [
    {
     "data": {
      "text/plain": [
       "1413.0"
      ]
     },
     "execution_count": 37,
     "metadata": {},
     "output_type": "execute_result"
    }
   ],
   "source": [
    "dr.grouped_ztf[dr.grouped_ztf['filtercode']=='r']['count'].max()"
   ]
  },
  {
   "cell_type": "code",
   "execution_count": 49,
   "id": "potential-equilibrium",
   "metadata": {},
   "outputs": [],
   "source": [
    "ztf = ztf[~ztf['mean'].isna()]"
   ]
  },
  {
   "cell_type": "code",
   "execution_count": 96,
   "id": "finished-walter",
   "metadata": {},
   "outputs": [
    {
     "data": {
      "text/plain": [
       "(array([1.0000e+00, 0.0000e+00, 2.0000e+00, 3.0000e+00, 0.0000e+00,\n",
       "        0.0000e+00, 2.0000e+00, 5.0000e+00, 1.0000e+00, 6.0000e+00,\n",
       "        4.0000e+00, 1.0000e+00, 2.0000e+00, 2.0000e+00, 3.0000e+00,\n",
       "        4.0000e+00, 1.3000e+01, 7.0000e+00, 7.0000e+00, 7.0000e+00,\n",
       "        6.0000e+00, 1.0000e+01, 1.3000e+01, 1.6000e+01, 1.8000e+01,\n",
       "        1.3000e+01, 1.6000e+01, 1.3000e+01, 2.4000e+01, 1.9000e+01,\n",
       "        2.5000e+01, 3.3000e+01, 2.8000e+01, 2.5000e+01, 3.8000e+01,\n",
       "        3.4000e+01, 6.7000e+01, 4.8000e+01, 5.1000e+01, 6.4000e+01,\n",
       "        8.0000e+01, 7.5000e+01, 9.0000e+01, 9.1000e+01, 8.9000e+01,\n",
       "        1.2600e+02, 1.2200e+02, 1.0700e+02, 1.3800e+02, 1.9000e+02,\n",
       "        1.4800e+02, 1.9000e+02, 1.9000e+02, 2.6100e+02, 2.5500e+02,\n",
       "        2.7300e+02, 3.0700e+02, 3.4900e+02, 4.2800e+02, 4.0900e+02,\n",
       "        4.5200e+02, 4.5900e+02, 5.5100e+02, 5.8600e+02, 6.9900e+02,\n",
       "        7.4800e+02, 7.8200e+02, 8.6000e+02, 9.9400e+02, 9.6800e+02,\n",
       "        1.1120e+03, 1.1760e+03, 1.2960e+03, 1.3250e+03, 1.4850e+03,\n",
       "        1.5920e+03, 1.6990e+03, 1.8310e+03, 1.9990e+03, 2.1370e+03,\n",
       "        2.2900e+03, 2.3930e+03, 2.5640e+03, 2.7330e+03, 2.9220e+03,\n",
       "        3.0370e+03, 3.1400e+03, 3.3390e+03, 3.4140e+03, 3.5890e+03,\n",
       "        3.7750e+03, 3.7070e+03, 3.8300e+03, 4.0910e+03, 4.0370e+03,\n",
       "        4.1440e+03, 4.1270e+03, 4.3300e+03, 4.4070e+03, 4.6320e+03,\n",
       "        4.7920e+03, 4.8540e+03, 5.1280e+03, 5.5540e+03, 5.8570e+03,\n",
       "        6.2630e+03, 6.4840e+03, 6.7380e+03, 7.2900e+03, 7.9100e+03,\n",
       "        9.0410e+03, 1.0077e+04, 1.1012e+04, 1.2015e+04, 1.3180e+04,\n",
       "        1.3918e+04, 1.4188e+04, 1.3303e+04, 1.2363e+04, 1.0708e+04,\n",
       "        9.3660e+03, 8.0390e+03, 6.2970e+03, 4.7260e+03, 3.5350e+03,\n",
       "        2.7050e+03, 2.1720e+03, 1.8650e+03, 1.6960e+03, 1.5000e+03,\n",
       "        1.2680e+03, 1.1030e+03, 9.3600e+02, 7.2600e+02, 6.0900e+02,\n",
       "        4.3400e+02, 3.5200e+02, 2.6200e+02, 2.2800e+02, 1.6100e+02,\n",
       "        1.1100e+02, 8.6000e+01, 5.6000e+01, 4.4000e+01, 1.7000e+01,\n",
       "        1.3000e+01, 1.0000e+01, 7.0000e+00, 3.0000e+00, 1.0000e+00]),\n",
       " array([15.02411099, 15.06942889, 15.1147468 , 15.1600647 , 15.2053826 ,\n",
       "        15.2507005 , 15.29601841, 15.34133631, 15.38665421, 15.43197212,\n",
       "        15.47729002, 15.52260792, 15.56792583, 15.61324373, 15.65856163,\n",
       "        15.70387954, 15.74919744, 15.79451534, 15.83983325, 15.88515115,\n",
       "        15.93046905, 15.97578696, 16.02110486, 16.06642276, 16.11174067,\n",
       "        16.15705857, 16.20237647, 16.24769437, 16.29301228, 16.33833018,\n",
       "        16.38364808, 16.42896599, 16.47428389, 16.51960179, 16.5649197 ,\n",
       "        16.6102376 , 16.6555555 , 16.70087341, 16.74619131, 16.79150921,\n",
       "        16.83682712, 16.88214502, 16.92746292, 16.97278083, 17.01809873,\n",
       "        17.06341663, 17.10873454, 17.15405244, 17.19937034, 17.24468824,\n",
       "        17.29000615, 17.33532405, 17.38064195, 17.42595986, 17.47127776,\n",
       "        17.51659566, 17.56191357, 17.60723147, 17.65254937, 17.69786728,\n",
       "        17.74318518, 17.78850308, 17.83382099, 17.87913889, 17.92445679,\n",
       "        17.9697747 , 18.0150926 , 18.0604105 , 18.1057284 , 18.15104631,\n",
       "        18.19636421, 18.24168211, 18.28700002, 18.33231792, 18.37763582,\n",
       "        18.42295373, 18.46827163, 18.51358953, 18.55890744, 18.60422534,\n",
       "        18.64954324, 18.69486115, 18.74017905, 18.78549695, 18.83081486,\n",
       "        18.87613276, 18.92145066, 18.96676857, 19.01208647, 19.05740437,\n",
       "        19.10272227, 19.14804018, 19.19335808, 19.23867598, 19.28399389,\n",
       "        19.32931179, 19.37462969, 19.4199476 , 19.4652655 , 19.5105834 ,\n",
       "        19.55590131, 19.60121921, 19.64653711, 19.69185502, 19.73717292,\n",
       "        19.78249082, 19.82780873, 19.87312663, 19.91844453, 19.96376244,\n",
       "        20.00908034, 20.05439824, 20.09971614, 20.14503405, 20.19035195,\n",
       "        20.23566985, 20.28098776, 20.32630566, 20.37162356, 20.41694147,\n",
       "        20.46225937, 20.50757727, 20.55289518, 20.59821308, 20.64353098,\n",
       "        20.68884889, 20.73416679, 20.77948469, 20.8248026 , 20.8701205 ,\n",
       "        20.9154384 , 20.9607563 , 21.00607421, 21.05139211, 21.09671001,\n",
       "        21.14202792, 21.18734582, 21.23266372, 21.27798163, 21.32329953,\n",
       "        21.36861743, 21.41393534, 21.45925324, 21.50457114, 21.54988905,\n",
       "        21.59520695, 21.64052485, 21.68584276, 21.73116066, 21.77647856,\n",
       "        21.82179647]),\n",
       " <BarContainer object of 150 artists>)"
      ]
     },
     "execution_count": 96,
     "metadata": {},
     "output_type": "execute_result"
    },
    {
     "data": {
      "image/png": "[encoded data removed]",
      "text/plain": [
       "<Figure size 1440x576 with 1 Axes>"
      ]
     },
     "metadata": {
      "needs_background": "light"
     },
     "output_type": "display_data"
    }
   ],
   "source": [
    "fig, ax = plt.subplots(1,1, figsize=(20,8))\n",
    "ax.hist(sdss['mean_r'], bins=150, alpha=0.5)\n",
    "ax.hist(ps['mean_r'], bins=150, alpha=0.5)\n",
    "ax.hist(ztf['mean_ps'], bins=150, alpha=0.5)"
   ]
  },
  {
   "cell_type": "code",
   "execution_count": 93,
   "id": "imperial-clerk",
   "metadata": {},
   "outputs": [
    {
     "data": {
      "text/html": [
       "<div>\n",
       "<style scoped>\n",
       "    .dataframe tbody tr th:only-of-type {\n",
       "        vertical-align: middle;\n",
       "    }\n",
       "\n",
       "    .dataframe tbody tr th {\n",
       "        vertical-align: top;\n",
       "    }\n",
       "\n",
       "    .dataframe thead th {\n",
       "        text-align: right;\n",
       "    }\n",
       "</style>\n",
       "<table border=\"1\" class=\"dataframe\">\n",
       "  <thead>\n",
       "    <tr style=\"text-align: right;\">\n",
       "      <th></th>\n",
       "      <th>filtercode</th>\n",
       "      <th>mean</th>\n",
       "      <th>mean_ps</th>\n",
       "      <th>meanerr</th>\n",
       "      <th>count</th>\n",
       "    </tr>\n",
       "    <tr>\n",
       "      <th>uid</th>\n",
       "      <th></th>\n",
       "      <th></th>\n",
       "      <th></th>\n",
       "      <th></th>\n",
       "      <th></th>\n",
       "    </tr>\n",
       "  </thead>\n",
       "  <tbody>\n",
       "    <tr>\n",
       "      <th>3</th>\n",
       "      <td>r</td>\n",
       "      <td>20.283464</td>\n",
       "      <td>20.319208</td>\n",
       "      <td>0.098101</td>\n",
       "      <td>2.0</td>\n",
       "    </tr>\n",
       "    <tr>\n",
       "      <th>4</th>\n",
       "      <td>r</td>\n",
       "      <td>19.834992</td>\n",
       "      <td>19.874222</td>\n",
       "      <td>0.016110</td>\n",
       "      <td>36.0</td>\n",
       "    </tr>\n",
       "    <tr>\n",
       "      <th>5</th>\n",
       "      <td>r</td>\n",
       "      <td>20.518247</td>\n",
       "      <td>20.572451</td>\n",
       "      <td>0.049656</td>\n",
       "      <td>8.0</td>\n",
       "    </tr>\n",
       "    <tr>\n",
       "      <th>6</th>\n",
       "      <td>r</td>\n",
       "      <td>19.245140</td>\n",
       "      <td>19.328717</td>\n",
       "      <td>0.011227</td>\n",
       "      <td>38.0</td>\n",
       "    </tr>\n",
       "    <tr>\n",
       "      <th>7</th>\n",
       "      <td>r</td>\n",
       "      <td>19.877387</td>\n",
       "      <td>19.874797</td>\n",
       "      <td>0.018154</td>\n",
       "      <td>34.0</td>\n",
       "    </tr>\n",
       "    <tr>\n",
       "      <th>...</th>\n",
       "      <td>...</td>\n",
       "      <td>...</td>\n",
       "      <td>...</td>\n",
       "      <td>...</td>\n",
       "      <td>...</td>\n",
       "    </tr>\n",
       "    <tr>\n",
       "      <th>526351</th>\n",
       "      <td>r</td>\n",
       "      <td>20.617227</td>\n",
       "      <td>20.653580</td>\n",
       "      <td>0.052768</td>\n",
       "      <td>7.0</td>\n",
       "    </tr>\n",
       "    <tr>\n",
       "      <th>526353</th>\n",
       "      <td>r</td>\n",
       "      <td>19.917818</td>\n",
       "      <td>19.978975</td>\n",
       "      <td>0.011913</td>\n",
       "      <td>60.0</td>\n",
       "    </tr>\n",
       "    <tr>\n",
       "      <th>526354</th>\n",
       "      <td>r</td>\n",
       "      <td>18.994450</td>\n",
       "      <td>19.027477</td>\n",
       "      <td>0.009471</td>\n",
       "      <td>41.0</td>\n",
       "    </tr>\n",
       "    <tr>\n",
       "      <th>526355</th>\n",
       "      <td>r</td>\n",
       "      <td>20.107533</td>\n",
       "      <td>20.116156</td>\n",
       "      <td>0.015462</td>\n",
       "      <td>43.0</td>\n",
       "    </tr>\n",
       "    <tr>\n",
       "      <th>526356</th>\n",
       "      <td>r</td>\n",
       "      <td>20.552927</td>\n",
       "      <td>20.598841</td>\n",
       "      <td>0.028664</td>\n",
       "      <td>24.0</td>\n",
       "    </tr>\n",
       "  </tbody>\n",
       "</table>\n",
       "<p>326836 rows × 5 columns</p>\n",
       "</div>"
      ],
      "text/plain": [
       "       filtercode       mean    mean_ps   meanerr  count\n",
       "uid                                                     \n",
       "3               r  20.283464  20.319208  0.098101    2.0\n",
       "4               r  19.834992  19.874222  0.016110   36.0\n",
       "5               r  20.518247  20.572451  0.049656    8.0\n",
       "6               r  19.245140  19.328717  0.011227   38.0\n",
       "7               r  19.877387  19.874797  0.018154   34.0\n",
       "...           ...        ...        ...       ...    ...\n",
       "526351          r  20.617227  20.653580  0.052768    7.0\n",
       "526353          r  19.917818  19.978975  0.011913   60.0\n",
       "526354          r  18.994450  19.027477  0.009471   41.0\n",
       "526355          r  20.107533  20.116156  0.015462   43.0\n",
       "526356          r  20.552927  20.598841  0.028664   24.0\n",
       "\n",
       "[326836 rows x 5 columns]"
      ]
     },
     "execution_count": 93,
     "metadata": {},
     "output_type": "execute_result"
    }
   ],
   "source": [
    "ztf"
   ]
  },
  {
   "cell_type": "code",
   "execution_count": 97,
   "id": "intermediate-motorcycle",
   "metadata": {},
   "outputs": [],
   "source": [
    "df = pd.read_csv('../data/merged/qsos/meta_data/grouped_stats.csv')"
   ]
  },
  {
   "cell_type": "code",
   "execution_count": 104,
   "id": "illegal-network",
   "metadata": {},
   "outputs": [],
   "source": [
    "df = df[df['mag_mean'] > 15]"
   ]
  },
  {
   "cell_type": "code",
   "execution_count": null,
   "id": "recreational-arthritis",
   "metadata": {},
   "outputs": [],
   "source": []
  },
  {
   "cell_type": "code",
   "execution_count": 123,
   "id": "bright-reward",
   "metadata": {},
   "outputs": [
    {
     "data": {
      "text/plain": [
       "Text(0.5, 1.0, 'Quasar magnitude distribution')"
      ]
     },
     "execution_count": 123,
     "metadata": {},
     "output_type": "execute_result"
    },
    {
     "data": {
      "image/png": "[encoded data removed]",
      "text/plain": [
       "<Figure size 1440x720 with 1 Axes>"
      ]
     },
     "metadata": {
      "needs_background": "light"
     },
     "output_type": "display_data"
    }
   ],
   "source": [
    "fig, ax = plt.subplots(1,1, figsize=(20,10))\n",
    "df['mag_mean'].hist(bins=150, ax = ax)\n",
    "plt.xlabel('r band magnitude', fontsize=25)\n",
    "plt.xticks(fontsize=25)\n",
    "plt.title('Quasar magnitude distribution', fontsize=25)"
   ]
  },
  {
   "cell_type": "code",
   "execution_count": 108,
   "id": "mediterranean-auckland",
   "metadata": {},
   "outputs": [
    {
     "data": {
      "text/plain": [
       "377092"
      ]
     },
     "execution_count": 108,
     "metadata": {},
     "output_type": "execute_result"
    }
   ],
   "source": [
    "(df['mag_mean']<21).sum()"
   ]
  },
  {
   "cell_type": "code",
   "execution_count": null,
   "id": "complimentary-northwest",
   "metadata": {},
   "outputs": [],
   "source": []
  }
 ],
 "metadata": {
  "kernelspec": {
   "display_name": "Python 3",
   "language": "python",
   "name": "python3"
  },
  "language_info": {
   "codemirror_mode": {
    "name": "ipython",
    "version": 3
   },
   "file_extension": ".py",
   "mimetype": "text/x-python",
   "name": "python",
   "nbconvert_exporter": "python",
   "pygments_lexer": "ipython3",
   "version": "3.6.13"
  }
 },
 "nbformat": 4,
 "nbformat_minor": 5
}
